{
 "cells": [
  {
   "cell_type": "code",
   "execution_count": 1,
   "metadata": {},
   "outputs": [],
   "source": [
    "# modelling potential:\n",
    "\n",
    "# df_activity: medium but dataset too small\n",
    "# df_weight: low\n",
    "# df_sec: aggregate to 1/5/15 min interval\n",
    "# df_min: intensity?\n",
    "# df_hr: lifestyle trends"
   ]
  },
  {
   "cell_type": "markdown",
   "metadata": {},
   "source": [
    "### Contents\n",
    "\n",
    "- [EDA](#EDA)"
   ]
  },
  {
   "cell_type": "markdown",
   "metadata": {},
   "source": [
    "### Header"
   ]
  },
  {
   "cell_type": "code",
   "execution_count": 2,
   "metadata": {},
   "outputs": [],
   "source": [
    "# user configuration"
   ]
  },
  {
   "cell_type": "code",
   "execution_count": 3,
   "metadata": {},
   "outputs": [],
   "source": [
    "# import libraries\n",
    "\n",
    "# maths\n",
    "import numpy as np\n",
    "import pandas as pd\n",
    "\n",
    "# visual\n",
    "#from matplotlib_venn import venn2\n",
    "import seaborn as sns\n",
    "import matplotlib.pyplot as plt\n",
    "%matplotlib inline\n",
    "\n",
    "# modelling\n",
    "from sklearn.linear_model import LinearRegression, LogisticRegression, Ridge, Lasso, ElasticNet\n",
    "from sklearn.model_selection import train_test_split,cross_val_score,GridSearchCV\n",
    "from sklearn.preprocessing import StandardScaler,PolynomialFeatures\n",
    "from sklearn.metrics import roc_auc_score, roc_curve, confusion_matrix,accuracy_score,r2_score,mean_squared_error\n",
    "from sklearn.pipeline import Pipeline\n",
    "from sklearn.utils import resample, shuffle\n",
    "from sklearn.neighbors import KNeighborsRegressor, KNeighborsClassifier\n",
    "from sklearn.tree import DecisionTreeClassifier\n",
    "from sklearn.ensemble import AdaBoostClassifier,RandomForestClassifier, RandomForestRegressor, GradientBoostingClassifier\n",
    "\n",
    "# Others\n",
    "import warnings\n",
    "warnings.filterwarnings(\"ignore\")\n",
    "from IPython.display import Image"
   ]
  },
  {
   "cell_type": "markdown",
   "metadata": {},
   "source": [
    "### Import Data"
   ]
  },
  {
   "cell_type": "code",
   "execution_count": 4,
   "metadata": {},
   "outputs": [],
   "source": [
    "# file paths\n",
    "\n",
    "input_path = '../data/1_input/'\n",
    "clean_path = '../data/2_clean/'\n",
    "preprocess_path = '../data/3_preprocess/'\n",
    "output_path = '../data/4_output/'\n",
    "\n",
    "folders = ['Fitabase Data 3.12.16-4.11.16','Fitabase Data 4.12.16-5.12.16']"
   ]
  },
  {
   "cell_type": "code",
   "execution_count": 5,
   "metadata": {},
   "outputs": [],
   "source": [
    "# import clean data\n",
    "\n",
    "df_activity = pd.read_csv(clean_path + 'activity.csv')\n",
    "df_weight = pd.read_csv(clean_path + 'weight.csv')\n",
    "\n",
    "df_sec = pd.read_csv(clean_path + 'seconds.csv')\n",
    "df_min = pd.read_csv(clean_path + 'minutes.csv')\n",
    "df_hr = pd.read_csv(clean_path + 'hours.csv')"
   ]
  },
  {
   "cell_type": "markdown",
   "metadata": {},
   "source": [
    "### Functions"
   ]
  },
  {
   "cell_type": "code",
   "execution_count": null,
   "metadata": {},
   "outputs": [],
   "source": []
  },
  {
   "cell_type": "markdown",
   "metadata": {},
   "source": [
    "### Data Overview"
   ]
  },
  {
   "cell_type": "code",
   "execution_count": 6,
   "metadata": {},
   "outputs": [
    {
     "name": "stdout",
     "output_type": "stream",
     "text": [
      "(457, 17)\n"
     ]
    },
    {
     "data": {
      "text/html": [
       "<div>\n",
       "<style scoped>\n",
       "    .dataframe tbody tr th:only-of-type {\n",
       "        vertical-align: middle;\n",
       "    }\n",
       "\n",
       "    .dataframe tbody tr th {\n",
       "        vertical-align: top;\n",
       "    }\n",
       "\n",
       "    .dataframe thead th {\n",
       "        text-align: right;\n",
       "    }\n",
       "</style>\n",
       "<table border=\"1\" class=\"dataframe\">\n",
       "  <thead>\n",
       "    <tr style=\"text-align: right;\">\n",
       "      <th></th>\n",
       "      <th>id</th>\n",
       "      <th>timestamp</th>\n",
       "      <th>dayweek</th>\n",
       "      <th>year</th>\n",
       "      <th>month</th>\n",
       "      <th>day</th>\n",
       "      <th>steps</th>\n",
       "      <th>calories</th>\n",
       "      <th>dist_total</th>\n",
       "      <th>dist_act_high</th>\n",
       "      <th>dist_act_med</th>\n",
       "      <th>dist_act_low</th>\n",
       "      <th>dist_act_sede</th>\n",
       "      <th>mins_act_high</th>\n",
       "      <th>mins_act_med</th>\n",
       "      <th>mins_act_low</th>\n",
       "      <th>mins_act_sede</th>\n",
       "    </tr>\n",
       "  </thead>\n",
       "  <tbody>\n",
       "    <tr>\n",
       "      <th>0</th>\n",
       "      <td>1</td>\n",
       "      <td>2016-03-25</td>\n",
       "      <td>Friday</td>\n",
       "      <td>2016</td>\n",
       "      <td>3</td>\n",
       "      <td>25</td>\n",
       "      <td>11004</td>\n",
       "      <td>1819</td>\n",
       "      <td>7.10</td>\n",
       "      <td>2.57</td>\n",
       "      <td>0.46</td>\n",
       "      <td>4.07</td>\n",
       "      <td>0.0</td>\n",
       "      <td>33</td>\n",
       "      <td>12</td>\n",
       "      <td>205</td>\n",
       "      <td>804</td>\n",
       "    </tr>\n",
       "    <tr>\n",
       "      <th>1</th>\n",
       "      <td>1</td>\n",
       "      <td>2016-03-26</td>\n",
       "      <td>Saturday</td>\n",
       "      <td>2016</td>\n",
       "      <td>3</td>\n",
       "      <td>26</td>\n",
       "      <td>17609</td>\n",
       "      <td>2154</td>\n",
       "      <td>11.56</td>\n",
       "      <td>6.92</td>\n",
       "      <td>0.73</td>\n",
       "      <td>3.91</td>\n",
       "      <td>0.0</td>\n",
       "      <td>89</td>\n",
       "      <td>17</td>\n",
       "      <td>274</td>\n",
       "      <td>588</td>\n",
       "    </tr>\n",
       "    <tr>\n",
       "      <th>2</th>\n",
       "      <td>1</td>\n",
       "      <td>2016-03-27</td>\n",
       "      <td>Sunday</td>\n",
       "      <td>2016</td>\n",
       "      <td>3</td>\n",
       "      <td>27</td>\n",
       "      <td>12736</td>\n",
       "      <td>1944</td>\n",
       "      <td>8.53</td>\n",
       "      <td>4.66</td>\n",
       "      <td>0.16</td>\n",
       "      <td>3.71</td>\n",
       "      <td>0.0</td>\n",
       "      <td>56</td>\n",
       "      <td>5</td>\n",
       "      <td>268</td>\n",
       "      <td>605</td>\n",
       "    </tr>\n",
       "    <tr>\n",
       "      <th>3</th>\n",
       "      <td>1</td>\n",
       "      <td>2016-03-28</td>\n",
       "      <td>Monday</td>\n",
       "      <td>2016</td>\n",
       "      <td>3</td>\n",
       "      <td>28</td>\n",
       "      <td>13231</td>\n",
       "      <td>1932</td>\n",
       "      <td>8.93</td>\n",
       "      <td>3.19</td>\n",
       "      <td>0.79</td>\n",
       "      <td>4.95</td>\n",
       "      <td>0.0</td>\n",
       "      <td>39</td>\n",
       "      <td>20</td>\n",
       "      <td>224</td>\n",
       "      <td>1080</td>\n",
       "    </tr>\n",
       "    <tr>\n",
       "      <th>4</th>\n",
       "      <td>1</td>\n",
       "      <td>2016-03-29</td>\n",
       "      <td>Tuesday</td>\n",
       "      <td>2016</td>\n",
       "      <td>3</td>\n",
       "      <td>29</td>\n",
       "      <td>12041</td>\n",
       "      <td>1886</td>\n",
       "      <td>7.86</td>\n",
       "      <td>2.16</td>\n",
       "      <td>1.09</td>\n",
       "      <td>4.61</td>\n",
       "      <td>0.0</td>\n",
       "      <td>28</td>\n",
       "      <td>28</td>\n",
       "      <td>243</td>\n",
       "      <td>763</td>\n",
       "    </tr>\n",
       "  </tbody>\n",
       "</table>\n",
       "</div>"
      ],
      "text/plain": [
       "   id   timestamp   dayweek  year  month  day  steps  calories  dist_total  \\\n",
       "0   1  2016-03-25    Friday  2016      3   25  11004      1819        7.10   \n",
       "1   1  2016-03-26  Saturday  2016      3   26  17609      2154       11.56   \n",
       "2   1  2016-03-27    Sunday  2016      3   27  12736      1944        8.53   \n",
       "3   1  2016-03-28    Monday  2016      3   28  13231      1932        8.93   \n",
       "4   1  2016-03-29   Tuesday  2016      3   29  12041      1886        7.86   \n",
       "\n",
       "   dist_act_high  dist_act_med  dist_act_low  dist_act_sede  mins_act_high  \\\n",
       "0           2.57          0.46          4.07            0.0             33   \n",
       "1           6.92          0.73          3.91            0.0             89   \n",
       "2           4.66          0.16          3.71            0.0             56   \n",
       "3           3.19          0.79          4.95            0.0             39   \n",
       "4           2.16          1.09          4.61            0.0             28   \n",
       "\n",
       "   mins_act_med  mins_act_low  mins_act_sede  \n",
       "0            12           205            804  \n",
       "1            17           274            588  \n",
       "2             5           268            605  \n",
       "3            20           224           1080  \n",
       "4            28           243            763  "
      ]
     },
     "execution_count": 6,
     "metadata": {},
     "output_type": "execute_result"
    }
   ],
   "source": [
    "print(df_activity.shape)\n",
    "df_activity.head()"
   ]
  },
  {
   "cell_type": "code",
   "execution_count": 7,
   "metadata": {},
   "outputs": [
    {
     "data": {
      "text/plain": [
       "Index(['id', 'timestamp', 'dayweek', 'year', 'month', 'day', 'steps',\n",
       "       'calories', 'dist_total', 'dist_act_high', 'dist_act_med',\n",
       "       'dist_act_low', 'dist_act_sede', 'mins_act_high', 'mins_act_med',\n",
       "       'mins_act_low', 'mins_act_sede'],\n",
       "      dtype='object')"
      ]
     },
     "execution_count": 7,
     "metadata": {},
     "output_type": "execute_result"
    }
   ],
   "source": [
    "df_activity.columns"
   ]
  },
  {
   "cell_type": "markdown",
   "metadata": {},
   "source": [
    "### Preprocess Data"
   ]
  },
  {
   "cell_type": "code",
   "execution_count": 8,
   "metadata": {},
   "outputs": [],
   "source": [
    "mask_steps = df_activity['steps'] >= 1000\n",
    "df_activity_2 = df_activity[mask_steps]"
   ]
  },
  {
   "cell_type": "code",
   "execution_count": 9,
   "metadata": {},
   "outputs": [],
   "source": [
    "# df_activity['mins_total'] = df_activity['mins_act_high'] + df_activity['mins_act_med'] + df_activity['mins_act_low'] + df_activity['mins_act_sede']\n",
    "\n",
    "# df_activity['mins_pct_high'] = df_activity['mins_act_high'] / df_activity['mins_total']\n",
    "# df_activity['mins_pct_med'] = df_activity['mins_act_med'] / df_activity['mins_total']\n",
    "# df_activity['mins_pct_low'] = df_activity['mins_act_low'] / df_activity['mins_total']\n",
    "# df_activity['mins_pct_sede'] = df_activity['mins_act_sede'] / df_activity['mins_total']"
   ]
  },
  {
   "cell_type": "code",
   "execution_count": 10,
   "metadata": {},
   "outputs": [],
   "source": [
    "# df_activity.head()"
   ]
  },
  {
   "cell_type": "code",
   "execution_count": 11,
   "metadata": {},
   "outputs": [],
   "source": [
    "cols = ['timestamp','year','month', 'day']\n",
    "df_activity_2.drop(columns=cols,inplace=True)"
   ]
  },
  {
   "cell_type": "code",
   "execution_count": 12,
   "metadata": {},
   "outputs": [
    {
     "name": "stdout",
     "output_type": "stream",
     "text": [
      "(370, 18)\n"
     ]
    },
    {
     "data": {
      "text/html": [
       "<div>\n",
       "<style scoped>\n",
       "    .dataframe tbody tr th:only-of-type {\n",
       "        vertical-align: middle;\n",
       "    }\n",
       "\n",
       "    .dataframe tbody tr th {\n",
       "        vertical-align: top;\n",
       "    }\n",
       "\n",
       "    .dataframe thead th {\n",
       "        text-align: right;\n",
       "    }\n",
       "</style>\n",
       "<table border=\"1\" class=\"dataframe\">\n",
       "  <thead>\n",
       "    <tr style=\"text-align: right;\">\n",
       "      <th></th>\n",
       "      <th>id</th>\n",
       "      <th>steps</th>\n",
       "      <th>calories</th>\n",
       "      <th>dist_total</th>\n",
       "      <th>dist_act_high</th>\n",
       "      <th>dist_act_med</th>\n",
       "      <th>dist_act_low</th>\n",
       "      <th>dist_act_sede</th>\n",
       "      <th>mins_act_high</th>\n",
       "      <th>mins_act_med</th>\n",
       "      <th>mins_act_low</th>\n",
       "      <th>mins_act_sede</th>\n",
       "      <th>dayweek_Monday</th>\n",
       "      <th>dayweek_Saturday</th>\n",
       "      <th>dayweek_Sunday</th>\n",
       "      <th>dayweek_Thursday</th>\n",
       "      <th>dayweek_Tuesday</th>\n",
       "      <th>dayweek_Wednesday</th>\n",
       "    </tr>\n",
       "  </thead>\n",
       "  <tbody>\n",
       "    <tr>\n",
       "      <th>0</th>\n",
       "      <td>1</td>\n",
       "      <td>11004</td>\n",
       "      <td>1819</td>\n",
       "      <td>7.10</td>\n",
       "      <td>2.57</td>\n",
       "      <td>0.46</td>\n",
       "      <td>4.07</td>\n",
       "      <td>0.0</td>\n",
       "      <td>33</td>\n",
       "      <td>12</td>\n",
       "      <td>205</td>\n",
       "      <td>804</td>\n",
       "      <td>0</td>\n",
       "      <td>0</td>\n",
       "      <td>0</td>\n",
       "      <td>0</td>\n",
       "      <td>0</td>\n",
       "      <td>0</td>\n",
       "    </tr>\n",
       "    <tr>\n",
       "      <th>1</th>\n",
       "      <td>1</td>\n",
       "      <td>17609</td>\n",
       "      <td>2154</td>\n",
       "      <td>11.56</td>\n",
       "      <td>6.92</td>\n",
       "      <td>0.73</td>\n",
       "      <td>3.91</td>\n",
       "      <td>0.0</td>\n",
       "      <td>89</td>\n",
       "      <td>17</td>\n",
       "      <td>274</td>\n",
       "      <td>588</td>\n",
       "      <td>0</td>\n",
       "      <td>1</td>\n",
       "      <td>0</td>\n",
       "      <td>0</td>\n",
       "      <td>0</td>\n",
       "      <td>0</td>\n",
       "    </tr>\n",
       "    <tr>\n",
       "      <th>2</th>\n",
       "      <td>1</td>\n",
       "      <td>12736</td>\n",
       "      <td>1944</td>\n",
       "      <td>8.53</td>\n",
       "      <td>4.66</td>\n",
       "      <td>0.16</td>\n",
       "      <td>3.71</td>\n",
       "      <td>0.0</td>\n",
       "      <td>56</td>\n",
       "      <td>5</td>\n",
       "      <td>268</td>\n",
       "      <td>605</td>\n",
       "      <td>0</td>\n",
       "      <td>0</td>\n",
       "      <td>1</td>\n",
       "      <td>0</td>\n",
       "      <td>0</td>\n",
       "      <td>0</td>\n",
       "    </tr>\n",
       "    <tr>\n",
       "      <th>3</th>\n",
       "      <td>1</td>\n",
       "      <td>13231</td>\n",
       "      <td>1932</td>\n",
       "      <td>8.93</td>\n",
       "      <td>3.19</td>\n",
       "      <td>0.79</td>\n",
       "      <td>4.95</td>\n",
       "      <td>0.0</td>\n",
       "      <td>39</td>\n",
       "      <td>20</td>\n",
       "      <td>224</td>\n",
       "      <td>1080</td>\n",
       "      <td>1</td>\n",
       "      <td>0</td>\n",
       "      <td>0</td>\n",
       "      <td>0</td>\n",
       "      <td>0</td>\n",
       "      <td>0</td>\n",
       "    </tr>\n",
       "    <tr>\n",
       "      <th>4</th>\n",
       "      <td>1</td>\n",
       "      <td>12041</td>\n",
       "      <td>1886</td>\n",
       "      <td>7.86</td>\n",
       "      <td>2.16</td>\n",
       "      <td>1.09</td>\n",
       "      <td>4.61</td>\n",
       "      <td>0.0</td>\n",
       "      <td>28</td>\n",
       "      <td>28</td>\n",
       "      <td>243</td>\n",
       "      <td>763</td>\n",
       "      <td>0</td>\n",
       "      <td>0</td>\n",
       "      <td>0</td>\n",
       "      <td>0</td>\n",
       "      <td>1</td>\n",
       "      <td>0</td>\n",
       "    </tr>\n",
       "  </tbody>\n",
       "</table>\n",
       "</div>"
      ],
      "text/plain": [
       "   id  steps  calories  dist_total  dist_act_high  dist_act_med  dist_act_low  \\\n",
       "0   1  11004      1819        7.10           2.57          0.46          4.07   \n",
       "1   1  17609      2154       11.56           6.92          0.73          3.91   \n",
       "2   1  12736      1944        8.53           4.66          0.16          3.71   \n",
       "3   1  13231      1932        8.93           3.19          0.79          4.95   \n",
       "4   1  12041      1886        7.86           2.16          1.09          4.61   \n",
       "\n",
       "   dist_act_sede  mins_act_high  mins_act_med  mins_act_low  mins_act_sede  \\\n",
       "0            0.0             33            12           205            804   \n",
       "1            0.0             89            17           274            588   \n",
       "2            0.0             56             5           268            605   \n",
       "3            0.0             39            20           224           1080   \n",
       "4            0.0             28            28           243            763   \n",
       "\n",
       "   dayweek_Monday  dayweek_Saturday  dayweek_Sunday  dayweek_Thursday  \\\n",
       "0               0                 0               0                 0   \n",
       "1               0                 1               0                 0   \n",
       "2               0                 0               1                 0   \n",
       "3               1                 0               0                 0   \n",
       "4               0                 0               0                 0   \n",
       "\n",
       "   dayweek_Tuesday  dayweek_Wednesday  \n",
       "0                0                  0  \n",
       "1                0                  0  \n",
       "2                0                  0  \n",
       "3                0                  0  \n",
       "4                1                  0  "
      ]
     },
     "execution_count": 12,
     "metadata": {},
     "output_type": "execute_result"
    }
   ],
   "source": [
    "df_activity_2 = pd.get_dummies(df_activity_2,columns=['dayweek'],drop_first=True)\n",
    "\n",
    "print(df_activity_2.shape)\n",
    "df_activity_2.head()"
   ]
  },
  {
   "cell_type": "markdown",
   "metadata": {},
   "source": [
    "### Create Features and Target"
   ]
  },
  {
   "cell_type": "code",
   "execution_count": 14,
   "metadata": {},
   "outputs": [],
   "source": [
    "target = 'id'\n",
    "features = [x for x in df_activity_2.columns if x != target]\n",
    "\n",
    "X = df_activity_2[features].values\n",
    "y = df_activity_2[target].values\n",
    "\n",
    "X_train, X_test, y_train, y_test = train_test_split(X, y, train_size=0.7, test_size=0.3,stratify=y,random_state=3050)"
   ]
  },
  {
   "cell_type": "code",
   "execution_count": 15,
   "metadata": {},
   "outputs": [
    {
     "name": "stdout",
     "output_type": "stream",
     "text": [
      "(259, 17)\n",
      "(111, 17)\n",
      "(259,)\n",
      "(111,)\n"
     ]
    }
   ],
   "source": [
    "print(X_train.shape)\n",
    "print(X_test.shape)\n",
    "print(y_train.shape)\n",
    "print(y_test.shape)"
   ]
  },
  {
   "cell_type": "code",
   "execution_count": 16,
   "metadata": {},
   "outputs": [],
   "source": [
    "#df_activity_2.iloc[:,:12]\n",
    "#df_activity_2.iloc[:,-6:]\n",
    "#X_train[0,:11]"
   ]
  },
  {
   "cell_type": "code",
   "execution_count": 17,
   "metadata": {},
   "outputs": [],
   "source": [
    "ss = StandardScaler()\n",
    "ss.fit(X_train[:,:11])\n",
    "\n",
    "# X_train = ss.transform(X_train)\n",
    "# X_test = ss.transform(X_test)\n",
    "X_train_scale = ss.transform(X_train[:,:11])\n",
    "X_test_scale = ss.transform(X_test[:,:11])\n",
    "\n",
    "X_train[:,:11] = X_train_scale\n",
    "X_test[:,:11] = X_test_scale\n",
    "\n",
    "#X_train_dum = X_train[:,-6:]\n",
    "#X_test_dum = X_test[:,-6:]"
   ]
  },
  {
   "cell_type": "code",
   "execution_count": 19,
   "metadata": {},
   "outputs": [
    {
     "name": "stdout",
     "output_type": "stream",
     "text": [
      "(259, 17)\n",
      "(111, 17)\n",
      "(259, 11)\n",
      "(111, 11)\n"
     ]
    }
   ],
   "source": [
    "print(X_train.shape)\n",
    "print(X_test.shape)\n",
    "print(X_train_scale.shape)\n",
    "print(X_test_scale.shape)\n",
    "# print(X_train_dum.shape)\n",
    "# print(X_test_dum.shape)"
   ]
  },
  {
   "cell_type": "markdown",
   "metadata": {},
   "source": [
    "### Logistic Regression Model"
   ]
  },
  {
   "cell_type": "code",
   "execution_count": 20,
   "metadata": {},
   "outputs": [],
   "source": [
    "# init model\n",
    "\n",
    "logreg = LogisticRegression()"
   ]
  },
  {
   "cell_type": "code",
   "execution_count": 21,
   "metadata": {
    "scrolled": true
   },
   "outputs": [
    {
     "name": "stdout",
     "output_type": "stream",
     "text": [
      "score: 0.5277344877344877 [0.46590909 0.5952381  0.51388889 0.53030303 0.53333333]\n",
      "mse: -87.52849206349205 [-77.85227273 -84.42857143 -91.38888889 -93.77272727 -90.2       ]\n",
      "r2: 0.16956774888889606 [0.25414687 0.20773687 0.15487983 0.08757595 0.14349922]\n"
     ]
    }
   ],
   "source": [
    "# perform cross validation\n",
    "\n",
    "score = cross_val_score(logreg,X,y,cv=5)\n",
    "mse = cross_val_score(logreg,X,y,cv=5,scoring='neg_mean_squared_error')\n",
    "r2 = cross_val_score(logreg,X,y,cv=5,scoring='r2')\n",
    "\n",
    "print('score:',score.mean(),score)\n",
    "print('mse:',mse.mean(),mse)\n",
    "print('r2:',r2.mean(),r2)"
   ]
  },
  {
   "cell_type": "code",
   "execution_count": 24,
   "metadata": {},
   "outputs": [
    {
     "name": "stdout",
     "output_type": "stream",
     "text": [
      "train r2: 0.6525096525096525\n",
      "test r2: 0.36036036036036034\n",
      "rmse: 11.114068675445663\n"
     ]
    }
   ],
   "source": [
    "# fit model\n",
    "\n",
    "logreg.fit(X_train, y_train)\n",
    "\n",
    "# score model\n",
    "print(\"train r2:\",logreg.score(X_train, y_train))\n",
    "print(\"test r2:\",logreg.score(X_test, y_test))\n",
    "\n",
    "# validate model\n",
    "y_pred = logreg.predict(X_test)\n",
    "rmse = np.sqrt(mean_squared_error(y_test,y_pred))\n",
    "print(\"rmse:\",rmse)"
   ]
  },
  {
   "cell_type": "code",
   "execution_count": 25,
   "metadata": {},
   "outputs": [],
   "source": [
    "cols = ['y_test']\n",
    "df_result = pd.DataFrame(y_test,columns=cols)\n",
    "\n",
    "df_result['y_pred'] = y_pred\n",
    "df_result['result'] = False\n",
    "\n",
    "for idx,row in df_result.iterrows():  \n",
    "    \n",
    "    if row['y_test'] == row['y_pred']:\n",
    "        df_result.at[idx,'result'] = True\n",
    "        \n",
    "df_result\n",
    "#df_result.to_csv('df_result.csv')"
   ]
  },
  {
   "cell_type": "markdown",
   "metadata": {},
   "source": [
    "### KNN Model"
   ]
  },
  {
   "cell_type": "code",
   "execution_count": 29,
   "metadata": {},
   "outputs": [],
   "source": [
    "knn = KNeighborsClassifier(n_neighbors=2)\n",
    "\n",
    "#n_neighbors=2\n",
    "#n_neighbors=3\n",
    "#n_neighbors=4\n",
    "n_neighbors=5"
   ]
  },
  {
   "cell_type": "code",
   "execution_count": 30,
   "metadata": {},
   "outputs": [
    {
     "name": "stdout",
     "output_type": "stream",
     "text": [
      "score: 0.3377417027417028 [0.29545455 0.27380952 0.40277778 0.33333333 0.38333333]\n",
      "mse: -139.86233766233767 [-142.89772727 -127.35714286 -122.45833333 -152.01515152 -154.58333333]\n",
      "r2: -0.32870698780478474 [-0.36901227 -0.19509743 -0.13243534 -0.47913242 -0.46785748]\n"
     ]
    }
   ],
   "source": [
    "# perform cross validation\n",
    "\n",
    "score = cross_val_score(knn,X,y,cv=5)\n",
    "mse = cross_val_score(knn,X,y,cv=5,scoring='neg_mean_squared_error')\n",
    "r2 = cross_val_score(knn,X,y,cv=5,scoring='r2')\n",
    "\n",
    "print('score:',score.mean(),score)\n",
    "print('mse:',mse.mean(),mse)\n",
    "print('r2:',r2.mean(),r2)"
   ]
  },
  {
   "cell_type": "code",
   "execution_count": 31,
   "metadata": {},
   "outputs": [
    {
     "name": "stdout",
     "output_type": "stream",
     "text": [
      "train r2: 0.6872586872586872\n",
      "test r2: 0.35135135135135137\n",
      "rmse: 12.165525060596439\n"
     ]
    }
   ],
   "source": [
    "# fit model\n",
    "\n",
    "knn.fit(X_train, y_train)\n",
    "\n",
    "# score model\n",
    "print(\"train r2:\",knn.score(X_train, y_train))\n",
    "print(\"test r2:\",knn.score(X_test, y_test))\n",
    "\n",
    "# validate model\n",
    "y_pred = knn.predict(X_test)\n",
    "rmse = np.sqrt(mean_squared_error(y_test,y_pred))\n",
    "print(\"rmse:\",rmse)"
   ]
  },
  {
   "cell_type": "code",
   "execution_count": null,
   "metadata": {},
   "outputs": [],
   "source": []
  }
 ],
 "metadata": {
  "kernelspec": {
   "display_name": "Python 3",
   "language": "python",
   "name": "python3"
  },
  "language_info": {
   "codemirror_mode": {
    "name": "ipython",
    "version": 3
   },
   "file_extension": ".py",
   "mimetype": "text/x-python",
   "name": "python",
   "nbconvert_exporter": "python",
   "pygments_lexer": "ipython3",
   "version": "3.7.3"
  }
 },
 "nbformat": 4,
 "nbformat_minor": 2
}
