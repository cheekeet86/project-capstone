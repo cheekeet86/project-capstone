{
 "cells": [
  {
   "cell_type": "markdown",
   "metadata": {},
   "source": [
    "### Contents\n",
    "\n",
    "- [Configurations and Libraries](#Configurations-and-Libraries)\n",
    "- [Functions](#Functions)"
   ]
  },
  {
   "cell_type": "markdown",
   "metadata": {},
   "source": [
    "### Header"
   ]
  },
  {
   "cell_type": "code",
   "execution_count": 1,
   "metadata": {},
   "outputs": [],
   "source": [
    "# import libraries\n",
    "\n",
    "# maths\n",
    "import scipy.stats as stats\n",
    "import numpy as np\n",
    "import pandas as pd\n",
    "\n",
    "# others\n",
    "from tqdm import tqdm\n",
    "import time\n",
    "import datetime as dt\n",
    "import re\n",
    "import os\n",
    "\n",
    "# web\n",
    "import json"
   ]
  },
  {
   "cell_type": "code",
   "execution_count": 2,
   "metadata": {},
   "outputs": [],
   "source": [
    "# file paths\n",
    "\n",
    "folder = 'fitrec/'\n",
    "\n",
    "raw_path = '../data/0_raw/' + folder\n",
    "input_path = '../data/1_input/' + folder\n",
    "clean_path = '../data/2_clean/' + folder\n",
    "preprocess_path = '../data/3_preprocess/' + folder\n",
    "output_path = '../data/4_output/' + folder"
   ]
  },
  {
   "cell_type": "markdown",
   "metadata": {},
   "source": [
    "### Functions"
   ]
  },
  {
   "cell_type": "code",
   "execution_count": 3,
   "metadata": {},
   "outputs": [],
   "source": [
    "# output smaller json file with incremental filenames e.g. xxx_123.json\n",
    "\n",
    "def output_json(data,file_no):\n",
    "    \n",
    "    file_str = str(file_no)\n",
    "    file_str = file_str.zfill(3)            \n",
    "    out_path_2 = out_path + file_str + '.json'\n",
    "\n",
    "    with open(out_path_2, 'w') as f:\n",
    "        print(out_path_2)\n",
    "        json.dump(data, f)"
   ]
  },
  {
   "cell_type": "markdown",
   "metadata": {},
   "source": [
    "### Import Data"
   ]
  },
  {
   "cell_type": "code",
   "execution_count": 4,
   "metadata": {},
   "outputs": [],
   "source": [
    "# sample code from https://sites.google.com/eng.ucsd.edu/fitrec-project/home\n",
    "\n",
    "# path = Path(\"data/\")\n",
    "# out_path = str(path / \"processed_endomondoHR_proper.npy\")\n",
    "# data = np.load(out_path)[0]"
   ]
  },
  {
   "cell_type": "code",
   "execution_count": 5,
   "metadata": {},
   "outputs": [],
   "source": [
    "# sample code from https://sites.google.com/eng.ucsd.edu/fitrec-project/home\n",
    "\n",
    "# data = []\n",
    "# #with gzip.open('endomondoHR.json.gz') as f:\n",
    "# with open('endomondoHR_proper.json') as f:\n",
    "#     for l in f:\n",
    "#         data.append(eval(l))"
   ]
  },
  {
   "cell_type": "code",
   "execution_count": 6,
   "metadata": {},
   "outputs": [],
   "source": [
    "# old method\n",
    "\n",
    "#file = \"processed_endomondoHR_proper.npy\"\n",
    "# file = \"processed_endomondoHR_proper_interpolate.npy\"\n",
    "\n",
    "# path = input_path + folder + file\n",
    "\n",
    "#processed_endomondoHR_proper = np.load(path,mmap_mode='r')[0]\n",
    "#data = np.memmap(path,mode='r+')"
   ]
  },
  {
   "cell_type": "code",
   "execution_count": 7,
   "metadata": {},
   "outputs": [],
   "source": [
    "# old method\n",
    "\n",
    "# file = \"endomondoHR_proper.json\"\n",
    "# path = input_path + file\n",
    "\n",
    "# num_workout = 300000\n",
    "# data = {}\n",
    "# index = 1\n",
    "\n",
    "# with open(path) as f:    \n",
    "\n",
    "#     for l in tqdm(f):\n",
    "        \n",
    "#         if index > num_workout:\n",
    "#             break     \n",
    "\n",
    "#         data[index] = eval(l)        \n",
    "#         index += 1"
   ]
  },
  {
   "cell_type": "markdown",
   "metadata": {},
   "source": [
    "### Output Data"
   ]
  },
  {
   "cell_type": "code",
   "execution_count": 8,
   "metadata": {},
   "outputs": [],
   "source": [
    "# old method\n",
    "\n",
    "# file = \"endomondoHR_proper_sample.json\"\n",
    "# path = clean_path + folder + file\n",
    "\n",
    "# with open(path, 'w') as f:\n",
    "#     json.dump(data, f)"
   ]
  },
  {
   "cell_type": "markdown",
   "metadata": {},
   "source": [
    "### Import, Split and Output File"
   ]
  },
  {
   "cell_type": "code",
   "execution_count": 9,
   "metadata": {},
   "outputs": [
    {
     "name": "stdout",
     "output_type": "stream",
     "text": [
      "../data/0_raw/fitrec/processed_endomondoHR_proper_interpolate.npy\n",
      "../data/1_input/fitrec/processed_endomondoHR_proper_interpolate_\n"
     ]
    }
   ],
   "source": [
    "# select json file for splitting\n",
    "\n",
    "#file_index = 0\n",
    "#file_index = 1\n",
    "#file_index = 2\n",
    "#file_index = 3\n",
    "file_index = 4\n",
    "\n",
    "input_filepath = [\n",
    "            \"endomondoHR.json\",\n",
    "            \"endomondoMeta.json\",\n",
    "            \"endomondoHR_proper.json\",\n",
    "            \"processed_endomondoHR_proper.npy\",\n",
    "            \"processed_endomondoHR_proper_interpolate.npy\"        \n",
    "            ]\n",
    "\n",
    "\n",
    "output_filepath = [\n",
    "            \"endomondoHR/endomondoHR_\",\n",
    "            \"endomondoMeta/endomondoMeta_\",\n",
    "            \"endomondoHR_proper/endomondoHR_proper_\",\n",
    "            \"processed_endomondoHR_proper_\",\n",
    "            \"processed_endomondoHR_proper_interpolate_\"        \n",
    "            ]\n",
    "\n",
    "# init filepaths\n",
    "\n",
    "in_path = raw_path + input_filepath[file_index]\n",
    "out_path = input_path + output_filepath[file_index]\n",
    "\n",
    "print(in_path)\n",
    "print(out_path)"
   ]
  },
  {
   "cell_type": "code",
   "execution_count": 10,
   "metadata": {},
   "outputs": [],
   "source": [
    "# import large json file and split into smaller json files (1000 jsons each)\n",
    "\n",
    "if '.json' in in_path:\n",
    "\n",
    "    data = {}\n",
    "    index = 1\n",
    "    file_no = 1\n",
    "\n",
    "    with open(in_path) as f:\n",
    "\n",
    "        for l in f:\n",
    "\n",
    "            data[index] = eval(l)      \n",
    "\n",
    "            # each file will contain 1000 jsons\n",
    "            if index % 1000 == 0:            \n",
    "                output_json(data,file_no)\n",
    "\n",
    "                data = {}                \n",
    "                file_no += 1  \n",
    "\n",
    "            index += 1\n",
    "\n",
    "        # last file contains less than 1000 jsons\n",
    "        if index % 1000 != 0:        \n",
    "            output_json(data,file_no)    "
   ]
  },
  {
   "cell_type": "code",
   "execution_count": 12,
   "metadata": {},
   "outputs": [],
   "source": [
    "if '.npy' in in_path:\n",
    "    \n",
    "    #data = np.load(in_path,mmap_mode='r')\n",
    "    #data = np.memmap(in_path,mode='r+')\n",
    "    \n",
    "    data = np.memmap(in_path,mode='r+')"
   ]
  },
  {
   "cell_type": "code",
   "execution_count": 16,
   "metadata": {},
   "outputs": [
    {
     "data": {
      "text/plain": [
       "memmap([147,  78,  85, ...,  57,  64, 194], dtype=uint8)"
      ]
     },
     "execution_count": 16,
     "metadata": {},
     "output_type": "execute_result"
    }
   ],
   "source": [
    "data[:60000]"
   ]
  },
  {
   "cell_type": "code",
   "execution_count": 15,
   "metadata": {},
   "outputs": [
    {
     "data": {
      "text/plain": [
       "(6457513404,)"
      ]
     },
     "execution_count": 15,
     "metadata": {},
     "output_type": "execute_result"
    }
   ],
   "source": [
    "data.shape"
   ]
  },
  {
   "cell_type": "code",
   "execution_count": null,
   "metadata": {},
   "outputs": [],
   "source": []
  }
 ],
 "metadata": {
  "kernelspec": {
   "display_name": "Python 3",
   "language": "python",
   "name": "python3"
  },
  "language_info": {
   "codemirror_mode": {
    "name": "ipython",
    "version": 3
   },
   "file_extension": ".py",
   "mimetype": "text/x-python",
   "name": "python",
   "nbconvert_exporter": "python",
   "pygments_lexer": "ipython3",
   "version": "3.7.3"
  }
 },
 "nbformat": 4,
 "nbformat_minor": 2
}
