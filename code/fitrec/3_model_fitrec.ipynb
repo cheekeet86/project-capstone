{
 "cells": [
  {
   "cell_type": "markdown",
   "metadata": {},
   "source": [
    "### Contents\n",
    "\n",
    "- [Header](#Header)\n",
    "- [Import Data](#Import-Data)\n",
    "- [Functions](#Functions)\n",
    "\n",
    "\n",
    "- [Drop Rows](#Drop-Rows)\n",
    "- [Select and Merge Sports](#Select-and-Merge-Sports)\n",
    "- [Select Features](#Select-Features)\n",
    "\n",
    "- [Plot df_model](#Plot-df_model)\n",
    "- [Create Features and Target](#Create-Features-and-Target)\n",
    "- [Handle Imbalanced Data](#Handle-Imbalanced-Data)\n",
    "\n",
    "\n",
    "- [Logistic Regression Model](#Logistic-Regression-Model)\n",
    "- [KNN Model](#KNN-Model)\n",
    "- [DTC Model](#DTC-Model)\n",
    "- [RTC Model](#RTC-Model)\n",
    "- [SVC Model](#SVC-Model)\n",
    "\n",
    "\n",
    "- [Combine Model Predictions](#Combine-Model-Predictions)\n",
    "- [VotingClassifier Model](#VotingClassifier-Model)\n",
    "- [GridSearch Model](#GridSearch-Model)"
   ]
  },
  {
   "cell_type": "markdown",
   "metadata": {},
   "source": [
    "### Header"
   ]
  },
  {
   "cell_type": "code",
   "execution_count": 1,
   "metadata": {},
   "outputs": [
    {
     "name": "stderr",
     "output_type": "stream",
     "text": [
      "C:\\ProgramData\\Anaconda3\\lib\\site-packages\\sklearn\\externals\\six.py:31: DeprecationWarning: The module is deprecated in version 0.21 and will be removed in version 0.23 since we've dropped support for Python 2.7. Please rely on the official version of six (https://pypi.org/project/six/).\n",
      "  \"(https://pypi.org/project/six/).\", DeprecationWarning)\n",
      "Using TensorFlow backend.\n"
     ]
    },
    {
     "name": "stdout",
     "output_type": "stream",
     "text": [
      "Couldn't import dot_parser, loading of dot files will not be possible.\n"
     ]
    }
   ],
   "source": [
    "# import libraries\n",
    "\n",
    "# maths\n",
    "import numpy as np\n",
    "import pandas as pd\n",
    "\n",
    "# visual\n",
    "#from matplotlib_venn import venn2\n",
    "import seaborn as sns\n",
    "import matplotlib.pyplot as plt\n",
    "%matplotlib inline\n",
    "import pydotplus\n",
    "\n",
    "# modelling\n",
    "from sklearn.linear_model import LinearRegression, LogisticRegression, Ridge, Lasso, ElasticNet\n",
    "from sklearn.model_selection import train_test_split,cross_val_score,GridSearchCV\n",
    "from sklearn.preprocessing import StandardScaler,PolynomialFeatures,LabelEncoder\n",
    "from sklearn.metrics import confusion_matrix,accuracy_score,r2_score,mean_squared_error,cohen_kappa_score,f1_score,precision_score,recall_score\n",
    "from sklearn.pipeline import Pipeline\n",
    "from sklearn.utils import resample, shuffle\n",
    "from sklearn.neighbors import KNeighborsRegressor, KNeighborsClassifier\n",
    "from sklearn.tree import DecisionTreeClassifier,export_graphviz\n",
    "from sklearn.ensemble import AdaBoostClassifier,RandomForestClassifier,RandomForestRegressor,GradientBoostingClassifier,VotingClassifier\n",
    "from sklearn.externals.six import StringIO\n",
    "from imblearn.over_sampling import SMOTE\n",
    "from sklearn.svm import SVC\n",
    "\n",
    "# Others\n",
    "import warnings\n",
    "warnings.filterwarnings(\"ignore\")\n",
    "from IPython.display import Image"
   ]
  },
  {
   "cell_type": "code",
   "execution_count": 2,
   "metadata": {},
   "outputs": [],
   "source": [
    "# file paths\n",
    "\n",
    "raw_path = '../../data/0_raw/fitrec/' \n",
    "input_path = '../../data/1_input/fitrec/'\n",
    "clean_path = '../../data/2_clean/fitrec/' \n",
    "preprocess_path = '../../data/3_preprocess/fitrec/' \n",
    "output_path = '../../data/4_output/fitrec/'\n",
    "\n",
    "sports_path = '../../data/1_input/sports/' "
   ]
  },
  {
   "cell_type": "markdown",
   "metadata": {},
   "source": [
    "### Import Data"
   ]
  },
  {
   "cell_type": "code",
   "execution_count": 3,
   "metadata": {},
   "outputs": [
    {
     "data": {
      "text/plain": [
       "Index(['id', 'userId', 'gender', 'sport', 'url', 'time_start', 'time_end',\n",
       "       'time_dur', 'lat_start', 'lon_start', 'lat_end', 'lon_end', 'alt_avg',\n",
       "       'alt_min', 'alt_05', 'alt_25', 'alt_75', 'alt_95', 'alt_max',\n",
       "       'alt_diff', 'hr_avg', 'hr_min', 'hr_05', 'hr_25', 'hr_75', 'hr_95',\n",
       "       'hr_max', 'hr_outof', 'hr_fatburn', 'hr_cardio', 'hr_peak', 'spd_avg',\n",
       "       'spd_min', 'spd_05', 'spd_25', 'spd_75', 'spd_95', 'spd_max', 'spd_low',\n",
       "       'spd_med', 'spd_high', 'spd_vhigh', 'impute'],\n",
       "      dtype='object')"
      ]
     },
     "execution_count": 3,
     "metadata": {},
     "output_type": "execute_result"
    }
   ],
   "source": [
    "# import summary csv\n",
    "\n",
    "#file = 'endomondoHR_proper_summary.csv'\n",
    "#file = 'endomondoHR_proper_dist_spd_summary.csv'\n",
    "file = 'endomondoHR_proper_dist_spd_time_summary.csv'\n",
    "\n",
    "in_path = clean_path + file\n",
    "\n",
    "df = pd.read_csv(in_path)\n",
    "df.columns"
   ]
  },
  {
   "cell_type": "code",
   "execution_count": 4,
   "metadata": {},
   "outputs": [
    {
     "data": {
      "text/html": [
       "<div>\n",
       "<style scoped>\n",
       "    .dataframe tbody tr th:only-of-type {\n",
       "        vertical-align: middle;\n",
       "    }\n",
       "\n",
       "    .dataframe tbody tr th {\n",
       "        vertical-align: top;\n",
       "    }\n",
       "\n",
       "    .dataframe thead th {\n",
       "        text-align: right;\n",
       "    }\n",
       "</style>\n",
       "<table border=\"1\" class=\"dataframe\">\n",
       "  <thead>\n",
       "    <tr style=\"text-align: right;\">\n",
       "      <th></th>\n",
       "      <th>sport</th>\n",
       "      <th>sport_rename</th>\n",
       "      <th>type</th>\n",
       "      <th>venue</th>\n",
       "      <th>location_valid</th>\n",
       "      <th>distance_valid</th>\n",
       "      <th>speed_valid</th>\n",
       "      <th>speed_max</th>\n",
       "    </tr>\n",
       "  </thead>\n",
       "  <tbody>\n",
       "    <tr>\n",
       "      <th>0</th>\n",
       "      <td>aerobics</td>\n",
       "      <td>aerobics</td>\n",
       "      <td>gym</td>\n",
       "      <td>indoor</td>\n",
       "      <td>0</td>\n",
       "      <td>0</td>\n",
       "      <td>0</td>\n",
       "      <td>45</td>\n",
       "    </tr>\n",
       "    <tr>\n",
       "      <th>1</th>\n",
       "      <td>badminton</td>\n",
       "      <td>badminton</td>\n",
       "      <td>racket</td>\n",
       "      <td>indoor</td>\n",
       "      <td>0</td>\n",
       "      <td>1</td>\n",
       "      <td>0</td>\n",
       "      <td>45</td>\n",
       "    </tr>\n",
       "    <tr>\n",
       "      <th>2</th>\n",
       "      <td>basketball</td>\n",
       "      <td>basketball</td>\n",
       "      <td>team</td>\n",
       "      <td>outdoor/indoor</td>\n",
       "      <td>1</td>\n",
       "      <td>1</td>\n",
       "      <td>0</td>\n",
       "      <td>45</td>\n",
       "    </tr>\n",
       "    <tr>\n",
       "      <th>3</th>\n",
       "      <td>bike</td>\n",
       "      <td>bike</td>\n",
       "      <td>aerobic</td>\n",
       "      <td>outdoor</td>\n",
       "      <td>1</td>\n",
       "      <td>1</td>\n",
       "      <td>1</td>\n",
       "      <td>244</td>\n",
       "    </tr>\n",
       "    <tr>\n",
       "      <th>4</th>\n",
       "      <td>bike (transport)</td>\n",
       "      <td>bike</td>\n",
       "      <td>aerobic</td>\n",
       "      <td>outdoor</td>\n",
       "      <td>1</td>\n",
       "      <td>1</td>\n",
       "      <td>1</td>\n",
       "      <td>244</td>\n",
       "    </tr>\n",
       "    <tr>\n",
       "      <th>5</th>\n",
       "      <td>indoor cycling</td>\n",
       "      <td>bike</td>\n",
       "      <td>aerobic</td>\n",
       "      <td>indoor</td>\n",
       "      <td>0</td>\n",
       "      <td>1</td>\n",
       "      <td>1</td>\n",
       "      <td>244</td>\n",
       "    </tr>\n",
       "    <tr>\n",
       "      <th>6</th>\n",
       "      <td>mountain bike</td>\n",
       "      <td>bike</td>\n",
       "      <td>aerobic</td>\n",
       "      <td>outdoor</td>\n",
       "      <td>1</td>\n",
       "      <td>1</td>\n",
       "      <td>1</td>\n",
       "      <td>244</td>\n",
       "    </tr>\n",
       "    <tr>\n",
       "      <th>7</th>\n",
       "      <td>circuit training</td>\n",
       "      <td>circuit training</td>\n",
       "      <td>aerobic</td>\n",
       "      <td>outdoor/indoor</td>\n",
       "      <td>0</td>\n",
       "      <td>0</td>\n",
       "      <td>0</td>\n",
       "      <td>45</td>\n",
       "    </tr>\n",
       "    <tr>\n",
       "      <th>8</th>\n",
       "      <td>climbing</td>\n",
       "      <td>climbing</td>\n",
       "      <td>aerobic</td>\n",
       "      <td>outdoor/indoor</td>\n",
       "      <td>1</td>\n",
       "      <td>0</td>\n",
       "      <td>0</td>\n",
       "      <td>45</td>\n",
       "    </tr>\n",
       "    <tr>\n",
       "      <th>9</th>\n",
       "      <td>core stability training</td>\n",
       "      <td>core stability training</td>\n",
       "      <td>indoor</td>\n",
       "      <td>indoor</td>\n",
       "      <td>0</td>\n",
       "      <td>0</td>\n",
       "      <td>0</td>\n",
       "      <td>45</td>\n",
       "    </tr>\n",
       "    <tr>\n",
       "      <th>10</th>\n",
       "      <td>elliptical</td>\n",
       "      <td>elliptical</td>\n",
       "      <td>gym</td>\n",
       "      <td>indoor</td>\n",
       "      <td>0</td>\n",
       "      <td>0</td>\n",
       "      <td>0</td>\n",
       "      <td>45</td>\n",
       "    </tr>\n",
       "    <tr>\n",
       "      <th>11</th>\n",
       "      <td>golf</td>\n",
       "      <td>golf</td>\n",
       "      <td>gentlemen</td>\n",
       "      <td>outdoor</td>\n",
       "      <td>1</td>\n",
       "      <td>1</td>\n",
       "      <td>0</td>\n",
       "      <td>45</td>\n",
       "    </tr>\n",
       "    <tr>\n",
       "      <th>12</th>\n",
       "      <td>gymnastics</td>\n",
       "      <td>gymnastics</td>\n",
       "      <td>indoor</td>\n",
       "      <td>indoor</td>\n",
       "      <td>0</td>\n",
       "      <td>1</td>\n",
       "      <td>0</td>\n",
       "      <td>45</td>\n",
       "    </tr>\n",
       "    <tr>\n",
       "      <th>13</th>\n",
       "      <td>hiking</td>\n",
       "      <td>hiking</td>\n",
       "      <td>aerobic</td>\n",
       "      <td>outdoor</td>\n",
       "      <td>1</td>\n",
       "      <td>1</td>\n",
       "      <td>1</td>\n",
       "      <td>45</td>\n",
       "    </tr>\n",
       "    <tr>\n",
       "      <th>14</th>\n",
       "      <td>horseback riding</td>\n",
       "      <td>horseback riding</td>\n",
       "      <td>gentlemen</td>\n",
       "      <td>outdoor</td>\n",
       "      <td>1</td>\n",
       "      <td>1</td>\n",
       "      <td>1</td>\n",
       "      <td>71</td>\n",
       "    </tr>\n",
       "    <tr>\n",
       "      <th>15</th>\n",
       "      <td>kayaking</td>\n",
       "      <td>kayaking</td>\n",
       "      <td>water</td>\n",
       "      <td>water</td>\n",
       "      <td>1</td>\n",
       "      <td>1</td>\n",
       "      <td>1</td>\n",
       "      <td>32</td>\n",
       "    </tr>\n",
       "    <tr>\n",
       "      <th>16</th>\n",
       "      <td>martial arts</td>\n",
       "      <td>martial arts</td>\n",
       "      <td>indoor</td>\n",
       "      <td>indoor</td>\n",
       "      <td>0</td>\n",
       "      <td>0</td>\n",
       "      <td>0</td>\n",
       "      <td>45</td>\n",
       "    </tr>\n",
       "    <tr>\n",
       "      <th>17</th>\n",
       "      <td>orienteering</td>\n",
       "      <td>orienteering</td>\n",
       "      <td>aerobic</td>\n",
       "      <td>outdoor</td>\n",
       "      <td>1</td>\n",
       "      <td>1</td>\n",
       "      <td>1</td>\n",
       "      <td>45</td>\n",
       "    </tr>\n",
       "    <tr>\n",
       "      <th>18</th>\n",
       "      <td>rowing</td>\n",
       "      <td>rowing</td>\n",
       "      <td>water</td>\n",
       "      <td>water</td>\n",
       "      <td>1</td>\n",
       "      <td>1</td>\n",
       "      <td>1</td>\n",
       "      <td>23</td>\n",
       "    </tr>\n",
       "    <tr>\n",
       "      <th>19</th>\n",
       "      <td>rugby</td>\n",
       "      <td>rugby</td>\n",
       "      <td>team</td>\n",
       "      <td>outdoor</td>\n",
       "      <td>1</td>\n",
       "      <td>1</td>\n",
       "      <td>0</td>\n",
       "      <td>45</td>\n",
       "    </tr>\n",
       "    <tr>\n",
       "      <th>20</th>\n",
       "      <td>run</td>\n",
       "      <td>run</td>\n",
       "      <td>aerobic</td>\n",
       "      <td>outdoor/indoor</td>\n",
       "      <td>1</td>\n",
       "      <td>1</td>\n",
       "      <td>1</td>\n",
       "      <td>45</td>\n",
       "    </tr>\n",
       "    <tr>\n",
       "      <th>21</th>\n",
       "      <td>treadmill running</td>\n",
       "      <td>run</td>\n",
       "      <td>aerobic</td>\n",
       "      <td>indoor</td>\n",
       "      <td>0</td>\n",
       "      <td>1</td>\n",
       "      <td>1</td>\n",
       "      <td>45</td>\n",
       "    </tr>\n",
       "    <tr>\n",
       "      <th>22</th>\n",
       "      <td>sailing</td>\n",
       "      <td>sailing</td>\n",
       "      <td>water</td>\n",
       "      <td>water</td>\n",
       "      <td>1</td>\n",
       "      <td>1</td>\n",
       "      <td>1</td>\n",
       "      <td>121</td>\n",
       "    </tr>\n",
       "    <tr>\n",
       "      <th>23</th>\n",
       "      <td>skate</td>\n",
       "      <td>skate</td>\n",
       "      <td>aerobic</td>\n",
       "      <td>outdoor/indoor</td>\n",
       "      <td>1</td>\n",
       "      <td>1</td>\n",
       "      <td>1</td>\n",
       "      <td>55</td>\n",
       "    </tr>\n",
       "    <tr>\n",
       "      <th>24</th>\n",
       "      <td>cross-country skiing</td>\n",
       "      <td>skiing</td>\n",
       "      <td>winter</td>\n",
       "      <td>winter</td>\n",
       "      <td>1</td>\n",
       "      <td>1</td>\n",
       "      <td>1</td>\n",
       "      <td>255</td>\n",
       "    </tr>\n",
       "    <tr>\n",
       "      <th>25</th>\n",
       "      <td>downhill skiing</td>\n",
       "      <td>skiing</td>\n",
       "      <td>winter</td>\n",
       "      <td>winter</td>\n",
       "      <td>1</td>\n",
       "      <td>1</td>\n",
       "      <td>1</td>\n",
       "      <td>255</td>\n",
       "    </tr>\n",
       "    <tr>\n",
       "      <th>26</th>\n",
       "      <td>roller skiing</td>\n",
       "      <td>skiing</td>\n",
       "      <td>winter</td>\n",
       "      <td>outdoor/indoor</td>\n",
       "      <td>1</td>\n",
       "      <td>1</td>\n",
       "      <td>1</td>\n",
       "      <td>50</td>\n",
       "    </tr>\n",
       "    <tr>\n",
       "      <th>27</th>\n",
       "      <td>snowboarding</td>\n",
       "      <td>snowboarding</td>\n",
       "      <td>winter</td>\n",
       "      <td>winter</td>\n",
       "      <td>1</td>\n",
       "      <td>1</td>\n",
       "      <td>1</td>\n",
       "      <td>203</td>\n",
       "    </tr>\n",
       "    <tr>\n",
       "      <th>28</th>\n",
       "      <td>snowshoeing</td>\n",
       "      <td>snowshoeing</td>\n",
       "      <td>winter</td>\n",
       "      <td>winter</td>\n",
       "      <td>1</td>\n",
       "      <td>1</td>\n",
       "      <td>1</td>\n",
       "      <td>45</td>\n",
       "    </tr>\n",
       "    <tr>\n",
       "      <th>29</th>\n",
       "      <td>soccer</td>\n",
       "      <td>soccer</td>\n",
       "      <td>team</td>\n",
       "      <td>outdoor</td>\n",
       "      <td>1</td>\n",
       "      <td>1</td>\n",
       "      <td>0</td>\n",
       "      <td>45</td>\n",
       "    </tr>\n",
       "    <tr>\n",
       "      <th>30</th>\n",
       "      <td>squash</td>\n",
       "      <td>squash</td>\n",
       "      <td>racket</td>\n",
       "      <td>indoor</td>\n",
       "      <td>0</td>\n",
       "      <td>1</td>\n",
       "      <td>0</td>\n",
       "      <td>45</td>\n",
       "    </tr>\n",
       "    <tr>\n",
       "      <th>31</th>\n",
       "      <td>stair climing</td>\n",
       "      <td>stair climbing</td>\n",
       "      <td>aerobic</td>\n",
       "      <td>outdoor/indoor</td>\n",
       "      <td>1</td>\n",
       "      <td>0</td>\n",
       "      <td>0</td>\n",
       "      <td>45</td>\n",
       "    </tr>\n",
       "    <tr>\n",
       "      <th>32</th>\n",
       "      <td>kite surfing</td>\n",
       "      <td>surfing</td>\n",
       "      <td>water</td>\n",
       "      <td>water</td>\n",
       "      <td>1</td>\n",
       "      <td>1</td>\n",
       "      <td>1</td>\n",
       "      <td>99</td>\n",
       "    </tr>\n",
       "    <tr>\n",
       "      <th>33</th>\n",
       "      <td>windsurfing</td>\n",
       "      <td>surfing</td>\n",
       "      <td>water</td>\n",
       "      <td>water</td>\n",
       "      <td>1</td>\n",
       "      <td>1</td>\n",
       "      <td>1</td>\n",
       "      <td>99</td>\n",
       "    </tr>\n",
       "    <tr>\n",
       "      <th>34</th>\n",
       "      <td>swimming</td>\n",
       "      <td>swimming</td>\n",
       "      <td>water</td>\n",
       "      <td>water</td>\n",
       "      <td>0</td>\n",
       "      <td>1</td>\n",
       "      <td>1</td>\n",
       "      <td>9</td>\n",
       "    </tr>\n",
       "    <tr>\n",
       "      <th>35</th>\n",
       "      <td>table tennis</td>\n",
       "      <td>table tennis</td>\n",
       "      <td>racket</td>\n",
       "      <td>indoor</td>\n",
       "      <td>0</td>\n",
       "      <td>1</td>\n",
       "      <td>0</td>\n",
       "      <td>45</td>\n",
       "    </tr>\n",
       "    <tr>\n",
       "      <th>36</th>\n",
       "      <td>tennis</td>\n",
       "      <td>tennis</td>\n",
       "      <td>racket</td>\n",
       "      <td>outdoor</td>\n",
       "      <td>0</td>\n",
       "      <td>1</td>\n",
       "      <td>0</td>\n",
       "      <td>45</td>\n",
       "    </tr>\n",
       "    <tr>\n",
       "      <th>37</th>\n",
       "      <td>fitness walking</td>\n",
       "      <td>walk</td>\n",
       "      <td>aerobic</td>\n",
       "      <td>outdoor/indoor</td>\n",
       "      <td>1</td>\n",
       "      <td>1</td>\n",
       "      <td>1</td>\n",
       "      <td>45</td>\n",
       "    </tr>\n",
       "    <tr>\n",
       "      <th>38</th>\n",
       "      <td>treadmill walking</td>\n",
       "      <td>walk</td>\n",
       "      <td>aerobic</td>\n",
       "      <td>indoor</td>\n",
       "      <td>0</td>\n",
       "      <td>1</td>\n",
       "      <td>1</td>\n",
       "      <td>45</td>\n",
       "    </tr>\n",
       "    <tr>\n",
       "      <th>39</th>\n",
       "      <td>walk</td>\n",
       "      <td>walk</td>\n",
       "      <td>aerobic</td>\n",
       "      <td>outdoor/indoor</td>\n",
       "      <td>1</td>\n",
       "      <td>1</td>\n",
       "      <td>1</td>\n",
       "      <td>45</td>\n",
       "    </tr>\n",
       "    <tr>\n",
       "      <th>40</th>\n",
       "      <td>weight training</td>\n",
       "      <td>weight training</td>\n",
       "      <td>gym</td>\n",
       "      <td>indoor</td>\n",
       "      <td>0</td>\n",
       "      <td>0</td>\n",
       "      <td>0</td>\n",
       "      <td>45</td>\n",
       "    </tr>\n",
       "    <tr>\n",
       "      <th>41</th>\n",
       "      <td>pilates</td>\n",
       "      <td>yoga</td>\n",
       "      <td>indoor</td>\n",
       "      <td>indoor</td>\n",
       "      <td>0</td>\n",
       "      <td>0</td>\n",
       "      <td>0</td>\n",
       "      <td>45</td>\n",
       "    </tr>\n",
       "    <tr>\n",
       "      <th>42</th>\n",
       "      <td>yoga</td>\n",
       "      <td>yoga</td>\n",
       "      <td>indoor</td>\n",
       "      <td>indoor</td>\n",
       "      <td>0</td>\n",
       "      <td>0</td>\n",
       "      <td>0</td>\n",
       "      <td>45</td>\n",
       "    </tr>\n",
       "  </tbody>\n",
       "</table>\n",
       "</div>"
      ],
      "text/plain": [
       "                      sport             sport_rename       type  \\\n",
       "0                  aerobics                 aerobics        gym   \n",
       "1                 badminton                badminton     racket   \n",
       "2                basketball               basketball       team   \n",
       "3                      bike                     bike    aerobic   \n",
       "4          bike (transport)                     bike    aerobic   \n",
       "5            indoor cycling                     bike    aerobic   \n",
       "6             mountain bike                     bike    aerobic   \n",
       "7          circuit training         circuit training    aerobic   \n",
       "8                  climbing                 climbing    aerobic   \n",
       "9   core stability training  core stability training     indoor   \n",
       "10               elliptical               elliptical        gym   \n",
       "11                     golf                     golf  gentlemen   \n",
       "12               gymnastics               gymnastics     indoor   \n",
       "13                   hiking                   hiking    aerobic   \n",
       "14         horseback riding         horseback riding  gentlemen   \n",
       "15                 kayaking                 kayaking      water   \n",
       "16             martial arts             martial arts     indoor   \n",
       "17             orienteering             orienteering    aerobic   \n",
       "18                   rowing            rowing             water   \n",
       "19                    rugby                    rugby       team   \n",
       "20                      run                      run    aerobic   \n",
       "21        treadmill running                      run    aerobic   \n",
       "22                  sailing                  sailing      water   \n",
       "23                    skate                    skate    aerobic   \n",
       "24     cross-country skiing                   skiing     winter   \n",
       "25          downhill skiing                   skiing     winter   \n",
       "26            roller skiing                   skiing     winter   \n",
       "27             snowboarding             snowboarding     winter   \n",
       "28              snowshoeing              snowshoeing     winter   \n",
       "29                   soccer                   soccer       team   \n",
       "30          squash                            squash     racket   \n",
       "31          stair climing             stair climbing    aerobic   \n",
       "32             kite surfing                  surfing      water   \n",
       "33              windsurfing                  surfing      water   \n",
       "34                 swimming                 swimming      water   \n",
       "35             table tennis             table tennis     racket   \n",
       "36                   tennis                   tennis     racket   \n",
       "37          fitness walking                     walk    aerobic   \n",
       "38        treadmill walking                     walk    aerobic   \n",
       "39                     walk                     walk    aerobic   \n",
       "40          weight training          weight training        gym   \n",
       "41                  pilates                     yoga     indoor   \n",
       "42                     yoga                     yoga     indoor   \n",
       "\n",
       "             venue  location_valid  distance_valid  speed_valid  speed_max  \n",
       "0           indoor               0               0            0         45  \n",
       "1           indoor               0               1            0         45  \n",
       "2   outdoor/indoor               1               1            0         45  \n",
       "3          outdoor               1               1            1        244  \n",
       "4          outdoor               1               1            1        244  \n",
       "5           indoor               0               1            1        244  \n",
       "6          outdoor               1               1            1        244  \n",
       "7   outdoor/indoor               0               0            0         45  \n",
       "8   outdoor/indoor               1               0            0         45  \n",
       "9           indoor               0               0            0         45  \n",
       "10          indoor               0               0            0         45  \n",
       "11         outdoor               1               1            0         45  \n",
       "12          indoor               0               1            0         45  \n",
       "13         outdoor               1               1            1         45  \n",
       "14         outdoor               1               1            1         71  \n",
       "15           water               1               1            1         32  \n",
       "16          indoor               0               0            0         45  \n",
       "17         outdoor               1               1            1         45  \n",
       "18           water               1               1            1         23  \n",
       "19         outdoor               1               1            0         45  \n",
       "20  outdoor/indoor               1               1            1         45  \n",
       "21          indoor               0               1            1         45  \n",
       "22           water               1               1            1        121  \n",
       "23  outdoor/indoor               1               1            1         55  \n",
       "24          winter               1               1            1        255  \n",
       "25          winter               1               1            1        255  \n",
       "26  outdoor/indoor               1               1            1         50  \n",
       "27          winter               1               1            1        203  \n",
       "28          winter               1               1            1         45  \n",
       "29         outdoor               1               1            0         45  \n",
       "30          indoor               0               1            0         45  \n",
       "31  outdoor/indoor               1               0            0         45  \n",
       "32           water               1               1            1         99  \n",
       "33           water               1               1            1         99  \n",
       "34           water               0               1            1          9  \n",
       "35          indoor               0               1            0         45  \n",
       "36         outdoor               0               1            0         45  \n",
       "37  outdoor/indoor               1               1            1         45  \n",
       "38          indoor               0               1            1         45  \n",
       "39  outdoor/indoor               1               1            1         45  \n",
       "40          indoor               0               0            0         45  \n",
       "41          indoor               0               0            0         45  \n",
       "42          indoor               0               0            0         45  "
      ]
     },
     "execution_count": 4,
     "metadata": {},
     "output_type": "execute_result"
    }
   ],
   "source": [
    "# import sports.xlsx\n",
    "\n",
    "path = sports_path + 'sports.xlsx'\n",
    "df_sports = pd.read_excel(path)\n",
    "df_sports"
   ]
  },
  {
   "cell_type": "markdown",
   "metadata": {},
   "source": [
    "### Functions"
   ]
  },
  {
   "cell_type": "code",
   "execution_count": null,
   "metadata": {},
   "outputs": [],
   "source": []
  },
  {
   "cell_type": "markdown",
   "metadata": {},
   "source": [
    "### Drop Rows"
   ]
  },
  {
   "cell_type": "code",
   "execution_count": 5,
   "metadata": {},
   "outputs": [
    {
     "name": "stdout",
     "output_type": "stream",
     "text": [
      "before: 167783\n",
      "after: 167046\n",
      "drop: 737\n"
     ]
    }
   ],
   "source": [
    "# drop rows with abnormal heartrate\n",
    "\n",
    "before = len(df)\n",
    "print('before:',before)\n",
    "\n",
    "cond_1 = df['hr_min'] >= 40\n",
    "cond_2 = df['hr_avg'] >= 50\n",
    "cond_3 = df['hr_max'] >= 60\n",
    "\n",
    "df = df[cond_1 & cond_2 & cond_3]\n",
    "\n",
    "after = len(df)\n",
    "print('after:',after)\n",
    "drop = before - after\n",
    "print('drop:',drop)"
   ]
  },
  {
   "cell_type": "code",
   "execution_count": 6,
   "metadata": {},
   "outputs": [
    {
     "name": "stdout",
     "output_type": "stream",
     "text": [
      "before: 167046\n",
      "after: 167042\n",
      "drop: 4\n"
     ]
    }
   ],
   "source": [
    "# drop rows with abnormal workout duration\n",
    "\n",
    "before = len(df)\n",
    "print('before:',before)\n",
    "\n",
    "# time_dur in minutes\n",
    "time_dur_mask = df['time_dur'] < 24 * 60\n",
    "df = df[time_dur_mask]\n",
    "\n",
    "after = len(df)\n",
    "print('after:',after)\n",
    "drop = before - after\n",
    "print('drop:',drop)"
   ]
  },
  {
   "cell_type": "code",
   "execution_count": 7,
   "metadata": {},
   "outputs": [
    {
     "name": "stdout",
     "output_type": "stream",
     "text": [
      "before: 167042\n",
      "after: 159231\n",
      "drop: 7811\n"
     ]
    }
   ],
   "source": [
    "# drop rows with abnormal altitude\n",
    "\n",
    "before = len(df)\n",
    "print('before:',before)\n",
    "\n",
    "# altitude in metres\n",
    "max_alt_mask = df['alt_max'] <= 4000 # below Mount Kinabalu\n",
    "min_alt_mask = df['alt_min'] >= -30 # 10 storeys underground\n",
    "df = df[max_alt_mask & min_alt_mask]\n",
    "\n",
    "after = len(df)\n",
    "print('after:',after)\n",
    "drop = before - after\n",
    "print('drop:',drop)"
   ]
  },
  {
   "cell_type": "code",
   "execution_count": 8,
   "metadata": {},
   "outputs": [],
   "source": [
    "# drop rows if speed is nan\n",
    "\n",
    "# before = len(df)\n",
    "# print('before:',before)\n",
    "\n",
    "# df.dropna(subset=['spd_avg'],inplace=True)\n",
    "\n",
    "# after = len(df)\n",
    "# print('after:',after)\n",
    "# drop = before - after\n",
    "# print('drop:',drop)"
   ]
  },
  {
   "cell_type": "markdown",
   "metadata": {},
   "source": [
    "### Select and Merge Sports"
   ]
  },
  {
   "cell_type": "code",
   "execution_count": 9,
   "metadata": {},
   "outputs": [
    {
     "data": {
      "text/plain": [
       "bike                       67962\n",
       "run                        67298\n",
       "mountain bike              10283\n",
       "bike (transport)            7162\n",
       "indoor cycling              1628\n",
       "walk                        1222\n",
       "orienteering                 849\n",
       "cross-country skiing         781\n",
       "core stability training      435\n",
       "fitness walking              275\n",
       "skate                        246\n",
       "roller skiing                237\n",
       "hiking                       232\n",
       "kayaking                      89\n",
       "circuit training              86\n",
       "rowing                        70\n",
       "weight training               69\n",
       "gymnastics                    66\n",
       "soccer                        51\n",
       "downhill skiing               43\n",
       "treadmill running             27\n",
       "snowshoeing                   16\n",
       "swimming                      13\n",
       "golf                          12\n",
       "horseback riding              10\n",
       "elliptical                    10\n",
       "badminton                      9\n",
       "basketball                     8\n",
       "tennis                         8\n",
       "aerobics                       7\n",
       "climbing                       5\n",
       "table tennis                   4\n",
       "rugby                          3\n",
       "snowboarding                   3\n",
       "stair climing                  3\n",
       "pilates                        2\n",
       "martial arts                   1\n",
       "squash                         1\n",
       "windsurfing                    1\n",
       "yoga                           1\n",
       "sailing                        1\n",
       "treadmill walking              1\n",
       "kite surfing                   1\n",
       "Name: sport, dtype: int64"
      ]
     },
     "execution_count": 9,
     "metadata": {},
     "output_type": "execute_result"
    }
   ],
   "source": [
    "# print number of workouts per sport (after dropping rows)\n",
    "\n",
    "df['sport'].value_counts()"
   ]
  },
  {
   "cell_type": "code",
   "execution_count": 10,
   "metadata": {},
   "outputs": [
    {
     "data": {
      "text/plain": [
       "array(['bike', 'bike (transport)', 'run', 'mountain bike', 'rowing',\n",
       "       'orienteering', 'kayaking', 'indoor cycling', 'skate',\n",
       "       'cross-country skiing', 'walk', 'hiking', 'treadmill running',\n",
       "       'snowshoeing', 'snowboarding', 'fitness walking', 'roller skiing',\n",
       "       'horseback riding', 'downhill skiing', 'swimming',\n",
       "       'treadmill walking', 'sailing', 'kite surfing', 'windsurfing'],\n",
       "      dtype=object)"
      ]
     },
     "execution_count": 10,
     "metadata": {},
     "output_type": "execute_result"
    }
   ],
   "source": [
    "# select only sports with speed_valid = 1\n",
    "\n",
    "valid_mask = df_sports['speed_valid'] == 1\n",
    "valid_sport_list = df_sports[valid_mask]['sport']\n",
    "valid_sport_list = list(valid_sport_list)\n",
    "\n",
    "# overwrite: compare specific sports\n",
    "#valid_sport_list = ['kayaking','rowing']\n",
    "\n",
    "valid_mask_2 = df['sport'].isin(valid_sport_list)\n",
    "df = df[valid_mask_2]\n",
    "df['sport'].unique()"
   ]
  },
  {
   "cell_type": "code",
   "execution_count": 11,
   "metadata": {},
   "outputs": [
    {
     "name": "stdout",
     "output_type": "stream",
     "text": [
      "aerobics aerobics\n",
      "badminton badminton\n",
      "basketball basketball\n",
      "bike bike\n",
      "bike (transport) bike\n",
      "indoor cycling bike\n",
      "mountain bike bike\n",
      "circuit training circuit training\n",
      "climbing climbing\n",
      "core stability training core stability training\n",
      "elliptical elliptical\n",
      "golf golf\n",
      "gymnastics gymnastics\n",
      "hiking hiking\n",
      "horseback riding horseback riding\n",
      "kayaking kayaking\n",
      "martial arts martial arts\n",
      "orienteering orienteering\n",
      "rowing rowing       \n",
      "rugby rugby\n",
      "run run\n",
      "treadmill running run\n",
      "sailing sailing\n",
      "skate skate\n",
      "cross-country skiing skiing\n",
      "downhill skiing skiing\n",
      "roller skiing skiing\n",
      "snowboarding snowboarding\n",
      "snowshoeing snowshoeing\n",
      "soccer soccer\n",
      "squash squash\n",
      "stair climing stair climbing\n",
      "kite surfing surfing\n",
      "windsurfing surfing\n",
      "swimming swimming\n",
      "table tennis table tennis\n",
      "tennis tennis\n",
      "fitness walking walk\n",
      "treadmill walking walk\n",
      "walk walk\n",
      "weight training weight training\n",
      "pilates yoga\n",
      "yoga yoga\n"
     ]
    }
   ],
   "source": [
    "# merge similar sports\n",
    "\n",
    "for idx,row in df_sports.iterrows():\n",
    "    \n",
    "    sport = row['sport'].rstrip()\n",
    "    sport_rename = row['sport_rename']\n",
    "    print(sport,sport_rename)\n",
    "    \n",
    "    df['sport'].replace(sport,sport_rename,inplace=True)"
   ]
  },
  {
   "cell_type": "code",
   "execution_count": 12,
   "metadata": {},
   "outputs": [
    {
     "data": {
      "text/plain": [
       "bike                87035\n",
       "run                 67325\n",
       "walk                 1498\n",
       "skiing               1061\n",
       "orienteering          849\n",
       "skate                 246\n",
       "hiking                232\n",
       "kayaking               89\n",
       "rowing                 70\n",
       "snowshoeing            16\n",
       "swimming               13\n",
       "horseback riding       10\n",
       "snowboarding            3\n",
       "surfing                 2\n",
       "sailing                 1\n",
       "Name: sport, dtype: int64"
      ]
     },
     "execution_count": 12,
     "metadata": {},
     "output_type": "execute_result"
    }
   ],
   "source": [
    "# print number of workouts per sport (after selecting and merging sports)\n",
    "\n",
    "df['sport'].value_counts()"
   ]
  },
  {
   "cell_type": "markdown",
   "metadata": {},
   "source": [
    "### Select Features"
   ]
  },
  {
   "cell_type": "code",
   "execution_count": 13,
   "metadata": {},
   "outputs": [],
   "source": [
    "# feature selection (select columns for df_model)\n",
    "\n",
    "# cols = ['sport','time_dur','alt_avg','alt_min','alt_25','alt_75','alt_max','hr_avg', 'hr_min','hr_25','hr_75','hr_max']\n",
    "\n",
    "#cols = ['sport','hr_avg','hr_min','hr_25','hr_75','hr_max']\n",
    "#cols = ['sport','hr_avg','hr_min','hr_05','hr_25','hr_75','hr_95','hr_max']\n",
    "#cols = ['sport','hr_avg','hr_min','hr_25','hr_75','hr_max','spd_avg']\n",
    "#cols = ['sport','hr_avg','hr_min','hr_25','hr_75','hr_max','spd_avg','spd_min','spd_25','spd_75','spd_max']\n",
    "\n",
    "#cols = ['sport','spd_avg']\n",
    "#cols = ['sport','spd_avg','spd_95']\n",
    "#cols = ['sport','spd_avg','spd_05','spd_25','spd_75','spd_95']\n",
    "\n",
    "#cols = ['sport','hr_outof','hr_fatburn','hr_cardio','hr_peak']\n",
    "#cols = ['sport','hr_outof','hr_fatburn','hr_cardio','hr_peak','spd_avg']\n",
    "#cols = ['sport','hr_outof','hr_fatburn','hr_cardio','hr_peak','spd_95']\n",
    "#cols = ['sport','hr_fatburn','hr_cardio','hr_peak','spd_avg','spd_95']\n",
    "#cols = ['sport','hr_outof','hr_fatburn','hr_cardio','hr_peak','spd_avg','spd_95']\n",
    "#cols = ['sport','hr_outof','hr_fatburn','hr_cardio','hr_peak','spd_avg','spd_25','spd_75']\n",
    "#cols = ['sport','hr_outof','hr_fatburn','hr_cardio','hr_peak','spd_avg','spd_min','spd_25','spd_75','spd_max']\n",
    "\n",
    "#cols = ['sport','hr_outof','hr_fatburn','hr_cardio','hr_peak','spd_low','spd_med','spd_high','spd_vhigh']\n",
    "\n",
    "#cols = ['sport','hr_outof','hr_fatburn','hr_cardio','hr_peak','spd_avg','spd_95','alt_avg']\n",
    "#cols = ['sport','hr_outof','hr_fatburn','hr_cardio','hr_peak','spd_avg','spd_95','alt_avg','alt_diff']\n",
    "cols = ['sport','hr_outof','hr_fatburn','hr_cardio','hr_peak','spd_avg','spd_95','alt_avg','alt_min','alt_max']\n",
    "\n",
    "#cols = ['sport']\n",
    "\n",
    "# for i in range(4):\n",
    "#     for j in range(4):\n",
    "#         col_name = 'spd_hr_{}_{}'.format(i,j)\n",
    "#         cols.append(col_name)\n",
    "\n",
    "df_model = df[cols]"
   ]
  },
  {
   "cell_type": "code",
   "execution_count": 14,
   "metadata": {},
   "outputs": [],
   "source": [
    "# select only sports with minimal rows\n",
    "\n",
    "count = df_model['sport'].value_counts()\n",
    "\n",
    "#count_cond = count[count > 1].index\n",
    "#count_cond = count[count >= 5].inde\n",
    "#count_cond = count[count >= 10].index\n",
    "count_cond = count[count >= 50].index\n",
    "#count_cond = count[count >= 70].index\n",
    "#count_cond = count[count >= 100].index\n",
    "#count_cond = count[count >= 200].index\n",
    "#count_cond = count[count >= 800].index\n",
    "#count_cond = count[count >= 1500].index\n",
    "#count_cond = count[count >= 70000].index\n",
    "\n",
    "count_mask = df_model['sport'].isin(count_cond)\n",
    "df_model = df_model[count_mask]"
   ]
  },
  {
   "cell_type": "code",
   "execution_count": 15,
   "metadata": {},
   "outputs": [
    {
     "name": "stdout",
     "output_type": "stream",
     "text": [
      "(158405, 10)\n"
     ]
    },
    {
     "data": {
      "text/html": [
       "<div>\n",
       "<style scoped>\n",
       "    .dataframe tbody tr th:only-of-type {\n",
       "        vertical-align: middle;\n",
       "    }\n",
       "\n",
       "    .dataframe tbody tr th {\n",
       "        vertical-align: top;\n",
       "    }\n",
       "\n",
       "    .dataframe thead th {\n",
       "        text-align: right;\n",
       "    }\n",
       "</style>\n",
       "<table border=\"1\" class=\"dataframe\">\n",
       "  <thead>\n",
       "    <tr style=\"text-align: right;\">\n",
       "      <th></th>\n",
       "      <th>sport</th>\n",
       "      <th>hr_outof</th>\n",
       "      <th>hr_fatburn</th>\n",
       "      <th>hr_cardio</th>\n",
       "      <th>hr_peak</th>\n",
       "      <th>spd_avg</th>\n",
       "      <th>spd_95</th>\n",
       "      <th>alt_avg</th>\n",
       "      <th>alt_min</th>\n",
       "      <th>alt_max</th>\n",
       "    </tr>\n",
       "  </thead>\n",
       "  <tbody>\n",
       "    <tr>\n",
       "      <th>0</th>\n",
       "      <td>bike</td>\n",
       "      <td>0.0</td>\n",
       "      <td>0.0080</td>\n",
       "      <td>0.5079</td>\n",
       "      <td>0.4841</td>\n",
       "      <td>26.152328</td>\n",
       "      <td>41.02704</td>\n",
       "      <td>44.785333</td>\n",
       "      <td>17.6</td>\n",
       "      <td>74.2</td>\n",
       "    </tr>\n",
       "    <tr>\n",
       "      <th>1</th>\n",
       "      <td>bike</td>\n",
       "      <td>0.0</td>\n",
       "      <td>0.0113</td>\n",
       "      <td>0.6122</td>\n",
       "      <td>0.3766</td>\n",
       "      <td>27.636272</td>\n",
       "      <td>43.17102</td>\n",
       "      <td>36.603111</td>\n",
       "      <td>17.2</td>\n",
       "      <td>67.8</td>\n",
       "    </tr>\n",
       "    <tr>\n",
       "      <th>2</th>\n",
       "      <td>bike</td>\n",
       "      <td>0.0</td>\n",
       "      <td>0.0858</td>\n",
       "      <td>0.7904</td>\n",
       "      <td>0.1238</td>\n",
       "      <td>26.159896</td>\n",
       "      <td>39.83040</td>\n",
       "      <td>64.619111</td>\n",
       "      <td>36.4</td>\n",
       "      <td>94.0</td>\n",
       "    </tr>\n",
       "    <tr>\n",
       "      <th>3</th>\n",
       "      <td>bike</td>\n",
       "      <td>0.0</td>\n",
       "      <td>0.0312</td>\n",
       "      <td>0.6747</td>\n",
       "      <td>0.2941</td>\n",
       "      <td>27.135904</td>\n",
       "      <td>42.42096</td>\n",
       "      <td>33.492889</td>\n",
       "      <td>12.4</td>\n",
       "      <td>64.0</td>\n",
       "    </tr>\n",
       "    <tr>\n",
       "      <th>4</th>\n",
       "      <td>bike</td>\n",
       "      <td>0.0</td>\n",
       "      <td>0.0057</td>\n",
       "      <td>0.0762</td>\n",
       "      <td>0.9180</td>\n",
       "      <td>31.241183</td>\n",
       "      <td>46.51405</td>\n",
       "      <td>23.877778</td>\n",
       "      <td>9.8</td>\n",
       "      <td>37.8</td>\n",
       "    </tr>\n",
       "  </tbody>\n",
       "</table>\n",
       "</div>"
      ],
      "text/plain": [
       "  sport  hr_outof  hr_fatburn  hr_cardio  hr_peak    spd_avg    spd_95  \\\n",
       "0  bike       0.0      0.0080     0.5079   0.4841  26.152328  41.02704   \n",
       "1  bike       0.0      0.0113     0.6122   0.3766  27.636272  43.17102   \n",
       "2  bike       0.0      0.0858     0.7904   0.1238  26.159896  39.83040   \n",
       "3  bike       0.0      0.0312     0.6747   0.2941  27.135904  42.42096   \n",
       "4  bike       0.0      0.0057     0.0762   0.9180  31.241183  46.51405   \n",
       "\n",
       "     alt_avg  alt_min  alt_max  \n",
       "0  44.785333     17.6     74.2  \n",
       "1  36.603111     17.2     67.8  \n",
       "2  64.619111     36.4     94.0  \n",
       "3  33.492889     12.4     64.0  \n",
       "4  23.877778      9.8     37.8  "
      ]
     },
     "execution_count": 15,
     "metadata": {},
     "output_type": "execute_result"
    }
   ],
   "source": [
    "print(df_model.shape)\n",
    "df_model.head()"
   ]
  },
  {
   "cell_type": "code",
   "execution_count": 16,
   "metadata": {},
   "outputs": [
    {
     "data": {
      "text/plain": [
       "bike             87035\n",
       "run              67325\n",
       "walk              1498\n",
       "skiing            1061\n",
       "orienteering       849\n",
       "skate              246\n",
       "hiking             232\n",
       "kayaking            89\n",
       "rowing              70\n",
       "Name: sport, dtype: int64"
      ]
     },
     "execution_count": 16,
     "metadata": {},
     "output_type": "execute_result"
    }
   ],
   "source": [
    "# print number of workout by sports (with minimal rows)\n",
    "\n",
    "df_model['sport'].value_counts()"
   ]
  },
  {
   "cell_type": "markdown",
   "metadata": {},
   "source": [
    "### Plot df_model"
   ]
  },
  {
   "cell_type": "code",
   "execution_count": 17,
   "metadata": {},
   "outputs": [],
   "source": [
    "# order = df_model.groupby('sport')['hr_max'].median().sort_values(ascending=False).index\n",
    "\n",
    "# plt.figure(figsize=(20,15))\n",
    "# #plt.xlim(0,300)\n",
    "\n",
    "# sns.boxplot(data=df_model,x='hr_max',y='sport',order=order);"
   ]
  },
  {
   "cell_type": "code",
   "execution_count": 18,
   "metadata": {},
   "outputs": [],
   "source": [
    "# order = df_model.groupby('sport')['hr_avg'].median().sort_values(ascending=False).index\n",
    "\n",
    "# plt.figure(figsize=(20,15))\n",
    "# #plt.xlim(0,300)\n",
    "\n",
    "# sns.boxplot(data=df_model,x='hr_avg',y='sport',order=order);"
   ]
  },
  {
   "cell_type": "code",
   "execution_count": 19,
   "metadata": {},
   "outputs": [],
   "source": [
    "# order = df_model.groupby('sport')['hr_min'].median().sort_values(ascending=False).index\n",
    "\n",
    "# plt.figure(figsize=(20,15))\n",
    "# #plt.xlim(0,300)\n",
    "\n",
    "# sns.boxplot(data=df_model,x='hr_min',y='sport',order=order);"
   ]
  },
  {
   "cell_type": "markdown",
   "metadata": {},
   "source": [
    "### Create Features and Target"
   ]
  },
  {
   "cell_type": "code",
   "execution_count": 20,
   "metadata": {},
   "outputs": [
    {
     "data": {
      "text/html": [
       "<div>\n",
       "<style scoped>\n",
       "    .dataframe tbody tr th:only-of-type {\n",
       "        vertical-align: middle;\n",
       "    }\n",
       "\n",
       "    .dataframe tbody tr th {\n",
       "        vertical-align: top;\n",
       "    }\n",
       "\n",
       "    .dataframe thead th {\n",
       "        text-align: right;\n",
       "    }\n",
       "</style>\n",
       "<table border=\"1\" class=\"dataframe\">\n",
       "  <thead>\n",
       "    <tr style=\"text-align: right;\">\n",
       "      <th></th>\n",
       "      <th>sport</th>\n",
       "      <th>hr_outof</th>\n",
       "      <th>hr_fatburn</th>\n",
       "      <th>hr_cardio</th>\n",
       "      <th>hr_peak</th>\n",
       "      <th>spd_avg</th>\n",
       "      <th>spd_95</th>\n",
       "      <th>alt_avg</th>\n",
       "      <th>alt_min</th>\n",
       "      <th>alt_max</th>\n",
       "    </tr>\n",
       "  </thead>\n",
       "  <tbody>\n",
       "    <tr>\n",
       "      <th>0</th>\n",
       "      <td>bike</td>\n",
       "      <td>0.0</td>\n",
       "      <td>0.0080</td>\n",
       "      <td>0.5079</td>\n",
       "      <td>0.4841</td>\n",
       "      <td>26.152328</td>\n",
       "      <td>41.02704</td>\n",
       "      <td>44.785333</td>\n",
       "      <td>17.6</td>\n",
       "      <td>74.2</td>\n",
       "    </tr>\n",
       "    <tr>\n",
       "      <th>1</th>\n",
       "      <td>bike</td>\n",
       "      <td>0.0</td>\n",
       "      <td>0.0113</td>\n",
       "      <td>0.6122</td>\n",
       "      <td>0.3766</td>\n",
       "      <td>27.636272</td>\n",
       "      <td>43.17102</td>\n",
       "      <td>36.603111</td>\n",
       "      <td>17.2</td>\n",
       "      <td>67.8</td>\n",
       "    </tr>\n",
       "    <tr>\n",
       "      <th>2</th>\n",
       "      <td>bike</td>\n",
       "      <td>0.0</td>\n",
       "      <td>0.0858</td>\n",
       "      <td>0.7904</td>\n",
       "      <td>0.1238</td>\n",
       "      <td>26.159896</td>\n",
       "      <td>39.83040</td>\n",
       "      <td>64.619111</td>\n",
       "      <td>36.4</td>\n",
       "      <td>94.0</td>\n",
       "    </tr>\n",
       "    <tr>\n",
       "      <th>3</th>\n",
       "      <td>bike</td>\n",
       "      <td>0.0</td>\n",
       "      <td>0.0312</td>\n",
       "      <td>0.6747</td>\n",
       "      <td>0.2941</td>\n",
       "      <td>27.135904</td>\n",
       "      <td>42.42096</td>\n",
       "      <td>33.492889</td>\n",
       "      <td>12.4</td>\n",
       "      <td>64.0</td>\n",
       "    </tr>\n",
       "    <tr>\n",
       "      <th>4</th>\n",
       "      <td>bike</td>\n",
       "      <td>0.0</td>\n",
       "      <td>0.0057</td>\n",
       "      <td>0.0762</td>\n",
       "      <td>0.9180</td>\n",
       "      <td>31.241183</td>\n",
       "      <td>46.51405</td>\n",
       "      <td>23.877778</td>\n",
       "      <td>9.8</td>\n",
       "      <td>37.8</td>\n",
       "    </tr>\n",
       "  </tbody>\n",
       "</table>\n",
       "</div>"
      ],
      "text/plain": [
       "  sport  hr_outof  hr_fatburn  hr_cardio  hr_peak    spd_avg    spd_95  \\\n",
       "0  bike       0.0      0.0080     0.5079   0.4841  26.152328  41.02704   \n",
       "1  bike       0.0      0.0113     0.6122   0.3766  27.636272  43.17102   \n",
       "2  bike       0.0      0.0858     0.7904   0.1238  26.159896  39.83040   \n",
       "3  bike       0.0      0.0312     0.6747   0.2941  27.135904  42.42096   \n",
       "4  bike       0.0      0.0057     0.0762   0.9180  31.241183  46.51405   \n",
       "\n",
       "     alt_avg  alt_min  alt_max  \n",
       "0  44.785333     17.6     74.2  \n",
       "1  36.603111     17.2     67.8  \n",
       "2  64.619111     36.4     94.0  \n",
       "3  33.492889     12.4     64.0  \n",
       "4  23.877778      9.8     37.8  "
      ]
     },
     "execution_count": 20,
     "metadata": {},
     "output_type": "execute_result"
    }
   ],
   "source": [
    "df_model.head()"
   ]
  },
  {
   "cell_type": "code",
   "execution_count": 21,
   "metadata": {},
   "outputs": [],
   "source": [
    "# doing scaling and encoding before create X and y\n",
    "\n",
    "cols = df_model.columns[1:]\n",
    "\n",
    "ss = StandardScaler()\n",
    "df_model[cols] = ss.fit_transform(df_model[cols])\n",
    "\n",
    "le = LabelEncoder()\n",
    "df_model['sport'] = le.fit_transform(df_model['sport'])"
   ]
  },
  {
   "cell_type": "code",
   "execution_count": 22,
   "metadata": {},
   "outputs": [],
   "source": [
    "# create feature and target. next perform train_test_split\n",
    "\n",
    "X = df_model.drop(columns='sport')\n",
    "y = df_model['sport']\n",
    "\n",
    "X_train, X_test, y_train, y_test = train_test_split(X, y, train_size=0.7, test_size=0.3,stratify=y,random_state=3050)"
   ]
  },
  {
   "cell_type": "code",
   "execution_count": 23,
   "metadata": {},
   "outputs": [
    {
     "data": {
      "text/html": [
       "<div>\n",
       "<style scoped>\n",
       "    .dataframe tbody tr th:only-of-type {\n",
       "        vertical-align: middle;\n",
       "    }\n",
       "\n",
       "    .dataframe tbody tr th {\n",
       "        vertical-align: top;\n",
       "    }\n",
       "\n",
       "    .dataframe thead th {\n",
       "        text-align: right;\n",
       "    }\n",
       "</style>\n",
       "<table border=\"1\" class=\"dataframe\">\n",
       "  <thead>\n",
       "    <tr style=\"text-align: right;\">\n",
       "      <th></th>\n",
       "      <th>sport</th>\n",
       "      <th>hr_outof</th>\n",
       "      <th>hr_fatburn</th>\n",
       "      <th>hr_cardio</th>\n",
       "      <th>hr_peak</th>\n",
       "      <th>spd_avg</th>\n",
       "      <th>spd_95</th>\n",
       "      <th>alt_avg</th>\n",
       "      <th>alt_min</th>\n",
       "      <th>alt_max</th>\n",
       "    </tr>\n",
       "  </thead>\n",
       "  <tbody>\n",
       "    <tr>\n",
       "      <th>0</th>\n",
       "      <td>0</td>\n",
       "      <td>-0.314316</td>\n",
       "      <td>-0.751163</td>\n",
       "      <td>0.109803</td>\n",
       "      <td>0.654405</td>\n",
       "      <td>0.947949</td>\n",
       "      <td>1.181929</td>\n",
       "      <td>-0.434646</td>\n",
       "      <td>-0.439655</td>\n",
       "      <td>-0.439240</td>\n",
       "    </tr>\n",
       "    <tr>\n",
       "      <th>1</th>\n",
       "      <td>0</td>\n",
       "      <td>-0.314316</td>\n",
       "      <td>-0.739587</td>\n",
       "      <td>0.436414</td>\n",
       "      <td>0.317076</td>\n",
       "      <td>1.123873</td>\n",
       "      <td>1.347047</td>\n",
       "      <td>-0.463418</td>\n",
       "      <td>-0.441166</td>\n",
       "      <td>-0.459590</td>\n",
       "    </tr>\n",
       "    <tr>\n",
       "      <th>2</th>\n",
       "      <td>0</td>\n",
       "      <td>-0.314316</td>\n",
       "      <td>-0.478252</td>\n",
       "      <td>0.994441</td>\n",
       "      <td>-0.476195</td>\n",
       "      <td>0.948846</td>\n",
       "      <td>1.089771</td>\n",
       "      <td>-0.364902</td>\n",
       "      <td>-0.368680</td>\n",
       "      <td>-0.376285</td>\n",
       "    </tr>\n",
       "    <tr>\n",
       "      <th>3</th>\n",
       "      <td>0</td>\n",
       "      <td>-0.314316</td>\n",
       "      <td>-0.669780</td>\n",
       "      <td>0.632131</td>\n",
       "      <td>0.058196</td>\n",
       "      <td>1.064553</td>\n",
       "      <td>1.289281</td>\n",
       "      <td>-0.474355</td>\n",
       "      <td>-0.459287</td>\n",
       "      <td>-0.471672</td>\n",
       "    </tr>\n",
       "    <tr>\n",
       "      <th>4</th>\n",
       "      <td>0</td>\n",
       "      <td>-0.314316</td>\n",
       "      <td>-0.759231</td>\n",
       "      <td>-1.242050</td>\n",
       "      <td>2.015958</td>\n",
       "      <td>1.551241</td>\n",
       "      <td>1.604508</td>\n",
       "      <td>-0.508165</td>\n",
       "      <td>-0.469103</td>\n",
       "      <td>-0.554976</td>\n",
       "    </tr>\n",
       "  </tbody>\n",
       "</table>\n",
       "</div>"
      ],
      "text/plain": [
       "   sport  hr_outof  hr_fatburn  hr_cardio   hr_peak   spd_avg    spd_95  \\\n",
       "0      0 -0.314316   -0.751163   0.109803  0.654405  0.947949  1.181929   \n",
       "1      0 -0.314316   -0.739587   0.436414  0.317076  1.123873  1.347047   \n",
       "2      0 -0.314316   -0.478252   0.994441 -0.476195  0.948846  1.089771   \n",
       "3      0 -0.314316   -0.669780   0.632131  0.058196  1.064553  1.289281   \n",
       "4      0 -0.314316   -0.759231  -1.242050  2.015958  1.551241  1.604508   \n",
       "\n",
       "    alt_avg   alt_min   alt_max  \n",
       "0 -0.434646 -0.439655 -0.439240  \n",
       "1 -0.463418 -0.441166 -0.459590  \n",
       "2 -0.364902 -0.368680 -0.376285  \n",
       "3 -0.474355 -0.459287 -0.471672  \n",
       "4 -0.508165 -0.469103 -0.554976  "
      ]
     },
     "execution_count": 23,
     "metadata": {},
     "output_type": "execute_result"
    }
   ],
   "source": [
    "df_model.head()"
   ]
  },
  {
   "cell_type": "markdown",
   "metadata": {},
   "source": [
    "### Handle Imbalanced Data"
   ]
  },
  {
   "cell_type": "code",
   "execution_count": 24,
   "metadata": {},
   "outputs": [
    {
     "name": "stdout",
     "output_type": "stream",
     "text": [
      "(110883, 9)\n",
      "(47522, 9)\n",
      "(110883,)\n",
      "(47522,)\n"
     ]
    }
   ],
   "source": [
    "# check before upsample/downsample\n",
    "\n",
    "print(X_train.shape)\n",
    "print(X_test.shape)\n",
    "print(y_train.shape)\n",
    "print(y_test.shape)"
   ]
  },
  {
   "cell_type": "code",
   "execution_count": 25,
   "metadata": {},
   "outputs": [
    {
     "data": {
      "text/plain": [
       "{0: 60924, 1: 163, 2: 62, 3: 594, 4: 49, 5: 47127, 6: 172, 7: 743, 8: 1049}"
      ]
     },
     "execution_count": 25,
     "metadata": {},
     "output_type": "execute_result"
    }
   ],
   "source": [
    "# check before upsample/downsample\n",
    "\n",
    "unique, counts = np.unique(y_train, return_counts=True)\n",
    "dict(zip(unique, counts))"
   ]
  },
  {
   "cell_type": "code",
   "execution_count": 26,
   "metadata": {},
   "outputs": [],
   "source": [
    "# sm = SMOTE(random_state=3050)\n",
    "# X_train, y_train = sm.fit_sample(X_train, y_train.ravel())"
   ]
  },
  {
   "cell_type": "code",
   "execution_count": 27,
   "metadata": {},
   "outputs": [],
   "source": [
    "# get majority class index and row count\n",
    "\n",
    "# sport_counts = df_model['sport'].value_counts()\n",
    "# print(sport_counts)\n",
    "\n",
    "# major_class_index = sport_counts.index[0]\n",
    "# major_class_count = sport_counts.values[0]\n",
    "# print(major_class_index,major_class_count)"
   ]
  },
  {
   "cell_type": "code",
   "execution_count": 28,
   "metadata": {},
   "outputs": [
    {
     "name": "stdout",
     "output_type": "stream",
     "text": [
      "0    60924\n",
      "5    47127\n",
      "8     1049\n",
      "7      743\n",
      "3      594\n",
      "6      172\n",
      "1      163\n",
      "2       62\n",
      "4       49\n",
      "Name: sport, dtype: int64\n",
      "(110883, 10)\n"
     ]
    },
    {
     "data": {
      "text/html": [
       "<div>\n",
       "<style scoped>\n",
       "    .dataframe tbody tr th:only-of-type {\n",
       "        vertical-align: middle;\n",
       "    }\n",
       "\n",
       "    .dataframe tbody tr th {\n",
       "        vertical-align: top;\n",
       "    }\n",
       "\n",
       "    .dataframe thead th {\n",
       "        text-align: right;\n",
       "    }\n",
       "</style>\n",
       "<table border=\"1\" class=\"dataframe\">\n",
       "  <thead>\n",
       "    <tr style=\"text-align: right;\">\n",
       "      <th></th>\n",
       "      <th>hr_outof</th>\n",
       "      <th>hr_fatburn</th>\n",
       "      <th>hr_cardio</th>\n",
       "      <th>hr_peak</th>\n",
       "      <th>spd_avg</th>\n",
       "      <th>spd_95</th>\n",
       "      <th>alt_avg</th>\n",
       "      <th>alt_min</th>\n",
       "      <th>alt_max</th>\n",
       "      <th>sport</th>\n",
       "    </tr>\n",
       "  </thead>\n",
       "  <tbody>\n",
       "    <tr>\n",
       "      <th>124508</th>\n",
       "      <td>-0.221534</td>\n",
       "      <td>0.592695</td>\n",
       "      <td>0.373159</td>\n",
       "      <td>-0.838941</td>\n",
       "      <td>0.891609</td>\n",
       "      <td>0.448963</td>\n",
       "      <td>-0.226873</td>\n",
       "      <td>-0.167835</td>\n",
       "      <td>-0.289165</td>\n",
       "      <td>0</td>\n",
       "    </tr>\n",
       "    <tr>\n",
       "      <th>159550</th>\n",
       "      <td>-0.267392</td>\n",
       "      <td>1.217444</td>\n",
       "      <td>-0.145411</td>\n",
       "      <td>-0.864672</td>\n",
       "      <td>1.489162</td>\n",
       "      <td>0.924488</td>\n",
       "      <td>-0.574532</td>\n",
       "      <td>-0.506100</td>\n",
       "      <td>-0.635101</td>\n",
       "      <td>0</td>\n",
       "    </tr>\n",
       "    <tr>\n",
       "      <th>85115</th>\n",
       "      <td>2.093751</td>\n",
       "      <td>1.243402</td>\n",
       "      <td>-0.861890</td>\n",
       "      <td>-0.864672</td>\n",
       "      <td>0.229862</td>\n",
       "      <td>0.884482</td>\n",
       "      <td>-0.491207</td>\n",
       "      <td>-0.560464</td>\n",
       "      <td>-0.491385</td>\n",
       "      <td>0</td>\n",
       "    </tr>\n",
       "    <tr>\n",
       "      <th>7886</th>\n",
       "      <td>-0.314316</td>\n",
       "      <td>-0.736780</td>\n",
       "      <td>-0.012324</td>\n",
       "      <td>0.763605</td>\n",
       "      <td>-1.006004</td>\n",
       "      <td>-0.983572</td>\n",
       "      <td>4.361697</td>\n",
       "      <td>4.711337</td>\n",
       "      <td>3.863332</td>\n",
       "      <td>5</td>\n",
       "    </tr>\n",
       "    <tr>\n",
       "      <th>104905</th>\n",
       "      <td>-0.314316</td>\n",
       "      <td>0.100895</td>\n",
       "      <td>0.093519</td>\n",
       "      <td>-0.091170</td>\n",
       "      <td>0.964533</td>\n",
       "      <td>1.645347</td>\n",
       "      <td>1.394194</td>\n",
       "      <td>1.311320</td>\n",
       "      <td>1.336859</td>\n",
       "      <td>0</td>\n",
       "    </tr>\n",
       "  </tbody>\n",
       "</table>\n",
       "</div>"
      ],
      "text/plain": [
       "        hr_outof  hr_fatburn  hr_cardio   hr_peak   spd_avg    spd_95  \\\n",
       "124508 -0.221534    0.592695   0.373159 -0.838941  0.891609  0.448963   \n",
       "159550 -0.267392    1.217444  -0.145411 -0.864672  1.489162  0.924488   \n",
       "85115   2.093751    1.243402  -0.861890 -0.864672  0.229862  0.884482   \n",
       "7886   -0.314316   -0.736780  -0.012324  0.763605 -1.006004 -0.983572   \n",
       "104905 -0.314316    0.100895   0.093519 -0.091170  0.964533  1.645347   \n",
       "\n",
       "         alt_avg   alt_min   alt_max  sport  \n",
       "124508 -0.226873 -0.167835 -0.289165      0  \n",
       "159550 -0.574532 -0.506100 -0.635101      0  \n",
       "85115  -0.491207 -0.560464 -0.491385      0  \n",
       "7886    4.361697  4.711337  3.863332      5  \n",
       "104905  1.394194  1.311320  1.336859      0  "
      ]
     },
     "execution_count": 28,
     "metadata": {},
     "output_type": "execute_result"
    }
   ],
   "source": [
    "# concatenate our training data back together\n",
    "\n",
    "Xy_train = pd.concat([X_train, y_train], axis=1)\n",
    "\n",
    "sport_counts = Xy_train['sport'].value_counts()\n",
    "print(sport_counts)\n",
    "\n",
    "print(Xy_train.shape)\n",
    "Xy_train.head()"
   ]
  },
  {
   "cell_type": "code",
   "execution_count": 29,
   "metadata": {},
   "outputs": [
    {
     "name": "stdout",
     "output_type": "stream",
     "text": [
      "downsampling 0 60924\n",
      "downsampling 5 47127\n",
      "upsampling 4 49\n",
      "upsampling 3 594\n",
      "upsampling 2 62\n",
      "upsampling 6 172\n",
      "upsampling 7 743\n",
      "upsampling 8 1049\n",
      "upsampling 1 163\n"
     ]
    }
   ],
   "source": [
    "# perform upsampling and downsampling\n",
    "\n",
    "sample_size = 12000\n",
    "\n",
    "df_all_sample = pd.DataFrame()\n",
    "\n",
    "sport_list = df_model['sport'].unique()\n",
    "sport_list\n",
    "\n",
    "for sport in sport_list:\n",
    "    \n",
    "    cond = Xy_train['sport'] == sport\n",
    "    df_sport = Xy_train[cond]\n",
    "    \n",
    "    # perform downsampling\n",
    "    if sport_counts[sport] >= sample_size:    \n",
    "        print('downsampling',sport,sport_counts[sport])\n",
    "        df_sample = df_sport.sample(sample_size,replace=False,random_state=3050)\n",
    "        \n",
    "    # perform upsampling\n",
    "    # sport_counts[sport] < sample_size: \n",
    "    else:\n",
    "        print('upsampling',sport,sport_counts[sport])\n",
    "        df_sample = df_sport.sample(sample_size,replace=True,random_state=3050)\n",
    "        \n",
    "    df_all_sample = pd.concat([df_all_sample, df_sample], axis=0)\n",
    "    \n",
    "X_train = df_all_sample.drop(columns='sport').values\n",
    "y_train = df_all_sample['sport'].values"
   ]
  },
  {
   "cell_type": "code",
   "execution_count": 30,
   "metadata": {},
   "outputs": [],
   "source": [
    "# # perform upsampling for minority classes\n",
    "\n",
    "# df_all_sample = pd.DataFrame()\n",
    "\n",
    "# sport_list = df_model['sport'].unique()\n",
    "\n",
    "# for sport in sport_list:\n",
    "    \n",
    "#     if sport != major_class_index:\n",
    "        \n",
    "#         cond = df_model['sport'] == sport\n",
    "#         df_sport = df_model[cond]\n",
    "#         #print(sport,len(df_sport))\n",
    "        \n",
    "#         df_sample = df_sport.sample(major_class_count,replace=True,random_state=3050)\n",
    "#         df_all_sample = pd.concat([df_all_sample, df_sample], axis=0)\n",
    "        \n",
    "# cond = df_model['sport'] == major_class_index\n",
    "# df_top = df_model[cond]\n",
    "# df_all_sample = pd.concat([df_all_sample, df_top], axis=0)\n",
    "\n",
    "# X_train = df_all_sample.drop(columns='sport').values\n",
    "# y_train = df_all_sample['sport'].values"
   ]
  },
  {
   "cell_type": "code",
   "execution_count": 31,
   "metadata": {},
   "outputs": [
    {
     "name": "stdout",
     "output_type": "stream",
     "text": [
      "(108000, 9)\n",
      "(47522, 9)\n",
      "(108000,)\n",
      "(47522,)\n"
     ]
    }
   ],
   "source": [
    "# check after upsample/downsample\n",
    "\n",
    "print(X_train.shape)\n",
    "print(X_test.shape)\n",
    "print(y_train.shape)\n",
    "print(y_test.shape)"
   ]
  },
  {
   "cell_type": "code",
   "execution_count": 32,
   "metadata": {},
   "outputs": [
    {
     "data": {
      "text/plain": [
       "{0: 12000,\n",
       " 1: 12000,\n",
       " 2: 12000,\n",
       " 3: 12000,\n",
       " 4: 12000,\n",
       " 5: 12000,\n",
       " 6: 12000,\n",
       " 7: 12000,\n",
       " 8: 12000}"
      ]
     },
     "execution_count": 32,
     "metadata": {},
     "output_type": "execute_result"
    }
   ],
   "source": [
    "# check after upsample/downsample\n",
    "\n",
    "unique, counts = np.unique(y_train, return_counts=True)\n",
    "dict(zip(unique, counts))"
   ]
  },
  {
   "cell_type": "code",
   "execution_count": 33,
   "metadata": {},
   "outputs": [],
   "source": [
    "# store predictions in df_pred\n",
    "\n",
    "df_pred = pd.DataFrame()"
   ]
  },
  {
   "cell_type": "markdown",
   "metadata": {},
   "source": [
    "### Logistic Regression Model"
   ]
  },
  {
   "cell_type": "code",
   "execution_count": 34,
   "metadata": {},
   "outputs": [
    {
     "name": "stdout",
     "output_type": "stream",
     "text": [
      "score: 0.9446483830035317 [0.93895973 0.94201755 0.95056974 0.94453914 0.94715575]\n",
      "train r2: 0.6064537037037037\n",
      "test r2: 0.7117755986700897\n"
     ]
    }
   ],
   "source": [
    "# init model\n",
    "logreg = LogisticRegression()\n",
    "\n",
    "# perform cross validation\n",
    "score = cross_val_score(logreg,X,y,cv=5)\n",
    "print('score:',score.mean(),score)\n",
    "\n",
    "# fit model\n",
    "logreg.fit(X_train, y_train)\n",
    "\n",
    "# score model\n",
    "print(\"train r2:\",logreg.score(X_train, y_train))\n",
    "print(\"test r2:\",logreg.score(X_test, y_test))"
   ]
  },
  {
   "cell_type": "code",
   "execution_count": 35,
   "metadata": {},
   "outputs": [
    {
     "name": "stdout",
     "output_type": "stream",
     "text": [
      "Logisitic Regression Model\n",
      "rows:actual columns:predicted\n",
      "\n",
      "accuracy_score: 0.7117755986700897\n",
      "f1_score: 0.8102472219445799\n",
      "precision_score: 0.9591250034468513\n",
      "recall_score: 0.7117755986700897\n"
     ]
    },
    {
     "data": {
      "image/png": "[encoded data removed]",
      "text/plain": [
       "<Figure size 864x576 with 2 Axes>"
      ]
     },
     "metadata": {
      "needs_background": "light"
     },
     "output_type": "display_data"
    }
   ],
   "source": [
    "# confusion matrix\n",
    "print('Logisitic Regression Model')\n",
    "print('rows:actual columns:predicted')\n",
    "print('')\n",
    "\n",
    "y_pred = logreg.predict(X_test)\n",
    "df_pred['lr'] = y_pred\n",
    "\n",
    "# y_pred = logreg.predict_proba(X_test)\n",
    "# pd.DataFrame(y_pred,columns=le.classes_)\n",
    "\n",
    "accuracy = accuracy_score(y_test,y_pred)\n",
    "f1 = f1_score(y_test, y_pred,average='weighted')\n",
    "precision = precision_score(y_test,y_pred,average='weighted')\n",
    "recall = recall_score(y_test,y_pred,average='weighted')\n",
    "print('accuracy_score:',accuracy)\n",
    "print('f1_score:',f1)\n",
    "print('precision_score:',precision)\n",
    "print('recall_score:',recall)\n",
    "\n",
    "# cohen_score = cohen_kappa_score(y_test, y_pred)\n",
    "# print('cohen_score',cohen_score)\n",
    "\n",
    "cm = confusion_matrix(y_test, y_pred)\n",
    "cm = cm.astype('float') / cm.sum(axis=1)[:, np.newaxis]\n",
    "df_cm = pd.DataFrame(data=cm, columns=le.classes_, index=le.classes_)\n",
    "\n",
    "plt.figure(figsize=(12,8))\n",
    "sns.heatmap(df_cm,annot=True,cmap=\"Blues\");"
   ]
  },
  {
   "cell_type": "markdown",
   "metadata": {},
   "source": [
    "### KNN Model"
   ]
  },
  {
   "cell_type": "code",
   "execution_count": 36,
   "metadata": {},
   "outputs": [
    {
     "name": "stdout",
     "output_type": "stream",
     "text": [
      "score: 0.956131383060041 [0.957013   0.95682091 0.95505192 0.95785985 0.95391123]\n",
      "train r2: 0.9890925925925926\n",
      "test r2: 0.9194899204578932\n"
     ]
    }
   ],
   "source": [
    "# init model\n",
    "knn = KNeighborsClassifier(n_neighbors=3)\n",
    "\n",
    "# perform cross validation\n",
    "score = cross_val_score(knn,X,y,cv=5)\n",
    "print('score:',score.mean(),score)\n",
    "\n",
    "# fit model\n",
    "knn.fit(X_train, y_train)\n",
    "\n",
    "# score model\n",
    "print(\"train r2:\",knn.score(X_train, y_train))\n",
    "print(\"test r2:\",knn.score(X_test, y_test))"
   ]
  },
  {
   "cell_type": "code",
   "execution_count": 37,
   "metadata": {},
   "outputs": [
    {
     "name": "stdout",
     "output_type": "stream",
     "text": [
      "KNN Model\n",
      "rows:actual columns:predicted\n",
      "accuracy_score: 0.9194899204578932\n",
      "f1_score: 0.9375038945147637\n",
      "precision_score: 0.9613021254573632\n",
      "recall_score: 0.9194899204578932\n"
     ]
    },
    {
     "data": {
      "image/png": "[encoded data removed]",
      "text/plain": [
       "<Figure size 864x576 with 2 Axes>"
      ]
     },
     "metadata": {
      "needs_background": "light"
     },
     "output_type": "display_data"
    }
   ],
   "source": [
    "# confusion matrix\n",
    "print('KNN Model')\n",
    "print('rows:actual columns:predicted')\n",
    "\n",
    "y_pred = knn.predict(X_test)\n",
    "df_pred['knn'] = y_pred\n",
    "\n",
    "# y_pred = knn.predict_proba(X_test)\n",
    "# pd.DataFrame(y_pred,columns=le.classes_)\n",
    "\n",
    "accuracy = accuracy_score(y_test,y_pred)\n",
    "f1 = f1_score(y_test, y_pred,average='weighted')\n",
    "precision = precision_score(y_test,y_pred,average='weighted')\n",
    "recall = recall_score(y_test,y_pred,average='weighted')\n",
    "print('accuracy_score:',accuracy)\n",
    "print('f1_score:',f1)\n",
    "print('precision_score:',precision)\n",
    "print('recall_score:',recall)\n",
    "\n",
    "# cohen_score = cohen_kappa_score(y_test, y_pred)\n",
    "# print('cohen_score',cohen_score)\n",
    "\n",
    "cm = confusion_matrix(y_test, y_pred)\n",
    "cm = cm.astype('float') / cm.sum(axis=1)[:, np.newaxis]\n",
    "df_cm = pd.DataFrame(data=cm, columns=le.classes_, index=le.classes_)\n",
    "\n",
    "plt.figure(figsize=(12,8))\n",
    "sns.heatmap(df_cm,annot=True,cmap=\"Blues\");"
   ]
  },
  {
   "cell_type": "markdown",
   "metadata": {},
   "source": [
    "### DTC Model"
   ]
  },
  {
   "cell_type": "code",
   "execution_count": 38,
   "metadata": {},
   "outputs": [
    {
     "name": "stdout",
     "output_type": "stream",
     "text": [
      "0.9592814751861004 [0.96203131 0.9600404  0.95621982 0.96306818 0.95504767]\n",
      "train r2: 0.9065925925925926\n",
      "test r2: 0.8277218972265477\n"
     ]
    }
   ],
   "source": [
    "# init model\n",
    "dtc = DecisionTreeClassifier(max_depth=10,random_state=3050)\n",
    "\n",
    "# perform cross validation\n",
    "score = cross_val_score(dtc,X,y,cv=5)\n",
    "print(score.mean(),score)\n",
    "\n",
    "# fit model\n",
    "dtc = dtc.fit(X_train,y_train)\n",
    "\n",
    "# score model\n",
    "print(\"train r2:\",dtc.score(X_train, y_train))\n",
    "print(\"test r2:\",dtc.score(X_test, y_test))"
   ]
  },
  {
   "cell_type": "code",
   "execution_count": 39,
   "metadata": {},
   "outputs": [
    {
     "name": "stdout",
     "output_type": "stream",
     "text": [
      "DTC Model\n",
      "rows:actual columns:predicted\n",
      "accuracy_score: 0.8277218972265477\n",
      "f1_score: 0.8855315350644161\n",
      "precision_score: 0.9640667339660356\n",
      "recall_score: 0.8277218972265477\n"
     ]
    },
    {
     "data": {
      "image/png": "[encoded data removed]",
      "text/plain": [
       "<Figure size 864x576 with 2 Axes>"
      ]
     },
     "metadata": {
      "needs_background": "light"
     },
     "output_type": "display_data"
    }
   ],
   "source": [
    "# confusion matrix\n",
    "print('DTC Model')\n",
    "print('rows:actual columns:predicted')\n",
    "\n",
    "y_pred = dtc.predict(X_test)\n",
    "df_pred['dtc'] = y_pred\n",
    "\n",
    "# y_pred = dtc.predict_proba(X_test)\n",
    "# pd.DataFrame(y_pred,columns=le.classes_)\n",
    "\n",
    "accuracy = accuracy_score(y_test,y_pred)\n",
    "f1 = f1_score(y_test, y_pred,average='weighted')\n",
    "precision = precision_score(y_test,y_pred,average='weighted')\n",
    "recall = recall_score(y_test,y_pred,average='weighted')\n",
    "print('accuracy_score:',accuracy)\n",
    "print('f1_score:',f1)\n",
    "print('precision_score:',precision)\n",
    "print('recall_score:',recall)\n",
    "\n",
    "# cohen_score = cohen_kappa_score(y_test, y_pred)\n",
    "# print('cohen_score',cohen_score)\n",
    "\n",
    "cm = confusion_matrix(y_test, y_pred)\n",
    "cm = cm.astype('float') / cm.sum(axis=1)[:, np.newaxis]\n",
    "df_cm = pd.DataFrame(data=cm, columns=le.classes_, index=le.classes_)\n",
    "\n",
    "plt.figure(figsize=(12,8))\n",
    "sns.heatmap(df_cm,annot=True,cmap=\"Blues\");"
   ]
  },
  {
   "cell_type": "code",
   "execution_count": 40,
   "metadata": {},
   "outputs": [],
   "source": [
    "# # initialize the output file object\n",
    "# dot_data = StringIO() \n",
    "\n",
    "# # my fit DecisionTreeRegressor object here is: dtr1\n",
    "# # for feature_names i put the columns of my Xr matrix\n",
    "# export_graphviz(dtc, \n",
    "#                 out_file=dot_data,  \n",
    "#                 filled=True, \n",
    "#                 rounded=True,\n",
    "#                 special_characters=True,\n",
    "#                 feature_names=df_model[features].columns\n",
    "#                )  \n",
    "\n",
    "# graph = pydotplus.graph_from_dot_data(dot_data.getvalue())  \n",
    "# Image(graph.create_png())"
   ]
  },
  {
   "cell_type": "markdown",
   "metadata": {},
   "source": [
    "### RFC Model"
   ]
  },
  {
   "cell_type": "code",
   "execution_count": 41,
   "metadata": {},
   "outputs": [
    {
     "name": "stdout",
     "output_type": "stream",
     "text": [
      "0.9632776020331656 [0.96499811 0.96300739 0.96183833 0.9665404  0.96000379]\n",
      "train r2: 0.9470648148148149\n",
      "test r2: 0.8872522200244097\n"
     ]
    }
   ],
   "source": [
    "# init model\n",
    "rfc = RandomForestClassifier(n_estimators=10,max_depth=10,n_jobs=-1, random_state=3050)\n",
    "\n",
    "# perform cross validation\n",
    "score = cross_val_score(rfc,X,y,cv=5)\n",
    "print(score.mean(),score)\n",
    "\n",
    "# fit model\n",
    "rfc = rfc.fit(X_train,y_train)\n",
    "\n",
    "# score model\n",
    "print(\"train r2:\",rfc.score(X_train, y_train))\n",
    "print(\"test r2:\",rfc.score(X_test, y_test))\n",
    "\n"
   ]
  },
  {
   "cell_type": "code",
   "execution_count": 42,
   "metadata": {},
   "outputs": [
    {
     "name": "stdout",
     "output_type": "stream",
     "text": [
      "RFC Model\n",
      "rows:actual columns:predicted\n",
      "accuracy_score: 0.8872522200244097\n",
      "f1_score: 0.9211778598187631\n",
      "precision_score: 0.966912052869062\n",
      "recall_score: 0.8872522200244097\n"
     ]
    },
    {
     "data": {
      "image/png": "[encoded data removed]",
      "text/plain": [
       "<Figure size 864x576 with 2 Axes>"
      ]
     },
     "metadata": {
      "needs_background": "light"
     },
     "output_type": "display_data"
    }
   ],
   "source": [
    "# confusion matrix\n",
    "print('RFC Model')\n",
    "print('rows:actual columns:predicted')\n",
    "\n",
    "y_pred = rfc.predict(X_test)\n",
    "df_pred['rfc'] = y_pred\n",
    "\n",
    "# y_pred = rfc.predict_proba(X_test)\n",
    "# pd.DataFrame(y_pred,columns=le.classes_)\n",
    "\n",
    "accuracy = accuracy_score(y_test,y_pred)\n",
    "f1 = f1_score(y_test, y_pred,average='weighted')\n",
    "precision = precision_score(y_test,y_pred,average='weighted')\n",
    "recall = recall_score(y_test,y_pred,average='weighted')\n",
    "print('accuracy_score:',accuracy)\n",
    "print('f1_score:',f1)\n",
    "print('precision_score:',precision)\n",
    "print('recall_score:',recall)\n",
    "\n",
    "# cohen_score = cohen_kappa_score(y_test, y_pred)\n",
    "# print('cohen_score',cohen_score)\n",
    "\n",
    "cm = confusion_matrix(y_test, y_pred)\n",
    "cm = cm.astype('float') / cm.sum(axis=1)[:, np.newaxis]\n",
    "df_cm = pd.DataFrame(data=cm, columns=le.classes_, index=le.classes_)\n",
    "\n",
    "plt.figure(figsize=(12,8))\n",
    "sns.heatmap(df_cm,annot=True,cmap=\"Blues\");"
   ]
  },
  {
   "cell_type": "markdown",
   "metadata": {},
   "source": [
    "### SVC Model"
   ]
  },
  {
   "cell_type": "code",
   "execution_count": 43,
   "metadata": {},
   "outputs": [
    {
     "name": "stdout",
     "output_type": "stream",
     "text": [
      "train r2: 0.8114351851851852\n",
      "test r2: 0.7662345860864441\n"
     ]
    }
   ],
   "source": [
    "# init model\n",
    "svc = SVC()\n",
    "\n",
    "# fit model\n",
    "svc.fit(X_train, y_train)\n",
    "\n",
    "# score model\n",
    "print(\"train r2:\",svc.score(X_train, y_train))\n",
    "print(\"test r2:\",svc.score(X_test, y_test))"
   ]
  },
  {
   "cell_type": "code",
   "execution_count": 44,
   "metadata": {},
   "outputs": [
    {
     "name": "stdout",
     "output_type": "stream",
     "text": [
      "SVC Model\n",
      "rows:actual columns:predicted\n",
      "accuracy_score: 0.7662345860864441\n",
      "f1_score: 0.8505985998425053\n",
      "precision_score: 0.9703492906109574\n",
      "recall_score: 0.7662345860864441\n"
     ]
    },
    {
     "data": {
      "image/png": "[encoded data removed]",
      "text/plain": [
       "<Figure size 864x576 with 2 Axes>"
      ]
     },
     "metadata": {
      "needs_background": "light"
     },
     "output_type": "display_data"
    }
   ],
   "source": [
    "# confusion matrix\n",
    "print('SVC Model')\n",
    "print('rows:actual columns:predicted')\n",
    "\n",
    "y_pred = svc.predict(X_test)\n",
    "df_pred['svc'] = y_pred\n",
    "\n",
    "# y_pred = logreg.predict_proba(X_test)\n",
    "# pd.DataFrame(y_pred,columns=le.classes_)\n",
    "\n",
    "accuracy = accuracy_score(y_test,y_pred)\n",
    "f1 = f1_score(y_test, y_pred,average='weighted')\n",
    "precision = precision_score(y_test,y_pred,average='weighted')\n",
    "recall = recall_score(y_test,y_pred,average='weighted')\n",
    "print('accuracy_score:',accuracy)\n",
    "print('f1_score:',f1)\n",
    "print('precision_score:',precision)\n",
    "print('recall_score:',recall)\n",
    "\n",
    "# cohen_score = cohen_kappa_score(y_test, y_pred)\n",
    "# print('cohen_score',cohen_score)\n",
    "\n",
    "cm = confusion_matrix(y_test, y_pred)\n",
    "cm = cm.astype('float') / cm.sum(axis=1)[:, np.newaxis]\n",
    "df_cm = pd.DataFrame(data=cm, columns=le.classes_, index=le.classes_)\n",
    "\n",
    "plt.figure(figsize=(12,8))\n",
    "sns.heatmap(df_cm,annot=True,cmap=\"Blues\");"
   ]
  },
  {
   "cell_type": "markdown",
   "metadata": {},
   "source": [
    "### Combine Model Predictions"
   ]
  },
  {
   "cell_type": "code",
   "execution_count": 45,
   "metadata": {},
   "outputs": [],
   "source": [
    "# check predictions\n",
    "\n",
    "# print(df_pred.shape)\n",
    "# df_pred.head()"
   ]
  },
  {
   "cell_type": "code",
   "execution_count": 46,
   "metadata": {},
   "outputs": [],
   "source": [
    "# cols = ['svc','rfc','dtc','lr','knn']\n",
    "# df_pred = df_pred[cols]\n",
    "\n",
    "# df_pred_mode = df_pred.mode(axis=1)\n",
    "# df_pred_mode.reset_index(inplace=True)\n",
    "\n",
    "# df_pred_final = df_pred_mode[0]"
   ]
  },
  {
   "cell_type": "code",
   "execution_count": 47,
   "metadata": {},
   "outputs": [],
   "source": [
    "# for idx,row in df_pred_mode.iterrows():\n",
    "    \n",
    "#     if np.isnan(row[1]) == False:\n",
    "\n",
    "#         mode_list = list(row[1:])\n",
    "#         #print(mode_list)\n",
    "        \n",
    "#         pred_row = df_pred.iloc[idx,:]\n",
    "#         #print(pred_row)\n",
    "        \n",
    "        \n",
    "#         for idx_2,cell in pred_row.iteritems():\n",
    "            \n",
    "#             if cell in mode_list:\n",
    "#                 #print(idx,idx_2,cell)\n",
    "#                 df_pred_final[idx] = cell\n",
    "#                 break"
   ]
  },
  {
   "cell_type": "code",
   "execution_count": 48,
   "metadata": {},
   "outputs": [],
   "source": [
    "# # confusion matrix\n",
    "# print('Combined Model')\n",
    "# print('rows:actual columns:predicted')\n",
    "\n",
    "# y_pred_final = df_pred_final.values\n",
    "\n",
    "# f1 = f1_score(y_test, y_pred,average='micro')\n",
    "# accuracy = accuracy_score(y_test,y_pred)\n",
    "# print('f1_score:',f1)\n",
    "# print('accuracy_score:',accuracy)\n",
    "\n",
    "# # cohen_score = cohen_kappa_score(y_test, y_pred)\n",
    "# # print('cohen_score',cohen_score)\n",
    "\n",
    "# cm = confusion_matrix(y_test, y_pred_final)\n",
    "# cm = cm.astype('float') / cm.sum(axis=1)[:, np.newaxis]\n",
    "# df_cm = pd.DataFrame(data=cm, columns=le.classes_, index=le.classes_)\n",
    "\n",
    "# plt.figure(figsize=(12,8))\n",
    "# sns.heatmap(df_cm,annot=True,cmap=\"Blues\");"
   ]
  },
  {
   "cell_type": "markdown",
   "metadata": {},
   "source": [
    "### VotingClassifier Model"
   ]
  },
  {
   "cell_type": "code",
   "execution_count": 49,
   "metadata": {},
   "outputs": [],
   "source": [
    "# init models\n",
    "\n",
    "lr = LogisticRegression()\n",
    "knn = KNeighborsClassifier(n_neighbors=3)\n",
    "dtc = DecisionTreeClassifier(max_depth=10,random_state=3050)\n",
    "rfc = RandomForestClassifier(n_estimators=10,max_depth=10,n_jobs=-1, random_state=3050)\n",
    "svc = SVC()"
   ]
  },
  {
   "cell_type": "code",
   "execution_count": 50,
   "metadata": {},
   "outputs": [],
   "source": [
    "# lr knn dtc rfc svc\n",
    "\n",
    "estimators = [\n",
    "        ('lr', lr), \n",
    "        ('knn', knn), \n",
    "        ('dtc', dtc),\n",
    "        ('rfc', rfc),\n",
    "        ('svc', svc)\n",
    "            ]\n",
    "\n",
    "vc = VotingClassifier(estimators=estimators, voting='hard')\n",
    "#vc = VotingClassifier(estimators=estimators, voting='soft')\n",
    "vc = vc.fit(X_train, y_train)\n",
    "y_pred = vc.predict(X_test)"
   ]
  },
  {
   "cell_type": "code",
   "execution_count": 51,
   "metadata": {},
   "outputs": [
    {
     "name": "stdout",
     "output_type": "stream",
     "text": [
      "VC Model\n",
      "rows:actual columns:predicted\n",
      "accuracy_score: 0.8799292959050545\n",
      "f1_score: 0.9182855005571942\n",
      "precision_score: 0.9696136946551062\n",
      "recall_score: 0.8799292959050545\n"
     ]
    },
    {
     "data": {
      "image/png": "[encoded data removed]",
      "text/plain": [
       "<Figure size 864x576 with 2 Axes>"
      ]
     },
     "metadata": {
      "needs_background": "light"
     },
     "output_type": "display_data"
    }
   ],
   "source": [
    "# confusion matrix\n",
    "print('VC Model')\n",
    "print('rows:actual columns:predicted')\n",
    "\n",
    "accuracy = accuracy_score(y_test,y_pred)\n",
    "f1 = f1_score(y_test, y_pred,average='weighted')\n",
    "precision = precision_score(y_test,y_pred,average='weighted')\n",
    "recall = recall_score(y_test,y_pred,average='weighted')\n",
    "print('accuracy_score:',accuracy)\n",
    "print('f1_score:',f1)\n",
    "print('precision_score:',precision)\n",
    "print('recall_score:',recall)\n",
    "\n",
    "# cohen_score = cohen_kappa_score(y_test, y_pred)\n",
    "# print('cohen_score',cohen_score)\n",
    "\n",
    "cm = confusion_matrix(y_test, y_pred)\n",
    "cm = cm.astype('float') / cm.sum(axis=1)[:, np.newaxis]\n",
    "df_cm = pd.DataFrame(data=cm, columns=le.classes_, index=le.classes_)\n",
    "\n",
    "plt.figure(figsize=(12,8))\n",
    "sns.heatmap(df_cm,annot=True,cmap=\"Blues\");"
   ]
  },
  {
   "cell_type": "code",
   "execution_count": 52,
   "metadata": {},
   "outputs": [
    {
     "ename": "NameError",
     "evalue": "name 'stop' is not defined",
     "output_type": "error",
     "traceback": [
      "\u001b[1;31m---------------------------------------------------------------------------\u001b[0m",
      "\u001b[1;31mNameError\u001b[0m                                 Traceback (most recent call last)",
      "\u001b[1;32m<ipython-input-52-e2c9c290de89>\u001b[0m in \u001b[0;36m<module>\u001b[1;34m\u001b[0m\n\u001b[1;32m----> 1\u001b[1;33m \u001b[0mprint\u001b[0m\u001b[1;33m(\u001b[0m\u001b[0mstop\u001b[0m\u001b[1;33m)\u001b[0m\u001b[1;33m\u001b[0m\u001b[1;33m\u001b[0m\u001b[0m\n\u001b[0m",
      "\u001b[1;31mNameError\u001b[0m: name 'stop' is not defined"
     ]
    }
   ],
   "source": [
    "print(stop)"
   ]
  },
  {
   "cell_type": "markdown",
   "metadata": {},
   "source": [
    "### GridSearch Model"
   ]
  },
  {
   "cell_type": "code",
   "execution_count": null,
   "metadata": {},
   "outputs": [],
   "source": [
    "# init models\n",
    "\n",
    "estimators = {\n",
    "    'lr': LogisticRegression(),\n",
    "    'knn': KNeighborsClassifier(),\n",
    "    'dtc': DecisionTreeClassifier(),\n",
    "    'rfc': RandomForestClassifier(),\n",
    "    'abc': AdaBoostClassifier(),\n",
    "    'gbc': GradientBoostingClassifier()\n",
    "}.items()"
   ]
  },
  {
   "cell_type": "code",
   "execution_count": null,
   "metadata": {},
   "outputs": [],
   "source": [
    "# init model parameters\n",
    "\n",
    "params = {\n",
    "    'lr': {\n",
    "        'lr__penalty': ['l1','l2'],\n",
    "        #'lr__penalty': ['l1','l2','elasticnet'],\n",
    "        #'l1__ratio': np.arange(.1, 1, .2)\n",
    "    },\n",
    "    'knn': {\n",
    "        'knn__n_neighbors': [3,5,7,9],\n",
    "        'knn__weights': ['uniform','distance']\n",
    "    },\n",
    "\n",
    "    'dtc': {\n",
    "        'dtc__max_features': ['auto', 'log2', None],\n",
    "        'dtc__max_depth': np.arange(3, 16, 2),\n",
    "        'dtc__min_samples_split': np.linspace(0.1, 0.5, 5)\n",
    "    },\n",
    "    'rfc': {\n",
    "        'rfc__n_estimators': [10, 15, 20, 25],\n",
    "        'rfc__max_features': ['auto', 'log2', None],\n",
    "        'rfc__max_depth': np.arange(3, 16, 2),\n",
    "        'rfc__min_samples_split': np.linspace(0.1, 0.5, 5)\n",
    "    },\n",
    "    'abc': {\n",
    "        'abc__n_estimators' : np.arange(50, 151, 25),\n",
    "        'abc__learning_rate' : np.linspace(0.1, 1, 8)\n",
    "    }, \n",
    "    'gbc': {\n",
    "        'gbc__n_estimators' : np.arange(10, 101, 30),\n",
    "        'gbc__learning_rate' : np.linspace(0.1, 1, 4),\n",
    "        'gbc__max_depth' : [1, 2, 3]\n",
    "    }\n",
    "}"
   ]
  },
  {
   "cell_type": "code",
   "execution_count": null,
   "metadata": {
    "scrolled": false
   },
   "outputs": [],
   "source": [
    "models = []\n",
    "parameters = []\n",
    "best_score = []\n",
    "roc_auc = []\n",
    "\n",
    "for k,v in estimators:\n",
    "    \n",
    "    pipe = Pipeline([\n",
    "            #('sc', StandardScaler()),\n",
    "            (k,v)\n",
    "                    ])\n",
    "    \n",
    "    gridsearch = GridSearchCV(\n",
    "        estimator=pipe,\n",
    "        param_grid=params[k],\n",
    "        verbose=1,\n",
    "        cv= 5,\n",
    "        n_jobs=-1,\n",
    "        return_train_score= True\n",
    "    )\n",
    "\n",
    "    gridsearch.fit(X_train, y_train)\n",
    "    \n",
    "    model = gridsearch.best_estimator_\n",
    "    cv_score = gridsearch.cv_results_\n",
    "    best_params = gridsearch.best_params_\n",
    "\n",
    "    # predict y\n",
    "    y_pred = model.predict(X_test)\n",
    "    #y_pred = model.predict_proba(X_test)\n",
    "    \n",
    "    # print results\n",
    "    print(\"Model: \", k)\n",
    "    print(\"Best parameters:\", best_params)\n",
    "    print(\"Best score:\", gridsearch.best_score_)\n",
    "    display(pd.DataFrame(cv_score, columns = cv_score.keys()))    \n",
    "    \n",
    "    # append info to list\n",
    "    models.append(k)\n",
    "    best_score.append(gridsearch.best_score_)\n",
    "    parameters.append(best_params)"
   ]
  },
  {
   "cell_type": "code",
   "execution_count": null,
   "metadata": {},
   "outputs": [],
   "source": [
    "# output gridsearch results\n",
    "\n",
    "print(models)\n",
    "print(best_score)\n",
    "print(parameters)"
   ]
  }
 ],
 "metadata": {
  "kernelspec": {
   "display_name": "Python 3",
   "language": "python",
   "name": "python3"
  },
  "language_info": {
   "codemirror_mode": {
    "name": "ipython",
    "version": 3
   },
   "file_extension": ".py",
   "mimetype": "text/x-python",
   "name": "python",
   "nbconvert_exporter": "python",
   "pygments_lexer": "ipython3",
   "version": "3.7.3"
  }
 },
 "nbformat": 4,
 "nbformat_minor": 2
}
