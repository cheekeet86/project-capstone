{
 "cells": [
  {
   "cell_type": "markdown",
   "metadata": {},
   "source": [
    "### Contents\n",
    "\n",
    "- [Configurations and Libraries](#Configurations-and-Libraries)\n",
    "- [Functions](#Functions)"
   ]
  },
  {
   "cell_type": "markdown",
   "metadata": {},
   "source": [
    "### Header"
   ]
  },
  {
   "cell_type": "code",
   "execution_count": 1,
   "metadata": {},
   "outputs": [],
   "source": [
    "# import libraries\n",
    "\n",
    "# maths\n",
    "import scipy.stats as stats\n",
    "import numpy as np\n",
    "import pandas as pd\n",
    "from haversine import haversine, Unit\n",
    "\n",
    "# others\n",
    "from tqdm import tqdm\n",
    "import time\n",
    "import datetime as dt\n",
    "import re\n",
    "import os\n",
    "\n",
    "# web\n",
    "import json"
   ]
  },
  {
   "cell_type": "code",
   "execution_count": 2,
   "metadata": {},
   "outputs": [],
   "source": [
    "# file paths\n",
    "\n",
    "raw_path = '../../data/0_raw/fitrec/' \n",
    "input_path = '../../data/1_input/fitrec/'\n",
    "clean_path = '../../data/2_clean/fitrec/' \n",
    "preprocess_path = '../../data/3_preprocess/fitrec/' \n",
    "output_path = '../../data/4_output/fitrec/'\n",
    "\n",
    "sports_path = '../../data/1_input/sports/'"
   ]
  },
  {
   "cell_type": "markdown",
   "metadata": {},
   "source": [
    "### Functions"
   ]
  },
  {
   "cell_type": "code",
   "execution_count": 3,
   "metadata": {},
   "outputs": [],
   "source": [
    "# output smaller json file with incremental filenames e.g. xxx_123.json\n",
    "\n",
    "def output_json(data,file_no):\n",
    "    \n",
    "    file_str = str(file_no)\n",
    "    file_str = file_str.zfill(4)            \n",
    "    out_path_2 = out_path + file_str + '.json'\n",
    "\n",
    "    with open(out_path_2, 'w') as f:\n",
    "        #print(out_path_2)\n",
    "        json.dump(data, f)"
   ]
  },
  {
   "cell_type": "code",
   "execution_count": 4,
   "metadata": {},
   "outputs": [],
   "source": [
    "def compute_distance(record,idx):\n",
    "    \n",
    "    #print(record['latitude'])\n",
    "    #print(record['longitude'])\n",
    "    \n",
    "    for i in range(1,500):\n",
    "        \n",
    "        cur_loc = (record['latitude'][i],record['longitude'][i])\n",
    "        prev_loc = (record['latitude'][i-1],record['longitude'][i-1])\n",
    "        \n",
    "        # metre\n",
    "        dist = haversine(cur_loc,prev_loc) * 1000     \n",
    "        record['distance'][i] = dist\n",
    "        \n",
    "        #print(i,prev_loc,cur_loc,dist)\n",
    "        \n",
    "    return record"
   ]
  },
  {
   "cell_type": "code",
   "execution_count": 5,
   "metadata": {},
   "outputs": [],
   "source": [
    "def compute_time_diff(record,idx):\n",
    "    \n",
    "    for i in range(1,500):\n",
    "        \n",
    "        #seconds\n",
    "        record['time_diff'][i] = record['timestamp'][i] - record['timestamp'][i-1]\n",
    "        \n",
    "    return record"
   ]
  },
  {
   "cell_type": "code",
   "execution_count": 6,
   "metadata": {},
   "outputs": [],
   "source": [
    "def compute_speed(record,idx):\n",
    "    \n",
    "    for i in range(1,500):\n",
    "        \n",
    "        # seconds\n",
    "        #time_diff = record['timestamp'][i] - record['timestamp'][i-1]\n",
    "        #record['time_diff'][i] = time_diff\n",
    "        \n",
    "        time_diff = record['time_diff'][i]\n",
    "         \n",
    "        if time_diff > 0:\n",
    "            \n",
    "            # metre/seconds\n",
    "            speed = record['distance'][i] / time_diff\n",
    "            # km/h\n",
    "            speed = speed * 3.6\n",
    "            \n",
    "            record['speed'][i] = speed\n",
    "            \n",
    "            sport = record['sport'].rstrip()           \n",
    "\n",
    "            speed_max = sport_dict[sport] \n",
    "            #print(sport,speed_max)\n",
    "            \n",
    "            if speed > speed_max:\n",
    "                #print('error: world record for {}:{}'.format(idx,i))\n",
    "                #print(record['time_diff'][i],record['distance'][i],speed)\n",
    "                \n",
    "                record['speed'][i] = 0.0             \n",
    "            \n",
    "        elif time_diff == 0:\n",
    "            record['speed'][i] = record['speed'][i-1]\n",
    "            #print('error: time_diff = 0 for {}:{}'.format(idx,i))\n",
    "            \n",
    "        # time_diff < 0\n",
    "        else:\n",
    "            record['speed'][i] = record['speed'][i-1]\n",
    "            #print('error: time_diff < 0 for {}:{}'.format(idx,i))         \n",
    "        \n",
    "        #print(i,time_diff,speed)        \n",
    "        \n",
    "    return record"
   ]
  },
  {
   "cell_type": "markdown",
   "metadata": {},
   "source": [
    "### Import Data"
   ]
  },
  {
   "cell_type": "code",
   "execution_count": 7,
   "metadata": {},
   "outputs": [],
   "source": [
    "# import sports.xlsx and create df\n",
    "\n",
    "path = sports_path + 'sports.xlsx'\n",
    "df = pd.read_excel(path)"
   ]
  },
  {
   "cell_type": "code",
   "execution_count": 8,
   "metadata": {},
   "outputs": [
    {
     "data": {
      "text/plain": [
       "{'aerobics': 45,\n",
       " 'badminton': 45,\n",
       " 'basketball': 45,\n",
       " 'bike': 244,\n",
       " 'bike (transport)': 244,\n",
       " 'indoor cycling': 244,\n",
       " 'mountain bike': 244,\n",
       " 'circuit training': 45,\n",
       " 'climbing': 45,\n",
       " 'core stability training': 45,\n",
       " 'elliptical': 45,\n",
       " 'golf': 45,\n",
       " 'gymnastics': 45,\n",
       " 'hiking': 45,\n",
       " 'horseback riding': 71,\n",
       " 'kayaking': 32,\n",
       " 'martial arts': 45,\n",
       " 'orienteering': 45,\n",
       " 'rowing': 23,\n",
       " 'rugby': 45,\n",
       " 'run': 45,\n",
       " 'treadmill running': 45,\n",
       " 'sailing': 121,\n",
       " 'skate': 55,\n",
       " 'cross-country skiing': 255,\n",
       " 'downhill skiing': 255,\n",
       " 'roller skiing': 50,\n",
       " 'snowboarding': 203,\n",
       " 'snowshoeing': 45,\n",
       " 'soccer': 45,\n",
       " 'squash': 45,\n",
       " 'stair climing': 45,\n",
       " 'kite surfing': 99,\n",
       " 'windsurfing': 99,\n",
       " 'swimming': 9,\n",
       " 'table tennis': 45,\n",
       " 'tennis': 45,\n",
       " 'fitness walking': 45,\n",
       " 'treadmill walking': 45,\n",
       " 'walk': 45,\n",
       " 'weight training': 45,\n",
       " 'pilates': 45,\n",
       " 'yoga': 45}"
      ]
     },
     "execution_count": 8,
     "metadata": {},
     "output_type": "execute_result"
    }
   ],
   "source": [
    "sport_dict = dict(zip(df['sport'].str.rstrip(), df['speed_max']))\n",
    "sport_dict"
   ]
  },
  {
   "cell_type": "markdown",
   "metadata": {},
   "source": [
    "### Import, Split and Output File"
   ]
  },
  {
   "cell_type": "code",
   "execution_count": 9,
   "metadata": {},
   "outputs": [
    {
     "name": "stdout",
     "output_type": "stream",
     "text": [
      "../../data/0_raw/fitrec/endomondoHR_proper.json\n",
      "../../data/1_input/fitrec/endomondoHR_proper_dist_spd_time/endomondoHR_proper_dist_spd_time_\n"
     ]
    }
   ],
   "source": [
    "# select json file for splitting\n",
    "\n",
    "file_index = 4\n",
    "\n",
    "input_filepath = [\n",
    "            \"endomondoHR.json\",\n",
    "            \"endomondoMeta.json\",\n",
    "            \"endomondoHR_proper.json\", # same input file\n",
    "            \"endomondoHR_proper.json\", # same input file\n",
    "            \"endomondoHR_proper.json\", # same input file\n",
    "            \"processed_endomondoHR_proper.npy\",\n",
    "            \"processed_endomondoHR_proper_interpolate.npy\"        \n",
    "            ]\n",
    "\n",
    "\n",
    "output_filepath = [\n",
    "            \"endomondoHR/endomondoHR_\",\n",
    "            \"endomondoMeta/endomondoMeta_\",    \n",
    "            \"endomondoHR_proper/endomondoHR_proper_\",                            # input file is endomondoHR_proper.json\n",
    "            \"endomondoHR_proper_dist_spd/endomondoHR_proper_dist_spd_\",          # input file is endomondoHR_proper.json\n",
    "            \"endomondoHR_proper_dist_spd_time/endomondoHR_proper_dist_spd_time_\", # input file is endomondoHR_proper.json   \n",
    "            \"processed_endomondoHR_proper_\",\n",
    "            \"processed_endomondoHR_proper_interpolate_\"        \n",
    "            ]\n",
    "\n",
    "# init filepaths\n",
    "\n",
    "in_path = raw_path + input_filepath[file_index]\n",
    "out_path = input_path + output_filepath[file_index]\n",
    "\n",
    "print(in_path)\n",
    "print(out_path)"
   ]
  },
  {
   "cell_type": "code",
   "execution_count": 10,
   "metadata": {},
   "outputs": [],
   "source": [
    "# import large json file and split into smaller json files (1000 jsons each)\n",
    "\n",
    "json_per_file = 100\n",
    "#json_per_file = 1000\n",
    "\n",
    "if '.json' in in_path:\n",
    "\n",
    "    data = {}\n",
    "    index = 1\n",
    "    file_no = 1\n",
    "    \n",
    "    #print('file_no:',file_no)\n",
    "\n",
    "    with open(in_path) as f:\n",
    "\n",
    "        for l in f:\n",
    "\n",
    "            data[index] = eval(l)            \n",
    "                        \n",
    "            data[index]['distance'] = [0] * 500\n",
    "            data[index]['time_diff'] = [0] * 500\n",
    "            \n",
    "            data[index] = compute_distance(data[index],index)\n",
    "            data[index] = compute_time_diff(data[index],index)\n",
    "                \n",
    "            if 'speed' not in data[index].keys():\n",
    "                          \n",
    "                #data[index]['distance'] = [0] * 500\n",
    "                #data[index]['time_diff'] = [0] * 500\n",
    "                data[index]['speed'] = [0] * 500\n",
    "                \n",
    "                #data[index] = compute_distance(data[index],index)\n",
    "                data[index] = compute_speed(data[index],index)\n",
    "\n",
    "            # each file will contain n jsons\n",
    "            if index % json_per_file == 0:            \n",
    "                output_json(data,file_no)\n",
    "\n",
    "                data = {}                \n",
    "                file_no += 1\n",
    "                \n",
    "                #print('file_no:',file_no)\n",
    "\n",
    "            index += 1\n",
    "\n",
    "        # last file contains less than n jsons\n",
    "        if index % json_per_file != 0:        \n",
    "            output_json(data,file_no)            "
   ]
  },
  {
   "cell_type": "code",
   "execution_count": 11,
   "metadata": {},
   "outputs": [],
   "source": [
    "if '.npy' in in_path:\n",
    "    \n",
    "    #data = np.load(in_path,mmap_mode='r')\n",
    "    #data = np.memmap(in_path,mode='r+')\n",
    "    \n",
    "    #data = np.memmap(in_path,mode='r+')\n",
    "    data = np.memmap(in_path,mode='r+',dtype='uint8')"
   ]
  }
 ],
 "metadata": {
  "kernelspec": {
   "display_name": "Python 3",
   "language": "python",
   "name": "python3"
  },
  "language_info": {
   "codemirror_mode": {
    "name": "ipython",
    "version": 3
   },
   "file_extension": ".py",
   "mimetype": "text/x-python",
   "name": "python",
   "nbconvert_exporter": "python",
   "pygments_lexer": "ipython3",
   "version": "3.7.3"
  }
 },
 "nbformat": 4,
 "nbformat_minor": 2
}
