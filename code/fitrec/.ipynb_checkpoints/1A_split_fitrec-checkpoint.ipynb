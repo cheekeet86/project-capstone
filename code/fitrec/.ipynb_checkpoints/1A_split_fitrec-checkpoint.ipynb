{
 "cells": [
  {
   "cell_type": "markdown",
   "metadata": {},
   "source": [
    "### Contents\n",
    "\n",
    "- [Configurations and Libraries](#Configurations-and-Libraries)\n",
    "- [Functions](#Functions)"
   ]
  },
  {
   "cell_type": "markdown",
   "metadata": {},
   "source": [
    "### Header"
   ]
  },
  {
   "cell_type": "code",
   "execution_count": 1,
   "metadata": {},
   "outputs": [],
   "source": [
    "# import libraries\n",
    "\n",
    "# maths\n",
    "import scipy.stats as stats\n",
    "import numpy as np\n",
    "import pandas as pd\n",
    "from haversine import haversine, Unit\n",
    "\n",
    "# others\n",
    "from tqdm import tqdm\n",
    "import time\n",
    "import datetime as dt\n",
    "import re\n",
    "import os\n",
    "\n",
    "# web\n",
    "import json"
   ]
  },
  {
   "cell_type": "code",
   "execution_count": 2,
   "metadata": {},
   "outputs": [],
   "source": [
    "# file paths\n",
    "\n",
    "raw_path = '../../data/0_raw/fitrec/' \n",
    "input_path = '../../data/1_input/fitrec/'\n",
    "clean_path = '../../data/2_clean/fitrec/' \n",
    "preprocess_path = '../../data/3_preprocess/fitrec/' \n",
    "output_path = '../../data/4_output/fitrec/' "
   ]
  },
  {
   "cell_type": "markdown",
   "metadata": {},
   "source": [
    "### Functions"
   ]
  },
  {
   "cell_type": "code",
   "execution_count": 3,
   "metadata": {},
   "outputs": [],
   "source": [
    "# output smaller json file with incremental filenames e.g. xxx_123.json\n",
    "\n",
    "def output_json(data,file_no):\n",
    "    \n",
    "    file_str = str(file_no)\n",
    "    file_str = file_str.zfill(4)            \n",
    "    out_path_2 = out_path + file_str + '.json'\n",
    "\n",
    "    with open(out_path_2, 'w') as f:\n",
    "        print(out_path_2)\n",
    "        json.dump(data, f)"
   ]
  },
  {
   "cell_type": "code",
   "execution_count": 4,
   "metadata": {},
   "outputs": [],
   "source": [
    "def compute_distance(record,idx):\n",
    "    \n",
    "    #print(record['latitude'])\n",
    "    #print(record['longitude'])\n",
    "    \n",
    "    for i in range(1,500):\n",
    "        \n",
    "        cur_loc = (record['latitude'][i],record['longitude'][i])\n",
    "        prev_loc = (record['latitude'][i-1],record['longitude'][i-1])\n",
    "        \n",
    "        # metre\n",
    "        dist = haversine(cur_loc,prev_loc) * 1000     \n",
    "        record['distance'][i] = dist\n",
    "        \n",
    "        #print(i,prev_loc,cur_loc,dist)\n",
    "        \n",
    "    return record"
   ]
  },
  {
   "cell_type": "code",
   "execution_count": 5,
   "metadata": {},
   "outputs": [],
   "source": [
    "def compute_speed(record,idx):\n",
    "    \n",
    "    for i in range(1,500):\n",
    "        \n",
    "        # seconds\n",
    "        time_diff = record['timestamp'][i] - record['timestamp'][i-1]\n",
    "        record['time_diff'][i] = time_diff\n",
    "         \n",
    "        if time_diff > 0:\n",
    "            \n",
    "            # metre/seconds\n",
    "            speed = record['distance'][i] / time_diff\n",
    "            # km/h\n",
    "            speed = speed * (60*60/1000)\n",
    "            \n",
    "            record['speed'][i] = speed\n",
    "            \n",
    "            # source: https://en.wikipedia.org/wiki/List_of_cycling_records\n",
    "            # olympic world record for cycling: 244 km/h\n",
    "            if speed > 244:\n",
    "                print('error: world record for {}:{}'.format(idx,i))\n",
    "                print(record['time_diff'][i],record['distance'][i],speed)\n",
    "                \n",
    "                record['speed'][i] = 0.0             \n",
    "            \n",
    "        elif time_diff == 0:\n",
    "            record['speed'][i] = record['speed'][i-1]\n",
    "            #print('error: time_diff = 0 for {}:{}'.format(idx,i))\n",
    "            \n",
    "        # time_diff < 0\n",
    "        else:\n",
    "            record['speed'][i] = record['speed'][i-1]\n",
    "            #print('error: time_diff < 0 for {}:{}'.format(idx,i))         \n",
    "        \n",
    "        #print(i,time_diff,speed)\n",
    "        \n",
    "    # set speed for index 0\n",
    "#     for i in range(1,500):\n",
    "#         speed = record['speed'][i]\n",
    "        \n",
    "#         if speed > 0:\n",
    "#             record['speed'][0] = speed\n",
    "#             break        \n",
    "        \n",
    "    return record"
   ]
  },
  {
   "cell_type": "markdown",
   "metadata": {},
   "source": [
    "### Import Data"
   ]
  },
  {
   "cell_type": "code",
   "execution_count": 6,
   "metadata": {},
   "outputs": [],
   "source": [
    "# sample code from https://sites.google.com/eng.ucsd.edu/fitrec-project/home\n",
    "\n",
    "# path = Path(\"data/\")\n",
    "# out_path = str(path / \"processed_endomondoHR_proper.npy\")\n",
    "# data = np.load(out_path)[0]"
   ]
  },
  {
   "cell_type": "code",
   "execution_count": 7,
   "metadata": {},
   "outputs": [],
   "source": [
    "# sample code from https://sites.google.com/eng.ucsd.edu/fitrec-project/home\n",
    "\n",
    "# data = []\n",
    "# #with gzip.open('endomondoHR.json.gz') as f:\n",
    "# with open('endomondoHR_proper.json') as f:\n",
    "#     for l in f:\n",
    "#         data.append(eval(l))"
   ]
  },
  {
   "cell_type": "code",
   "execution_count": 8,
   "metadata": {},
   "outputs": [],
   "source": [
    "# old method\n",
    "\n",
    "#file = \"processed_endomondoHR_proper.npy\"\n",
    "# file = \"processed_endomondoHR_proper_interpolate.npy\"\n",
    "\n",
    "# path = input_path + folder + file\n",
    "\n",
    "#processed_endomondoHR_proper = np.load(path,mmap_mode='r')[0]\n",
    "#data = np.memmap(path,mode='r+')"
   ]
  },
  {
   "cell_type": "code",
   "execution_count": 9,
   "metadata": {},
   "outputs": [],
   "source": [
    "# old method\n",
    "\n",
    "# file = \"endomondoHR_proper.json\"\n",
    "# path = input_path + file\n",
    "\n",
    "# num_workout = 300000\n",
    "# data = {}\n",
    "# index = 1\n",
    "\n",
    "# with open(path) as f:    \n",
    "\n",
    "#     for l in tqdm(f):\n",
    "        \n",
    "#         if index > num_workout:\n",
    "#             break     \n",
    "\n",
    "#         data[index] = eval(l)        \n",
    "#         index += 1"
   ]
  },
  {
   "cell_type": "markdown",
   "metadata": {},
   "source": [
    "### Output Data"
   ]
  },
  {
   "cell_type": "code",
   "execution_count": 10,
   "metadata": {},
   "outputs": [],
   "source": [
    "# old method\n",
    "\n",
    "# file = \"endomondoHR_proper_sample.json\"\n",
    "# path = clean_path + folder + file\n",
    "\n",
    "# with open(path, 'w') as f:\n",
    "#     json.dump(data, f)"
   ]
  },
  {
   "cell_type": "markdown",
   "metadata": {},
   "source": [
    "### Import, Split and Output File"
   ]
  },
  {
   "cell_type": "code",
   "execution_count": 11,
   "metadata": {},
   "outputs": [
    {
     "name": "stdout",
     "output_type": "stream",
     "text": [
      "../../data/0_raw/fitrec/endomondoHR_proper.json\n",
      "../../data/1_input/fitrec/endomondoHR_proper_dist_spd/endomondoHR_proper_dist_spd_\n"
     ]
    }
   ],
   "source": [
    "# select json file for splitting\n",
    "\n",
    "file_index = 3\n",
    "\n",
    "input_filepath = [\n",
    "            \"endomondoHR.json\",\n",
    "            \"endomondoMeta.json\",\n",
    "            \"endomondoHR_proper.json\", # next file is the same\n",
    "            \"endomondoHR_proper.json\", # previous file is the same\n",
    "            \"processed_endomondoHR_proper.npy\",\n",
    "            \"processed_endomondoHR_proper_interpolate.npy\"        \n",
    "            ]\n",
    "\n",
    "\n",
    "output_filepath = [\n",
    "            \"endomondoHR/endomondoHR_\",\n",
    "            \"endomondoMeta/endomondoMeta_\",    \n",
    "            \"endomondoHR_proper/endomondoHR_proper_\",                   # input file is endomondoHR_proper.json\n",
    "            \"endomondoHR_proper_dist_spd/endomondoHR_proper_dist_spd_\", # input file is endomondoHR_proper.json    \n",
    "            \"processed_endomondoHR_proper_\",\n",
    "            \"processed_endomondoHR_proper_interpolate_\"        \n",
    "            ]\n",
    "\n",
    "# init filepaths\n",
    "\n",
    "in_path = raw_path + input_filepath[file_index]\n",
    "out_path = input_path + output_filepath[file_index]\n",
    "\n",
    "print(in_path)\n",
    "print(out_path)"
   ]
  },
  {
   "cell_type": "code",
   "execution_count": 12,
   "metadata": {},
   "outputs": [
    {
     "name": "stdout",
     "output_type": "stream",
     "text": [
      "../../data/1_input/fitrec/endomondoHR_proper_dist_spd/endomondoHR_proper_dist_spd_0001.json\n",
      "../../data/1_input/fitrec/endomondoHR_proper_dist_spd/endomondoHR_proper_dist_spd_0002.json\n",
      "../../data/1_input/fitrec/endomondoHR_proper_dist_spd/endomondoHR_proper_dist_spd_0003.json\n",
      "error: world record for 329:269\n",
      "6 901.833923563926 541.1003541383557\n"
     ]
    },
    {
     "ename": "NameError",
     "evalue": "name 'stop' is not defined",
     "output_type": "error",
     "traceback": [
      "\u001b[1;31m---------------------------------------------------------------------------\u001b[0m",
      "\u001b[1;31mNameError\u001b[0m                                 Traceback (most recent call last)",
      "\u001b[1;32m<ipython-input-12-ab995a6f8f2f>\u001b[0m in \u001b[0;36m<module>\u001b[1;34m\u001b[0m\n\u001b[0;32m     25\u001b[0m \u001b[1;33m\u001b[0m\u001b[0m\n\u001b[0;32m     26\u001b[0m                 \u001b[0mdata\u001b[0m\u001b[1;33m[\u001b[0m\u001b[0mindex\u001b[0m\u001b[1;33m]\u001b[0m \u001b[1;33m=\u001b[0m \u001b[0mcompute_distance\u001b[0m\u001b[1;33m(\u001b[0m\u001b[0mdata\u001b[0m\u001b[1;33m[\u001b[0m\u001b[0mindex\u001b[0m\u001b[1;33m]\u001b[0m\u001b[1;33m,\u001b[0m\u001b[0mindex\u001b[0m\u001b[1;33m)\u001b[0m\u001b[1;33m\u001b[0m\u001b[1;33m\u001b[0m\u001b[0m\n\u001b[1;32m---> 27\u001b[1;33m                 \u001b[0mdata\u001b[0m\u001b[1;33m[\u001b[0m\u001b[0mindex\u001b[0m\u001b[1;33m]\u001b[0m \u001b[1;33m=\u001b[0m \u001b[0mcompute_speed\u001b[0m\u001b[1;33m(\u001b[0m\u001b[0mdata\u001b[0m\u001b[1;33m[\u001b[0m\u001b[0mindex\u001b[0m\u001b[1;33m]\u001b[0m\u001b[1;33m,\u001b[0m\u001b[0mindex\u001b[0m\u001b[1;33m)\u001b[0m\u001b[1;33m\u001b[0m\u001b[1;33m\u001b[0m\u001b[0m\n\u001b[0m\u001b[0;32m     28\u001b[0m \u001b[1;33m\u001b[0m\u001b[0m\n\u001b[0;32m     29\u001b[0m             \u001b[1;31m# each file will contain n jsons\u001b[0m\u001b[1;33m\u001b[0m\u001b[1;33m\u001b[0m\u001b[1;33m\u001b[0m\u001b[0m\n",
      "\u001b[1;32m<ipython-input-5-8d130f400c04>\u001b[0m in \u001b[0;36mcompute_speed\u001b[1;34m(record, idx)\u001b[0m\n\u001b[0;32m     19\u001b[0m                 \u001b[0mprint\u001b[0m\u001b[1;33m(\u001b[0m\u001b[1;34m'error: world record for {}:{}'\u001b[0m\u001b[1;33m.\u001b[0m\u001b[0mformat\u001b[0m\u001b[1;33m(\u001b[0m\u001b[0midx\u001b[0m\u001b[1;33m,\u001b[0m\u001b[0mi\u001b[0m\u001b[1;33m)\u001b[0m\u001b[1;33m)\u001b[0m\u001b[1;33m\u001b[0m\u001b[1;33m\u001b[0m\u001b[0m\n\u001b[0;32m     20\u001b[0m                 \u001b[0mprint\u001b[0m\u001b[1;33m(\u001b[0m\u001b[0mrecord\u001b[0m\u001b[1;33m[\u001b[0m\u001b[1;34m'time_diff'\u001b[0m\u001b[1;33m]\u001b[0m\u001b[1;33m[\u001b[0m\u001b[0mi\u001b[0m\u001b[1;33m]\u001b[0m\u001b[1;33m,\u001b[0m\u001b[0mrecord\u001b[0m\u001b[1;33m[\u001b[0m\u001b[1;34m'distance'\u001b[0m\u001b[1;33m]\u001b[0m\u001b[1;33m[\u001b[0m\u001b[0mi\u001b[0m\u001b[1;33m]\u001b[0m\u001b[1;33m,\u001b[0m\u001b[0mspeed\u001b[0m\u001b[1;33m)\u001b[0m\u001b[1;33m\u001b[0m\u001b[1;33m\u001b[0m\u001b[0m\n\u001b[1;32m---> 21\u001b[1;33m                 \u001b[0mprint\u001b[0m\u001b[1;33m(\u001b[0m\u001b[0mstop\u001b[0m\u001b[1;33m)\u001b[0m\u001b[1;33m\u001b[0m\u001b[1;33m\u001b[0m\u001b[0m\n\u001b[0m\u001b[0;32m     22\u001b[0m \u001b[1;33m\u001b[0m\u001b[0m\n\u001b[0;32m     23\u001b[0m             \u001b[0mrecord\u001b[0m\u001b[1;33m[\u001b[0m\u001b[1;34m'speed'\u001b[0m\u001b[1;33m]\u001b[0m\u001b[1;33m[\u001b[0m\u001b[0mi\u001b[0m\u001b[1;33m]\u001b[0m \u001b[1;33m=\u001b[0m \u001b[0mspeed\u001b[0m\u001b[1;33m\u001b[0m\u001b[1;33m\u001b[0m\u001b[0m\n",
      "\u001b[1;31mNameError\u001b[0m: name 'stop' is not defined"
     ]
    }
   ],
   "source": [
    "# import large json file and split into smaller json files (1000 jsons each)\n",
    "\n",
    "json_per_file = 100\n",
    "#json_per_file = 1000\n",
    "\n",
    "if '.json' in in_path:\n",
    "\n",
    "    data = {}\n",
    "    index = 1\n",
    "    file_no = 1\n",
    "    \n",
    "    #print('file_no:',file_no)\n",
    "\n",
    "    with open(in_path) as f:\n",
    "\n",
    "        for l in f:\n",
    "\n",
    "            data[index] = eval(l) \n",
    "                \n",
    "            if 'speed' not in data[index].keys():\n",
    "                          \n",
    "                data[index]['distance'] = [0] * 500\n",
    "                data[index]['time_diff'] = [0] * 500\n",
    "                data[index]['speed'] = [0] * 500\n",
    "                \n",
    "                data[index] = compute_distance(data[index],index)\n",
    "                data[index] = compute_speed(data[index],index)\n",
    "\n",
    "            # each file will contain n jsons\n",
    "            if index % json_per_file == 0:            \n",
    "                output_json(data,file_no)\n",
    "\n",
    "                data = {}                \n",
    "                file_no += 1\n",
    "                \n",
    "                #print('file_no:',file_no)\n",
    "\n",
    "            index += 1\n",
    "\n",
    "        # last file contains less than n jsons\n",
    "        if index % json_per_file != 0:        \n",
    "            output_json(data,file_no)            "
   ]
  },
  {
   "cell_type": "code",
   "execution_count": null,
   "metadata": {},
   "outputs": [],
   "source": [
    "if '.npy' in in_path:\n",
    "    \n",
    "    #data = np.load(in_path,mmap_mode='r')\n",
    "    #data = np.memmap(in_path,mode='r+')\n",
    "    \n",
    "    #data = np.memmap(in_path,mode='r+')\n",
    "    data = np.memmap(in_path,mode='r+',dtype='uint8')"
   ]
  }
 ],
 "metadata": {
  "kernelspec": {
   "display_name": "Python 3",
   "language": "python",
   "name": "python3"
  },
  "language_info": {
   "codemirror_mode": {
    "name": "ipython",
    "version": 3
   },
   "file_extension": ".py",
   "mimetype": "text/x-python",
   "name": "python",
   "nbconvert_exporter": "python",
   "pygments_lexer": "ipython3",
   "version": "3.7.3"
  }
 },
 "nbformat": 4,
 "nbformat_minor": 2
}
