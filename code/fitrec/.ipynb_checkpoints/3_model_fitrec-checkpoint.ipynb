{
 "cells": [
  {
   "cell_type": "markdown",
   "metadata": {},
   "source": [
    "### Contents\n",
    "\n",
    "- [EDA](#EDA)"
   ]
  },
  {
   "cell_type": "markdown",
   "metadata": {},
   "source": [
    "### Header"
   ]
  },
  {
   "cell_type": "code",
   "execution_count": null,
   "metadata": {},
   "outputs": [],
   "source": [
    "# import libraries\n",
    "\n",
    "# maths\n",
    "import numpy as np\n",
    "import pandas as pd\n",
    "\n",
    "# visual\n",
    "#from matplotlib_venn import venn2\n",
    "import seaborn as sns\n",
    "import matplotlib.pyplot as plt\n",
    "%matplotlib inline\n",
    "import pydotplus\n",
    "\n",
    "# modelling\n",
    "from sklearn.linear_model import LinearRegression, LogisticRegression, Ridge, Lasso, ElasticNet\n",
    "from sklearn.model_selection import train_test_split,cross_val_score,GridSearchCV\n",
    "from sklearn.preprocessing import StandardScaler,PolynomialFeatures,LabelEncoder\n",
    "from sklearn.metrics import roc_auc_score, roc_curve, confusion_matrix,accuracy_score,r2_score,mean_squared_error\n",
    "from sklearn.pipeline import Pipeline\n",
    "from sklearn.utils import resample, shuffle\n",
    "from sklearn.neighbors import KNeighborsRegressor, KNeighborsClassifier\n",
    "from sklearn.tree import DecisionTreeClassifier,export_graphviz\n",
    "from sklearn.ensemble import AdaBoostClassifier,RandomForestClassifier, RandomForestRegressor, GradientBoostingClassifier\n",
    "from sklearn.externals.six import StringIO\n",
    "from imblearn.over_sampling import SMOTE\n",
    "\n",
    "# Others\n",
    "import warnings\n",
    "warnings.filterwarnings(\"ignore\")\n",
    "from IPython.display import Image"
   ]
  },
  {
   "cell_type": "code",
   "execution_count": null,
   "metadata": {},
   "outputs": [],
   "source": [
    "# file paths\n",
    "\n",
    "raw_path = '../../data/0_raw/fitrec/' \n",
    "input_path = '../../data/1_input/fitrec/'\n",
    "clean_path = '../../data/2_clean/fitrec/' \n",
    "preprocess_path = '../../data/3_preprocess/fitrec/' \n",
    "output_path = '../../data/4_output/fitrec/' "
   ]
  },
  {
   "cell_type": "markdown",
   "metadata": {},
   "source": [
    "### Import Data"
   ]
  },
  {
   "cell_type": "code",
   "execution_count": null,
   "metadata": {},
   "outputs": [],
   "source": [
    "# import data\n",
    "\n",
    "#file = 'endomondoHR_proper_summary.csv'\n",
    "file = 'endomondoHR_proper_dist_spd_summary.csv'\n",
    "\n",
    "in_path = clean_path + file\n",
    "\n",
    "df = pd.read_csv(in_path)"
   ]
  },
  {
   "cell_type": "markdown",
   "metadata": {},
   "source": [
    "### Functions"
   ]
  },
  {
   "cell_type": "code",
   "execution_count": null,
   "metadata": {},
   "outputs": [],
   "source": []
  },
  {
   "cell_type": "markdown",
   "metadata": {},
   "source": [
    "### Pre-process Data"
   ]
  },
  {
   "cell_type": "code",
   "execution_count": null,
   "metadata": {},
   "outputs": [],
   "source": [
    "df.columns"
   ]
  },
  {
   "cell_type": "code",
   "execution_count": null,
   "metadata": {},
   "outputs": [],
   "source": [
    "# remove rows with abnormal heartrate\n",
    "\n",
    "print(len(df))\n",
    "\n",
    "cond_1 = df['hr_avg'] > 60\n",
    "#cond_2 = df['hr_min'] > 0\n",
    "#cond_3 = df['hr_25'] > 0\n",
    "#cond_4 = df['hr_75'] > 0\n",
    "#cond_5 = df['hr_max'] > 0\n",
    "\n",
    "df = df[cond_1]\n",
    "#df = df[cond_1 & cond_2 & cond_3 & cond_4 & cond_5]\n",
    "\n",
    "print(len(df))"
   ]
  },
  {
   "cell_type": "code",
   "execution_count": null,
   "metadata": {},
   "outputs": [],
   "source": [
    "# drop rows if speed is nan\n",
    "\n",
    "# print(len(df))\n",
    "# df.dropna(subset=['spd_avg'],inplace=True)\n",
    "# print(len(df))"
   ]
  },
  {
   "cell_type": "code",
   "execution_count": null,
   "metadata": {},
   "outputs": [],
   "source": [
    "df['sport'].value_counts()"
   ]
  },
  {
   "cell_type": "code",
   "execution_count": null,
   "metadata": {},
   "outputs": [],
   "source": [
    "# merge similar sports\n",
    "\n",
    "df['sport'].replace('treadmill running','run',inplace=True)\n",
    "df['sport'].replace(['treadmill walking','fitness walking'],'walk',inplace=True)\n",
    "df['sport'].replace(['bike','mountain bike','bike (transport)','indoor cycling'],'cycle',inplace=True)\n",
    "df['sport'].replace(['windsurfing','kite surfing'],'surfing',inplace=True)\n",
    "df['sport'].replace(['cross-country skiing','downhill skiing','roller skiing'],'skiing',inplace=True)\n",
    "df['sport'].replace('pilates','yoga',inplace=True)"
   ]
  },
  {
   "cell_type": "code",
   "execution_count": null,
   "metadata": {},
   "outputs": [],
   "source": [
    "df['sport'].value_counts()"
   ]
  },
  {
   "cell_type": "code",
   "execution_count": null,
   "metadata": {},
   "outputs": [],
   "source": [
    "# select columns for feature selection\n",
    "\n",
    "# cols = ['sport', 'time_dur', 'alt_avg', 'alt_min', 'alt_25', 'alt_75','alt_max', 'hr_avg', 'hr_min', 'hr_25', 'hr_75', 'hr_max']\n",
    "\n",
    "#cols = ['sport','hr_avg', 'hr_min', 'hr_25', 'hr_75', 'hr_max']\n",
    "#cols = ['sport','hr_avg', 'hr_min', 'hr_25', 'hr_75', 'hr_max','spd_avg', 'spd_min', 'spd_25', 'spd_75', 'spd_max']\n",
    "\n",
    "#cols = ['sport','hr_outof', 'hr_fatburn', 'hr_cardio', 'hr_peak']\n",
    "cols = ['sport','hr_outof', 'hr_fatburn', 'hr_cardio', 'hr_peak','spd_avg']\n",
    "#cols = ['sport','hr_outof', 'hr_fatburn', 'hr_cardio', 'hr_peak','spd_avg', 'spd_min', 'spd_25', 'spd_75', 'spd_max']\n",
    "\n",
    "df_model = df[cols]"
   ]
  },
  {
   "cell_type": "code",
   "execution_count": null,
   "metadata": {},
   "outputs": [],
   "source": [
    "# select only sports with minimal rows\n",
    "\n",
    "count = df_model['sport'].value_counts()\n",
    "\n",
    "#count_cond = count[count > 1].index\n",
    "#count_cond = count[count >= 5].index\n",
    "#count_cond = count[count >= 10].index\n",
    "count_cond = count[count >= 50].index\n",
    "#count_cond = count[count >= 100].index\n",
    "#count_cond = count[count >= 800].index\n",
    "\n",
    "count_mask = df_model['sport'].isin(count_cond)\n",
    "df_model = df_model[count_mask]"
   ]
  },
  {
   "cell_type": "code",
   "execution_count": null,
   "metadata": {},
   "outputs": [],
   "source": [
    "print(df_model.shape)\n",
    "df_model.head()"
   ]
  },
  {
   "cell_type": "code",
   "execution_count": null,
   "metadata": {},
   "outputs": [],
   "source": [
    "df_model['sport'].value_counts()"
   ]
  },
  {
   "cell_type": "markdown",
   "metadata": {},
   "source": [
    "### Plot df_model"
   ]
  },
  {
   "cell_type": "code",
   "execution_count": null,
   "metadata": {},
   "outputs": [],
   "source": [
    "# order = df_model.groupby('sport')['hr_max'].median().sort_values(ascending=False).index\n",
    "\n",
    "# plt.figure(figsize=(20,15))\n",
    "# #plt.xlim(0,300)\n",
    "\n",
    "# sns.boxplot(data=df_model,x='hr_max',y='sport',order=order);"
   ]
  },
  {
   "cell_type": "code",
   "execution_count": null,
   "metadata": {},
   "outputs": [],
   "source": [
    "# order = df_model.groupby('sport')['hr_avg'].median().sort_values(ascending=False).index\n",
    "\n",
    "# plt.figure(figsize=(20,15))\n",
    "# #plt.xlim(0,300)\n",
    "\n",
    "# sns.boxplot(data=df_model,x='hr_avg',y='sport',order=order);"
   ]
  },
  {
   "cell_type": "code",
   "execution_count": null,
   "metadata": {},
   "outputs": [],
   "source": [
    "# order = df_model.groupby('sport')['hr_min'].median().sort_values(ascending=False).index\n",
    "\n",
    "# plt.figure(figsize=(20,15))\n",
    "# #plt.xlim(0,300)\n",
    "\n",
    "# sns.boxplot(data=df_model,x='hr_min',y='sport',order=order);"
   ]
  },
  {
   "cell_type": "markdown",
   "metadata": {},
   "source": [
    "### Create Features and Target"
   ]
  },
  {
   "cell_type": "code",
   "execution_count": null,
   "metadata": {},
   "outputs": [],
   "source": [
    "df_model.head()"
   ]
  },
  {
   "cell_type": "code",
   "execution_count": null,
   "metadata": {},
   "outputs": [],
   "source": [
    "# doing scaling and encoding before create X and y\n",
    "\n",
    "cols = df_model.columns[1:]\n",
    "\n",
    "ss = StandardScaler()\n",
    "df_model[cols] = ss.fit_transform(df_model[cols])\n",
    "\n",
    "le = LabelEncoder()\n",
    "df_model['sport'] = le.fit_transform(df_model['sport'])"
   ]
  },
  {
   "cell_type": "code",
   "execution_count": null,
   "metadata": {},
   "outputs": [],
   "source": [
    "# create feature and target. next perform train_test_split\n",
    "\n",
    "X = df_model.drop(columns='sport').values\n",
    "y = df_model['sport'].values\n",
    "\n",
    "#le = LabelEncoder()\n",
    "#y = le.fit_transform(y)\n",
    "\n",
    "X_train, X_test, y_train, y_test = train_test_split(X, y, train_size=0.7, test_size=0.3,stratify=y,random_state=3050)"
   ]
  },
  {
   "cell_type": "code",
   "execution_count": null,
   "metadata": {},
   "outputs": [],
   "source": [
    "# ss = StandardScaler()\n",
    "# ss.fit(X_train)\n",
    "\n",
    "# X_train = ss.transform(X_train)\n",
    "# X_test = ss.transform(X_test)"
   ]
  },
  {
   "cell_type": "code",
   "execution_count": null,
   "metadata": {},
   "outputs": [],
   "source": [
    "df_model.head()"
   ]
  },
  {
   "cell_type": "markdown",
   "metadata": {},
   "source": [
    "### Handle Imbalance Data"
   ]
  },
  {
   "cell_type": "code",
   "execution_count": null,
   "metadata": {},
   "outputs": [],
   "source": [
    "# check before upsample/downsample\n",
    "\n",
    "print(X_train.shape)\n",
    "print(X_test.shape)\n",
    "print(y_train.shape)\n",
    "print(y_test.shape)"
   ]
  },
  {
   "cell_type": "code",
   "execution_count": null,
   "metadata": {},
   "outputs": [],
   "source": [
    "# check before upsample/downsample\n",
    "\n",
    "unique, counts = np.unique(y_train, return_counts=True)\n",
    "dict(zip(unique, counts))"
   ]
  },
  {
   "cell_type": "code",
   "execution_count": null,
   "metadata": {},
   "outputs": [],
   "source": [
    "# sm = SMOTE(random_state=3050)\n",
    "# X_train, y_train = sm.fit_sample(X_train, y_train.ravel())"
   ]
  },
  {
   "cell_type": "code",
   "execution_count": null,
   "metadata": {},
   "outputs": [],
   "source": [
    "# get majority class index and row count\n",
    "\n",
    "sport_counts = df_model['sport'].value_counts()\n",
    "print(sport_counts)\n",
    "\n",
    "major_class_index = sport_counts.index[0]\n",
    "major_class_count = sport_counts.values[0]\n",
    "print(major_class_index,major_class_count)"
   ]
  },
  {
   "cell_type": "code",
   "execution_count": null,
   "metadata": {},
   "outputs": [],
   "source": [
    "# perform upsampling and downsampling\n",
    "\n",
    "sample_size = 10000\n",
    "\n",
    "df_all_sample = pd.DataFrame()\n",
    "\n",
    "sport_list = df_model['sport'].unique()\n",
    "\n",
    "for sport in sport_list:\n",
    "    \n",
    "    cond = df_model['sport'] == sport\n",
    "    df_sport = df_model[cond]\n",
    "    \n",
    "    # perform downsampling\n",
    "    if sport_counts[sport] >= sample_size:    \n",
    "        print('downsampling',sport,sport_counts[sport])\n",
    "        df_sample = df_sport.sample(sample_size,replace=False,random_state=3050)\n",
    "        \n",
    "    # perform upsampling\n",
    "    # sport_counts[sport] < sample_size: \n",
    "    else:\n",
    "        print('upsampling',sport,sport_counts[sport])\n",
    "        df_sample = df_sport.sample(sample_size,replace=True,random_state=3050)\n",
    "        \n",
    "    df_all_sample = pd.concat([df_all_sample, df_sample], axis=0)\n",
    "    \n",
    "X_train = df_all_sample.drop(columns='sport').values\n",
    "y_train = df_all_sample['sport'].values"
   ]
  },
  {
   "cell_type": "code",
   "execution_count": null,
   "metadata": {},
   "outputs": [],
   "source": [
    "# # perform upsampling for minority classes\n",
    "\n",
    "# df_all_sample = pd.DataFrame()\n",
    "\n",
    "# sport_list = df_model['sport'].unique()\n",
    "\n",
    "# for sport in sport_list:\n",
    "    \n",
    "#     if sport != major_class_index:\n",
    "        \n",
    "#         cond = df_model['sport'] == sport\n",
    "#         df_sport = df_model[cond]\n",
    "#         #print(sport,len(df_sport))\n",
    "        \n",
    "#         df_sample = df_sport.sample(major_class_count,replace=True,random_state=3050)\n",
    "#         df_all_sample = pd.concat([df_all_sample, df_sample], axis=0)\n",
    "        \n",
    "# cond = df_model['sport'] == major_class_index\n",
    "# df_top = df_model[cond]\n",
    "# df_all_sample = pd.concat([df_all_sample, df_top], axis=0)\n",
    "\n",
    "# X_train = df_all_sample.drop(columns='sport').values\n",
    "# y_train = df_all_sample['sport'].values"
   ]
  },
  {
   "cell_type": "code",
   "execution_count": null,
   "metadata": {},
   "outputs": [],
   "source": [
    "# check after upsample/downsample\n",
    "\n",
    "print(X_train.shape)\n",
    "print(X_test.shape)\n",
    "print(y_train.shape)\n",
    "print(y_test.shape)"
   ]
  },
  {
   "cell_type": "code",
   "execution_count": null,
   "metadata": {},
   "outputs": [],
   "source": [
    "# check after upsample/downsample\n",
    "\n",
    "unique, counts = np.unique(y_train, return_counts=True)\n",
    "dict(zip(unique, counts))"
   ]
  },
  {
   "cell_type": "markdown",
   "metadata": {},
   "source": [
    "### Logistic Regresion Model"
   ]
  },
  {
   "cell_type": "code",
   "execution_count": null,
   "metadata": {},
   "outputs": [],
   "source": [
    "# init model\n",
    "\n",
    "logreg = LogisticRegression()"
   ]
  },
  {
   "cell_type": "code",
   "execution_count": null,
   "metadata": {},
   "outputs": [],
   "source": [
    "# perform cross validation\n",
    "\n",
    "score = cross_val_score(logreg,X,y,cv=5)\n",
    "print('score:',score.mean(),score)"
   ]
  },
  {
   "cell_type": "code",
   "execution_count": null,
   "metadata": {},
   "outputs": [],
   "source": [
    "# fit model\n",
    "\n",
    "logreg.fit(X_train, y_train)\n",
    "\n",
    "# score model\n",
    "print(\"train r2:\",logreg.score(X_train, y_train))\n",
    "print(\"test r2:\",logreg.score(X_test, y_test))"
   ]
  },
  {
   "cell_type": "code",
   "execution_count": null,
   "metadata": {},
   "outputs": [],
   "source": [
    "# confusion matrix\n",
    "print('rows:actual columns:predicted')\n",
    "\n",
    "y_pred = logreg.predict(X_test)\n",
    "cm = confusion_matrix(y_test, y_pred)\n",
    "pd.DataFrame(data=cm, columns=le.classes_, index=le.classes_)\n",
    "\n",
    "# y_pred = logreg.predict_proba(X_test)\n",
    "# pd.DataFrame(y_pred,columns=le.classes_) "
   ]
  },
  {
   "cell_type": "markdown",
   "metadata": {},
   "source": [
    "### KNN Model"
   ]
  },
  {
   "cell_type": "code",
   "execution_count": null,
   "metadata": {},
   "outputs": [],
   "source": [
    "# init model\n",
    "\n",
    "knn = KNeighborsClassifier()"
   ]
  },
  {
   "cell_type": "code",
   "execution_count": null,
   "metadata": {},
   "outputs": [],
   "source": [
    "# perform cross validation\n",
    "\n",
    "score = cross_val_score(knn,X,y,cv=5)\n",
    "print('score:',score.mean(),score)"
   ]
  },
  {
   "cell_type": "code",
   "execution_count": null,
   "metadata": {},
   "outputs": [],
   "source": [
    "# fit model\n",
    "\n",
    "knn.fit(X_train, y_train)\n",
    "\n",
    "# score model\n",
    "print(\"train r2:\",knn.score(X_train, y_train))\n",
    "print(\"test r2:\",knn.score(X_test, y_test))"
   ]
  },
  {
   "cell_type": "code",
   "execution_count": null,
   "metadata": {},
   "outputs": [],
   "source": [
    "# confusion matrix\n",
    "print('rows:actual columns:predicted')\n",
    "\n",
    "y_pred = knn.predict(X_test)\n",
    "cm = confusion_matrix(y_test, y_pred)\n",
    "pd.DataFrame(data=cm, columns=le.classes_, index=le.classes_)\n",
    "\n",
    "# y_pred = knn.predict_proba(X_test)\n",
    "# pd.DataFrame(y_pred,columns=le.classes_)"
   ]
  },
  {
   "cell_type": "markdown",
   "metadata": {},
   "source": [
    "### DTC Model"
   ]
  },
  {
   "cell_type": "code",
   "execution_count": null,
   "metadata": {},
   "outputs": [],
   "source": [
    "# init model\n",
    "\n",
    "dtc = DecisionTreeClassifier(max_depth=10,random_state=3050)"
   ]
  },
  {
   "cell_type": "code",
   "execution_count": null,
   "metadata": {},
   "outputs": [],
   "source": [
    "# perform cross validation\n",
    "\n",
    "score = cross_val_score(dtc,X,y,cv=5)\n",
    "print(score.mean(),score)"
   ]
  },
  {
   "cell_type": "code",
   "execution_count": null,
   "metadata": {},
   "outputs": [],
   "source": [
    "# fit model\n",
    "dtc = dtc.fit(X_train,y_train)\n",
    "\n",
    "# score model\n",
    "print(\"train r2:\",dtc.score(X_train, y_train))\n",
    "print(\"test r2:\",dtc.score(X_test, y_test))"
   ]
  },
  {
   "cell_type": "code",
   "execution_count": null,
   "metadata": {},
   "outputs": [],
   "source": [
    "# confusion matrix\n",
    "print('rows:actual columns:predicted')\n",
    "\n",
    "y_pred = dtc.predict(X_test)\n",
    "cm = confusion_matrix(y_test, y_pred)\n",
    "pd.DataFrame(data=cm, columns=le.classes_, index=le.classes_)\n",
    "\n",
    "# y_pred = dtc.predict_proba(X_test)\n",
    "# pd.DataFrame(y_pred,columns=le.classes_)"
   ]
  },
  {
   "cell_type": "code",
   "execution_count": null,
   "metadata": {},
   "outputs": [],
   "source": [
    "# # initialize the output file object\n",
    "# dot_data = StringIO() \n",
    "\n",
    "# # my fit DecisionTreeRegressor object here is: dtr1\n",
    "# # for feature_names i put the columns of my Xr matrix\n",
    "# export_graphviz(dtc, \n",
    "#                 out_file=dot_data,  \n",
    "#                 filled=True, \n",
    "#                 rounded=True,\n",
    "#                 special_characters=True,\n",
    "#                 feature_names=df_model[features].columns\n",
    "#                )  \n",
    "\n",
    "# graph = pydotplus.graph_from_dot_data(dot_data.getvalue())  \n",
    "# Image(graph.create_png())"
   ]
  },
  {
   "cell_type": "markdown",
   "metadata": {},
   "source": [
    "### RFC Model"
   ]
  },
  {
   "cell_type": "code",
   "execution_count": null,
   "metadata": {},
   "outputs": [],
   "source": [
    "# init model\n",
    "\n",
    "rfc = RandomForestClassifier(n_estimators=10,max_depth=10,n_jobs=2, random_state=3050)"
   ]
  },
  {
   "cell_type": "code",
   "execution_count": null,
   "metadata": {},
   "outputs": [],
   "source": [
    "# perform cross validation\n",
    "\n",
    "score = cross_val_score(rfc,X,y,cv=5)\n",
    "print(score.mean(),score)"
   ]
  },
  {
   "cell_type": "code",
   "execution_count": null,
   "metadata": {},
   "outputs": [],
   "source": [
    "# fit model\n",
    "rfc = rfc.fit(X_train,y_train)\n",
    "\n",
    "# score model\n",
    "print(\"train r2:\",rfc.score(X_train, y_train))\n",
    "print(\"test r2:\",rfc.score(X_test, y_test))"
   ]
  },
  {
   "cell_type": "code",
   "execution_count": null,
   "metadata": {},
   "outputs": [],
   "source": [
    "# confusion matrix\n",
    "print('rows:actual columns:predicted')\n",
    "\n",
    "y_pred = rfc.predict(X_test)\n",
    "cm = confusion_matrix(y_test, y_pred)\n",
    "pd.DataFrame(data=cm, columns=le.classes_, index=le.classes_)\n",
    "\n",
    "# y_pred = rfc.predict_proba(X_test)\n",
    "# pd.DataFrame(y_pred,columns=le.classes_)"
   ]
  },
  {
   "cell_type": "markdown",
   "metadata": {},
   "source": [
    "### GridSearch Model"
   ]
  },
  {
   "cell_type": "code",
   "execution_count": null,
   "metadata": {},
   "outputs": [],
   "source": [
    "# init models\n",
    "\n",
    "estimators = {\n",
    "    'lr': LogisticRegression(),\n",
    "    'knn': KNeighborsClassifier(n_neighbors=5),\n",
    "    'dtc': DecisionTreeClassifier(),\n",
    "    'rfc': RandomForestClassifier(),\n",
    "    'abc': AdaBoostClassifier(),\n",
    "    'gbc': GradientBoostingClassifier()\n",
    "}.items()"
   ]
  },
  {
   "cell_type": "code",
   "execution_count": null,
   "metadata": {},
   "outputs": [],
   "source": [
    "# init model parameters\n",
    "\n",
    "params = {\n",
    "    'lr': {\n",
    "\n",
    "    },\n",
    "    'knn': {\n",
    "        'knn__n_neighbors': [3,5,7,9]\n",
    "    },\n",
    "\n",
    "    'dtc': {\n",
    "        'dtc__max_features': ['auto', 'log2', None],\n",
    "        'dtc__max_depth': [None, 5, 10, 15],\n",
    "        'dtc__min_samples_split': np.linspace(0.1, 0.5, 5)\n",
    "    },\n",
    "    'rfc': {\n",
    "        'rfc__n_estimators': [10, 20, 50, 100],\n",
    "        'rfc__max_depth': [None, 5, 10, 15],\n",
    "        'rfc__max_features': ['auto', 'log2', None],\n",
    "        'rfc__min_samples_split': np.linspace(0.1, 0.5, 5)\n",
    "    },\n",
    "    'abc': {\n",
    "\n",
    "    }, \n",
    "    'gbc': {\n",
    "\n",
    "    }\n",
    "}"
   ]
  },
  {
   "cell_type": "code",
   "execution_count": null,
   "metadata": {
    "scrolled": false
   },
   "outputs": [],
   "source": [
    "models = []\n",
    "parameters = []\n",
    "best_score = []\n",
    "roc_auc = []\n",
    "\n",
    "for k,v in estimators:\n",
    "    \n",
    "    pipe = Pipeline([\n",
    "        ('sc', StandardScaler()),\n",
    "        (k,v)])\n",
    "    \n",
    "    gridsearch = GridSearchCV(\n",
    "        estimator=pipe,\n",
    "        param_grid=params[k],\n",
    "        verbose=1,\n",
    "        cv= 5,\n",
    "        n_jobs=3,\n",
    "        return_train_score= True\n",
    "        #scoring = 'roc_auc'\n",
    "    )\n",
    "\n",
    "    gridsearch.fit(X_train, y_train)\n",
    "    \n",
    "    model = gridsearch.best_estimator_\n",
    "    cv_score = gridsearch.cv_results_\n",
    "    best_params = gridsearch.best_params_\n",
    "\n",
    "    # predict y\n",
    "    #y_pred = model.predict(X_test)\n",
    "    y_pred = model.predict_proba(X_test)\n",
    "    \n",
    "    # print results\n",
    "    print(\"Model: \", k)\n",
    "    print(\"Best parameters:\", best_params)\n",
    "    print(\"Best score:\", gridsearch.best_score_)\n",
    "    #print(\"AUC/ROC test:\", roc_auc_score(y_test,y_pred))\n",
    "    display(pd.DataFrame(cv_score, columns = cv_score.keys()))    \n",
    "    \n",
    "    # append info to list\n",
    "    models.append(k)\n",
    "    best_score.append(gridsearch.best_score_)\n",
    "    parameters.append(best_params)\n",
    "    #roc_auc.append(roc_auc_score(y_test,y_pred))"
   ]
  }
 ],
 "metadata": {
  "kernelspec": {
   "display_name": "Python 3",
   "language": "python",
   "name": "python3"
  },
  "language_info": {
   "codemirror_mode": {
    "name": "ipython",
    "version": 3
   },
   "file_extension": ".py",
   "mimetype": "text/x-python",
   "name": "python",
   "nbconvert_exporter": "python",
   "pygments_lexer": "ipython3",
   "version": "3.7.3"
  }
 },
 "nbformat": 4,
 "nbformat_minor": 2
}
