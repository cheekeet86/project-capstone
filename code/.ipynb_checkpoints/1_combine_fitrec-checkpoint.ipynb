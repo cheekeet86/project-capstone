{
 "cells": [
  {
   "cell_type": "markdown",
   "metadata": {},
   "source": [
    "### Contents\n",
    "\n",
    "- [EDA](#EDA)"
   ]
  },
  {
   "cell_type": "markdown",
   "metadata": {},
   "source": [
    "### Header"
   ]
  },
  {
   "cell_type": "code",
   "execution_count": 1,
   "metadata": {
    "collapsed": true
   },
   "outputs": [],
   "source": [
    "# user configuration"
   ]
  },
  {
   "cell_type": "code",
   "execution_count": 2,
   "metadata": {
    "collapsed": true
   },
   "outputs": [],
   "source": [
    "# import libraries\n",
    "\n",
    "# maths\n",
    "import scipy.stats as stats\n",
    "import numpy as np\n",
    "import pandas as pd\n",
    "#from pandas.api.types import is_numeric_dtype\n",
    "\n",
    "# visual\n",
    "import matplotlib.pyplot as plt\n",
    "%matplotlib inline\n",
    "import seaborn as sns\n",
    "sns.set_style('darkgrid')\n",
    "\n",
    "# html\n",
    "from IPython.display import Image\n",
    "from IPython.core.display import HTML\n",
    "\n",
    "# web\n",
    "import json\n",
    "\n",
    "# others\n",
    "from tqdm import tqdm\n",
    "import datetime as dt\n",
    "#import re\n",
    "#import os"
   ]
  },
  {
   "cell_type": "code",
   "execution_count": 3,
   "metadata": {
    "collapsed": true
   },
   "outputs": [],
   "source": [
    "# file paths\n",
    "\n",
    "folder = 'fitrec/'\n",
    "\n",
    "input_path = '../data/1_input/' + folder\n",
    "clean_path = '../data/2_clean/' + folder\n",
    "preprocess_path = '../data/3_preprocess/' + folder\n",
    "output_path = '../data/4_output/' + folder"
   ]
  },
  {
   "cell_type": "markdown",
   "metadata": {},
   "source": [
    "### Import Data"
   ]
  },
  {
   "cell_type": "code",
   "execution_count": 4,
   "metadata": {
    "collapsed": true
   },
   "outputs": [],
   "source": [
    "# import clean data\n",
    "\n",
    "#file = 'endomondoHR_proper_head_1000.json'\n",
    "file = 'endomondoHR_proper_head_10000.json'\n",
    "\n",
    "path = input_path + file\n",
    "\n",
    "with open(path, \"r\") as read_file:\n",
    "    data = json.load(read_file)"
   ]
  },
  {
   "cell_type": "markdown",
   "metadata": {},
   "source": [
    "### Functions"
   ]
  },
  {
   "cell_type": "code",
   "execution_count": null,
   "metadata": {
    "collapsed": true
   },
   "outputs": [],
   "source": []
  },
  {
   "cell_type": "markdown",
   "metadata": {},
   "source": [
    "### Create df"
   ]
  },
  {
   "cell_type": "code",
   "execution_count": 11,
   "metadata": {
    "collapsed": true
   },
   "outputs": [],
   "source": [
    "cols = ['id','userId','gender','timestamp','sport','speed','heart_rate','latitude','longitude','altitude']\n",
    "df = pd.DataFrame()"
   ]
  },
  {
   "cell_type": "code",
   "execution_count": 12,
   "metadata": {
    "collapsed": true
   },
   "outputs": [],
   "source": [
    "index = 1\n",
    "\n",
    "for item in data.values():\n",
    "    \n",
    "    #print(index)\n",
    "    \n",
    "    df.at[index,'id'] = index\n",
    "    df.at[index,'userId'] = item['userId']\n",
    "    df.at[index,'gender'] = item['gender']\n",
    "    df.at[index,'sport'] = item['sport']\n",
    "    \n",
    "    timestamp = item['timestamp']\n",
    "    heart_rate = item['heart_rate']\n",
    "    latitude = item['latitude']\n",
    "    longitude = item['longitude']\n",
    "    altitude = item['altitude']   \n",
    "    \n",
    "    df.at[index,'time_start'] = np.min(timestamp)\n",
    "    df.at[index,'time_end'] = np.max(timestamp)\n",
    "    df.at[index,'time_dur'] = (np.max(timestamp) - np.min(timestamp))/60\n",
    "                    \n",
    "    df.at[index,'lat_start'] = latitude[0]\n",
    "    df.at[index,'lat_end'] = latitude[-1]\n",
    "    \n",
    "    df.at[index,'lon_start'] = longitude[0]\n",
    "    df.at[index,'lon_end'] = longitude[-1]\n",
    "                    \n",
    "    df.at[index,'alt_avg'] = np.mean(altitude)\n",
    "    df.at[index,'alt_min'] = np.min(altitude)\n",
    "    df.at[index,'alt_q1'] = np.quantile(altitude,0.25)\n",
    "    df.at[index,'alt_q3'] = np.quantile(altitude,0.75)\n",
    "    df.at[index,'alt_max'] = np.max(altitude)\n",
    "                    \n",
    "    df.at[index,'hr_avg'] = np.mean(heart_rate)\n",
    "    df.at[index,'hr_min'] = np.min(heart_rate)\n",
    "    df.at[index,'hr_q1'] = np.quantile(heart_rate,0.25)\n",
    "    df.at[index,'hr_q3'] = np.quantile(heart_rate,0.75)\n",
    "    df.at[index,'hr_max'] = np.max(heart_rate)\n",
    "    \n",
    "    if 'speed' in item.keys():\n",
    "        speed = item['speed']\n",
    "        \n",
    "        df.at[index,'spd_avg'] = np.mean(speed)\n",
    "        df.at[index,'spd_min'] = np.min(speed)\n",
    "        df.at[index,'spd_q1'] = np.quantile(speed,0.25)\n",
    "        df.at[index,'spd_q3'] = np.quantile(speed,0.75)\n",
    "        df.at[index,'spd_max'] = np.max(speed)\n",
    "                    \n",
    "    index += 1"
   ]
  },
  {
   "cell_type": "markdown",
   "metadata": {},
   "source": [
    "### Import Json and Create/Output df"
   ]
  },
  {
   "cell_type": "code",
   "execution_count": null,
   "metadata": {},
   "outputs": [],
   "source": []
  },
  {
   "cell_type": "markdown",
   "metadata": {},
   "source": [
    "### Combine df"
   ]
  },
  {
   "cell_type": "code",
   "execution_count": null,
   "metadata": {},
   "outputs": [],
   "source": []
  },
  {
   "cell_type": "markdown",
   "metadata": {},
   "source": [
    "### Output df"
   ]
  },
  {
   "cell_type": "code",
   "execution_count": null,
   "metadata": {},
   "outputs": [],
   "source": []
  }
 ],
 "metadata": {
  "kernelspec": {
   "display_name": "Python 3",
   "language": "python",
   "name": "python3"
  },
  "language_info": {
   "codemirror_mode": {
    "name": "ipython",
    "version": 3
   },
   "file_extension": ".py",
   "mimetype": "text/x-python",
   "name": "python",
   "nbconvert_exporter": "python",
   "pygments_lexer": "ipython3",
   "version": "3.7.3"
  }
 },
 "nbformat": 4,
 "nbformat_minor": 2
}
