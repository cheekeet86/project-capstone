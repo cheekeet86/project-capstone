{
 "cells": [
  {
   "cell_type": "markdown",
   "metadata": {},
   "source": [
    "### Contents\n",
    "\n",
    "- [EDA](#EDA)"
   ]
  },
  {
   "cell_type": "markdown",
   "metadata": {},
   "source": [
    "### Header"
   ]
  },
  {
   "cell_type": "code",
   "execution_count": 1,
   "metadata": {},
   "outputs": [],
   "source": [
    "# user configuration"
   ]
  },
  {
   "cell_type": "code",
   "execution_count": 2,
   "metadata": {},
   "outputs": [],
   "source": [
    "# import libraries\n",
    "\n",
    "# maths\n",
    "import scipy.stats as stats\n",
    "import numpy as np\n",
    "import pandas as pd\n",
    "#from pandas.api.types import is_numeric_dtype\n",
    "\n",
    "# visual\n",
    "import matplotlib.pyplot as plt\n",
    "%matplotlib inline\n",
    "import seaborn as sns\n",
    "sns.set_style('darkgrid')\n",
    "\n",
    "# html\n",
    "from IPython.display import Image\n",
    "from IPython.core.display import HTML\n",
    "\n",
    "# web\n",
    "import json\n",
    "\n",
    "# others\n",
    "from tqdm import tqdm\n",
    "import datetime as dt\n",
    "#import re\n",
    "import os"
   ]
  },
  {
   "cell_type": "code",
   "execution_count": 3,
   "metadata": {},
   "outputs": [],
   "source": [
    "# file paths\n",
    "\n",
    "folder = 'fitrec/'\n",
    "\n",
    "input_path = '../data/1_input/' + folder\n",
    "clean_path = '../data/2_clean/' + folder\n",
    "preprocess_path = '../data/3_preprocess/' + folder\n",
    "output_path = '../data/4_output/' + folder"
   ]
  },
  {
   "cell_type": "markdown",
   "metadata": {},
   "source": [
    "### Import Data"
   ]
  },
  {
   "cell_type": "code",
   "execution_count": 4,
   "metadata": {},
   "outputs": [],
   "source": [
    "# import clean data\n",
    "\n",
    "# file = 'endomondoHR_proper_head_1000.json'\n",
    "# file = 'endomondoHR_proper_head_10000.json'\n",
    "\n",
    "# path = input_path + file\n",
    "\n",
    "# with open(path, \"r\") as read_file:\n",
    "#     data = json.load(read_file)"
   ]
  },
  {
   "cell_type": "markdown",
   "metadata": {},
   "source": [
    "### Functions"
   ]
  },
  {
   "cell_type": "code",
   "execution_count": 5,
   "metadata": {},
   "outputs": [
    {
     "name": "stdout",
     "output_type": "stream",
     "text": [
      "max_hr 180\n",
      "peak_hr 153\n",
      "cardio_hr 125\n",
      "fatburn_hr 90\n"
     ]
    }
   ],
   "source": [
    "# source: https://help.fitbit.com/articles/en_US/Help_article/1565\n",
    "\n",
    "# peak zone: hr >= 85%\n",
    "# cardio zone: 70% <= hr < 85%\n",
    "# fat burn zone: 50% <= hr < 69%\n",
    "# out of zone: hr < 50%\n",
    "\n",
    "avg_age = 40\n",
    "\n",
    "max_hr = 220 - avg_age\n",
    "peak_hr = int(max_hr * 0.85)\n",
    "cardio_hr = int(max_hr * 0.70)\n",
    "fatburn_hr = int(max_hr * 0.50)\n",
    "\n",
    "print('max_hr',max_hr)\n",
    "print('peak_hr',peak_hr)\n",
    "print('cardio_hr',cardio_hr)\n",
    "print('fatburn_hr',fatburn_hr)"
   ]
  },
  {
   "cell_type": "code",
   "execution_count": 6,
   "metadata": {},
   "outputs": [],
   "source": [
    "def compute_hr_zone(heart_rate):\n",
    "    \n",
    "    zone = [0,0,0,0]\n",
    "    \n",
    "    for hr in heart_rate:\n",
    "        \n",
    "        if hr < fatburn_hr:\n",
    "            zone[0] += 1\n",
    "        elif hr < cardio_hr:\n",
    "            zone[1] += 1\n",
    "        elif hr < peak_hr:\n",
    "            zone[2] += 1\n",
    "        else:\n",
    "            zone[3] += 1\n",
    "            \n",
    "    total = sum(zone)\n",
    "    \n",
    "    zone[0] /= round(total,3)\n",
    "    zone[1] /= round(total,3)\n",
    "    zone[2] /= round(total,3)\n",
    "    zone[3] /= round(total,3)\n",
    "                      \n",
    "    return zone           "
   ]
  },
  {
   "cell_type": "code",
   "execution_count": 7,
   "metadata": {},
   "outputs": [],
   "source": [
    "def create_df(data):\n",
    "    \n",
    "    #cols = ['id','userId','gender','timestamp','sport','speed','heart_rate','latitude','longitude','altitude']\n",
    "    df = pd.DataFrame()\n",
    "    \n",
    "    index = 0\n",
    "    \n",
    "    data_pts = 450 # omit last 50 points (exercise cooldown threshold)\n",
    "    #data_pts = 500 # all points \n",
    "\n",
    "    for key,val in data.items():\n",
    "    \n",
    "        #print(index)\n",
    "\n",
    "        df.at[index,'id'] = key\n",
    "        df.at[index,'userId'] = val['userId']\n",
    "        df.at[index,'gender'] = val['gender']\n",
    "        df.at[index,'sport'] = val['sport']\n",
    "\n",
    "        timestamp = val['timestamp'][:data_pts]\n",
    "        heart_rate = val['heart_rate'][:data_pts]\n",
    "        latitude = val['latitude'][:data_pts]\n",
    "        longitude = val['longitude'][:data_pts]\n",
    "        altitude = val['altitude'][:data_pts]\n",
    "\n",
    "        df.at[index,'time_start'] = np.min(timestamp)\n",
    "        df.at[index,'time_end'] = np.max(timestamp)\n",
    "        df.at[index,'time_dur'] = (np.max(timestamp) - np.min(timestamp))/60\n",
    "\n",
    "        df.at[index,'lat_start'] = latitude[0]\n",
    "        df.at[index,'lat_end'] = latitude[-1]\n",
    "\n",
    "        df.at[index,'lon_start'] = longitude[0]\n",
    "        df.at[index,'lon_end'] = longitude[-1]\n",
    "\n",
    "        df.at[index,'alt_avg'] = np.mean(altitude)\n",
    "        df.at[index,'alt_min'] = np.min(altitude)\n",
    "        df.at[index,'alt_q1'] = np.quantile(altitude,0.25)\n",
    "        df.at[index,'alt_q3'] = np.quantile(altitude,0.75)\n",
    "        df.at[index,'alt_max'] = np.max(altitude)\n",
    "\n",
    "        df.at[index,'hr_avg'] = np.mean(heart_rate)\n",
    "        df.at[index,'hr_min'] = np.min(heart_rate)\n",
    "        df.at[index,'hr_q1'] = np.quantile(heart_rate,0.25)\n",
    "        df.at[index,'hr_q3'] = np.quantile(heart_rate,0.75)\n",
    "        df.at[index,'hr_max'] = np.max(heart_rate)\n",
    "        \n",
    "        hr_zone = compute_hr_zone(heart_rate)\n",
    "        #print(hr_zone)\n",
    "        \n",
    "        df.at[index,'hr_outof'] = hr_zone[0]\n",
    "        df.at[index,'hr_fatburn'] = hr_zone[1]\n",
    "        df.at[index,'hr_cardio'] = hr_zone[2]\n",
    "        df.at[index,'hr_peak'] = hr_zone[3]\n",
    "\n",
    "        if 'speed' in val.keys():\n",
    "            speed = val['speed'][:data_pts]\n",
    "\n",
    "            df.at[index,'spd_avg'] = np.mean(speed)\n",
    "            df.at[index,'spd_min'] = np.min(speed)\n",
    "            df.at[index,'spd_q1'] = np.quantile(speed,0.25)\n",
    "            df.at[index,'spd_q3'] = np.quantile(speed,0.75)\n",
    "            df.at[index,'spd_max'] = np.max(speed)\n",
    "\n",
    "        index += 1\n",
    "        \n",
    "    return df"
   ]
  },
  {
   "cell_type": "markdown",
   "metadata": {},
   "source": [
    "### Import Json and Create/Output df"
   ]
  },
  {
   "cell_type": "code",
   "execution_count": 8,
   "metadata": {},
   "outputs": [
    {
     "name": "stdout",
     "output_type": "stream",
     "text": [
      "../data/1_input/fitrec/endomondoHR_proper_dist_spd/\n",
      "../data/2_clean/fitrec/endomondoHR_proper_dist_spd_summary.csv\n"
     ]
    }
   ],
   "source": [
    "# select json file for splitting\n",
    "\n",
    "file_index = 3\n",
    "\n",
    "input_filepath = [\n",
    "            \"endomondoHR/\",\n",
    "            \"endomondoMeta/\",    \n",
    "            \"endomondoHR_proper/\",\n",
    "            \"endomondoHR_proper_dist_spd/\",    \n",
    "            \"processed_endomondoHR_proper/\",\n",
    "            \"processed_endomondoHR_proper_interpolate/\"        \n",
    "            ]\n",
    "\n",
    "\n",
    "output_filepath = [\n",
    "            \"endomondoHR_summary.csv\",\n",
    "            \"endomondoMeta_summary.csv\",    \n",
    "            \"endomondoHR_proper_summary.csv\",\n",
    "            \"endomondoHR_proper_dist_spd_summary.csv\",    \n",
    "            \"processed_endomondoHR_proper_summary.csv\",\n",
    "            \"processed_endomondoHR_proper_interpolate_summary.csv\"        \n",
    "            ]\n",
    "\n",
    "# init filepaths\n",
    "\n",
    "in_path = input_path + input_filepath[file_index]\n",
    "out_path = clean_path + output_filepath[file_index]\n",
    "\n",
    "print(in_path)\n",
    "print(out_path)"
   ]
  },
  {
   "cell_type": "code",
   "execution_count": null,
   "metadata": {},
   "outputs": [],
   "source": [
    "df_all = pd.DataFrame()\n",
    "\n",
    "files = os.listdir(in_path)\n",
    "\n",
    "for file in files:\n",
    "    \n",
    "    print(file)\n",
    "    path = in_path + file\n",
    "    \n",
    "    with open(path, \"r\") as read_file:\n",
    "        \n",
    "        # load each json file\n",
    "        data = json.load(read_file)\n",
    "        \n",
    "        # create summary for json\n",
    "        df_json = create_df(data)\n",
    "        \n",
    "        # combine summary to df_all\n",
    "        df_all = df_all.append(df_json,ignore_index=True)"
   ]
  },
  {
   "cell_type": "markdown",
   "metadata": {},
   "source": [
    "### Verify df"
   ]
  },
  {
   "cell_type": "code",
   "execution_count": null,
   "metadata": {},
   "outputs": [],
   "source": [
    "print(df_all.shape)\n",
    "df_all.head()"
   ]
  },
  {
   "cell_type": "markdown",
   "metadata": {},
   "source": [
    "### Output df"
   ]
  },
  {
   "cell_type": "code",
   "execution_count": null,
   "metadata": {},
   "outputs": [],
   "source": [
    "# output combined df to csv\n",
    "\n",
    "df_all.to_csv(out_path,index=False)"
   ]
  },
  {
   "cell_type": "code",
   "execution_count": null,
   "metadata": {},
   "outputs": [],
   "source": []
  }
 ],
 "metadata": {
  "kernelspec": {
   "display_name": "Python 3",
   "language": "python",
   "name": "python3"
  },
  "language_info": {
   "codemirror_mode": {
    "name": "ipython",
    "version": 3
   },
   "file_extension": ".py",
   "mimetype": "text/x-python",
   "name": "python",
   "nbconvert_exporter": "python",
   "pygments_lexer": "ipython3",
   "version": "3.7.3"
  }
 },
 "nbformat": 4,
 "nbformat_minor": 2
}
