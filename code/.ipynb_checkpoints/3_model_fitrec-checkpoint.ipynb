{
 "cells": [
  {
   "cell_type": "markdown",
   "metadata": {},
   "source": [
    "### Contents\n",
    "\n",
    "- [EDA](#EDA)"
   ]
  },
  {
   "cell_type": "markdown",
   "metadata": {},
   "source": [
    "### Header"
   ]
  },
  {
   "cell_type": "code",
   "execution_count": 1,
   "metadata": {},
   "outputs": [],
   "source": [
    "# user configuration"
   ]
  },
  {
   "cell_type": "code",
   "execution_count": 2,
   "metadata": {},
   "outputs": [
    {
     "name": "stderr",
     "output_type": "stream",
     "text": [
      "C:\\ProgramData\\Anaconda3\\lib\\site-packages\\sklearn\\externals\\six.py:31: DeprecationWarning: The module is deprecated in version 0.21 and will be removed in version 0.23 since we've dropped support for Python 2.7. Please rely on the official version of six (https://pypi.org/project/six/).\n",
      "  \"(https://pypi.org/project/six/).\", DeprecationWarning)\n"
     ]
    }
   ],
   "source": [
    "# import libraries\n",
    "\n",
    "# maths\n",
    "import numpy as np\n",
    "import pandas as pd\n",
    "\n",
    "# visual\n",
    "#from matplotlib_venn import venn2\n",
    "import seaborn as sns\n",
    "import matplotlib.pyplot as plt\n",
    "%matplotlib inline\n",
    "import pydotplus\n",
    "\n",
    "# modelling\n",
    "from sklearn.linear_model import LinearRegression, LogisticRegression, Ridge, Lasso, ElasticNet\n",
    "from sklearn.model_selection import train_test_split,cross_val_score,GridSearchCV\n",
    "from sklearn.preprocessing import StandardScaler,PolynomialFeatures,LabelEncoder\n",
    "from sklearn.metrics import roc_auc_score, roc_curve, confusion_matrix,accuracy_score,r2_score,mean_squared_error\n",
    "from sklearn.pipeline import Pipeline\n",
    "from sklearn.utils import resample, shuffle\n",
    "from sklearn.neighbors import KNeighborsRegressor, KNeighborsClassifier\n",
    "from sklearn.tree import DecisionTreeClassifier,export_graphviz\n",
    "from sklearn.ensemble import AdaBoostClassifier,RandomForestClassifier, RandomForestRegressor, GradientBoostingClassifier\n",
    "from sklearn.externals.six import StringIO \n",
    "\n",
    "# Others\n",
    "import warnings\n",
    "warnings.filterwarnings(\"ignore\")\n",
    "from IPython.display import Image"
   ]
  },
  {
   "cell_type": "code",
   "execution_count": 3,
   "metadata": {},
   "outputs": [],
   "source": [
    "# file paths\n",
    "\n",
    "folder = 'fitrec/'\n",
    "\n",
    "input_path = '../data/1_input/' + folder\n",
    "clean_path = '../data/2_clean/' + folder\n",
    "preprocess_path = '../data/3_preprocess/' + folder\n",
    "output_path = '../data/4_output/' + folder"
   ]
  },
  {
   "cell_type": "markdown",
   "metadata": {},
   "source": [
    "### Import Data"
   ]
  },
  {
   "cell_type": "code",
   "execution_count": 4,
   "metadata": {},
   "outputs": [],
   "source": [
    "# import data\n",
    "\n",
    "file = 'endomondoHR_proper_summary.csv'\n",
    "in_path = clean_path + file\n",
    "\n",
    "df = pd.read_csv(in_path)"
   ]
  },
  {
   "cell_type": "markdown",
   "metadata": {},
   "source": [
    "### Functions"
   ]
  },
  {
   "cell_type": "code",
   "execution_count": null,
   "metadata": {},
   "outputs": [],
   "source": []
  },
  {
   "cell_type": "markdown",
   "metadata": {},
   "source": [
    "### Pre-process Data"
   ]
  },
  {
   "cell_type": "code",
   "execution_count": 5,
   "metadata": {},
   "outputs": [
    {
     "name": "stdout",
     "output_type": "stream",
     "text": [
      "167783\n",
      "167220\n"
     ]
    }
   ],
   "source": [
    "print(len(df))\n",
    "\n",
    "cond_1 = df['hr_avg'] > 60\n",
    "cond_2 = df['hr_min'] > 0\n",
    "cond_3 = df['hr_q1'] > 0\n",
    "cond_4 = df['hr_q3'] > 0\n",
    "cond_5 = df['hr_max'] > 0\n",
    "\n",
    "df = df[cond_1 & cond_2 & cond_3 & cond_4 & cond_5]\n",
    "\n",
    "print(len(df))"
   ]
  },
  {
   "cell_type": "code",
   "execution_count": 6,
   "metadata": {},
   "outputs": [
    {
     "name": "stdout",
     "output_type": "stream",
     "text": [
      "167220\n",
      "31672\n"
     ]
    }
   ],
   "source": [
    "print(len(df))\n",
    "df.dropna(subset=['spd_avg'],inplace=True)\n",
    "print(len(df))"
   ]
  },
  {
   "cell_type": "code",
   "execution_count": 7,
   "metadata": {},
   "outputs": [
    {
     "data": {
      "text/plain": [
       "Index(['id', 'userId', 'gender', 'sport', 'time_start', 'time_end', 'time_dur',\n",
       "       'lat_start', 'lat_end', 'lon_start', 'lon_end', 'alt_avg', 'alt_min',\n",
       "       'alt_q1', 'alt_q3', 'alt_max', 'hr_avg', 'hr_min', 'hr_q1', 'hr_q3',\n",
       "       'hr_max', 'spd_avg', 'spd_min', 'spd_q1', 'spd_q3', 'spd_max'],\n",
       "      dtype='object')"
      ]
     },
     "execution_count": 7,
     "metadata": {},
     "output_type": "execute_result"
    }
   ],
   "source": [
    "df.columns"
   ]
  },
  {
   "cell_type": "code",
   "execution_count": 8,
   "metadata": {},
   "outputs": [
    {
     "data": {
      "text/plain": [
       "bike                       17093\n",
       "run                        11532\n",
       "bike (transport)            1047\n",
       "mountain bike               1012\n",
       "indoor cycling               750\n",
       "walk                         102\n",
       "fitness walking               30\n",
       "cross-country skiing          29\n",
       "core stability training       20\n",
       "roller skiing                 19\n",
       "skate                         12\n",
       "orienteering                  11\n",
       "kayaking                      10\n",
       "hiking                         4\n",
       "horseback riding               1\n",
       "Name: sport, dtype: int64"
      ]
     },
     "execution_count": 8,
     "metadata": {},
     "output_type": "execute_result"
    }
   ],
   "source": [
    "df['sport'].value_counts()"
   ]
  },
  {
   "cell_type": "code",
   "execution_count": 9,
   "metadata": {},
   "outputs": [],
   "source": [
    "df['sport'].replace('treadmill running','run',inplace=True)\n",
    "df['sport'].replace(['treadmill walking','fitness walking'],'walk',inplace=True)\n",
    "df['sport'].replace(['bike','mountain bike','bike (transport)','indoor cycling'],'cycle',inplace=True)\n",
    "df['sport'].replace(['windsurfing','kite surfing'],'surfing',inplace=True)\n",
    "df['sport'].replace(['cross-country skiing','downhill skiing','roller skiing'],'skiing',inplace=True)\n",
    "df['sport'].replace('pilates','yoga',inplace=True)"
   ]
  },
  {
   "cell_type": "code",
   "execution_count": 10,
   "metadata": {},
   "outputs": [
    {
     "data": {
      "text/plain": [
       "cycle                      19902\n",
       "run                        11532\n",
       "walk                         132\n",
       "skiing                        48\n",
       "core stability training       20\n",
       "skate                         12\n",
       "orienteering                  11\n",
       "kayaking                      10\n",
       "hiking                         4\n",
       "horseback riding               1\n",
       "Name: sport, dtype: int64"
      ]
     },
     "execution_count": 10,
     "metadata": {},
     "output_type": "execute_result"
    }
   ],
   "source": [
    "df['sport'].value_counts()"
   ]
  },
  {
   "cell_type": "code",
   "execution_count": 11,
   "metadata": {},
   "outputs": [],
   "source": [
    "# cols = ['sport', 'time_dur', 'alt_avg', 'alt_min', 'alt_q1', 'alt_q3',\n",
    "#        'alt_max', 'hr_avg', 'hr_min', 'hr_q1', 'hr_q3', 'hr_max']\n",
    "#cols = ['sport','hr_avg', 'hr_min', 'hr_q1', 'hr_q3', 'hr_max']\n",
    "cols = ['sport','hr_avg', 'hr_min', 'hr_q1', 'hr_q3', 'hr_max','spd_avg', 'spd_min', 'spd_q1', 'spd_q3', 'spd_max']\n",
    "\n",
    "df_model = df[cols]"
   ]
  },
  {
   "cell_type": "code",
   "execution_count": 12,
   "metadata": {},
   "outputs": [],
   "source": [
    "count = df_model['sport'].value_counts()\n",
    "\n",
    "count_cond = count[count > 1].index\n",
    "#count_cond = count[count >= 5].index\n",
    "#count_cond = count[count >= 10].index\n",
    "#count_cond = count[count >= 50].index\n",
    "#count_cond = count[count >= 100].index\n",
    "\n",
    "count_mask = df_model['sport'].isin(count_cond)\n",
    "df_model = df_model[count_mask]"
   ]
  },
  {
   "cell_type": "code",
   "execution_count": 13,
   "metadata": {},
   "outputs": [
    {
     "name": "stdout",
     "output_type": "stream",
     "text": [
      "(31671, 11)\n"
     ]
    },
    {
     "data": {
      "text/html": [
       "<div>\n",
       "<style scoped>\n",
       "    .dataframe tbody tr th:only-of-type {\n",
       "        vertical-align: middle;\n",
       "    }\n",
       "\n",
       "    .dataframe tbody tr th {\n",
       "        vertical-align: top;\n",
       "    }\n",
       "\n",
       "    .dataframe thead th {\n",
       "        text-align: right;\n",
       "    }\n",
       "</style>\n",
       "<table border=\"1\" class=\"dataframe\">\n",
       "  <thead>\n",
       "    <tr style=\"text-align: right;\">\n",
       "      <th></th>\n",
       "      <th>sport</th>\n",
       "      <th>hr_avg</th>\n",
       "      <th>hr_min</th>\n",
       "      <th>hr_q1</th>\n",
       "      <th>hr_q3</th>\n",
       "      <th>hr_max</th>\n",
       "      <th>spd_avg</th>\n",
       "      <th>spd_min</th>\n",
       "      <th>spd_q1</th>\n",
       "      <th>spd_q3</th>\n",
       "      <th>spd_max</th>\n",
       "    </tr>\n",
       "  </thead>\n",
       "  <tbody>\n",
       "    <tr>\n",
       "      <th>0</th>\n",
       "      <td>cycle</td>\n",
       "      <td>152.650</td>\n",
       "      <td>100.0</td>\n",
       "      <td>146.0</td>\n",
       "      <td>160.0</td>\n",
       "      <td>177.0</td>\n",
       "      <td>26.162158</td>\n",
       "      <td>3.8592</td>\n",
       "      <td>19.8972</td>\n",
       "      <td>31.7313</td>\n",
       "      <td>57.4596</td>\n",
       "    </tr>\n",
       "    <tr>\n",
       "      <th>1</th>\n",
       "      <td>cycle</td>\n",
       "      <td>147.710</td>\n",
       "      <td>100.0</td>\n",
       "      <td>140.0</td>\n",
       "      <td>156.0</td>\n",
       "      <td>174.0</td>\n",
       "      <td>27.218369</td>\n",
       "      <td>8.0820</td>\n",
       "      <td>21.8106</td>\n",
       "      <td>31.9257</td>\n",
       "      <td>54.7704</td>\n",
       "    </tr>\n",
       "    <tr>\n",
       "      <th>2</th>\n",
       "      <td>cycle</td>\n",
       "      <td>140.554</td>\n",
       "      <td>99.0</td>\n",
       "      <td>133.0</td>\n",
       "      <td>149.0</td>\n",
       "      <td>168.0</td>\n",
       "      <td>26.050774</td>\n",
       "      <td>0.0000</td>\n",
       "      <td>20.5992</td>\n",
       "      <td>31.0365</td>\n",
       "      <td>59.2092</td>\n",
       "    </tr>\n",
       "    <tr>\n",
       "      <th>3</th>\n",
       "      <td>cycle</td>\n",
       "      <td>147.020</td>\n",
       "      <td>99.0</td>\n",
       "      <td>140.0</td>\n",
       "      <td>155.0</td>\n",
       "      <td>178.0</td>\n",
       "      <td>26.877838</td>\n",
       "      <td>4.3272</td>\n",
       "      <td>21.4848</td>\n",
       "      <td>31.2651</td>\n",
       "      <td>57.9852</td>\n",
       "    </tr>\n",
       "    <tr>\n",
       "      <th>6</th>\n",
       "      <td>cycle</td>\n",
       "      <td>166.084</td>\n",
       "      <td>118.0</td>\n",
       "      <td>162.0</td>\n",
       "      <td>174.0</td>\n",
       "      <td>185.0</td>\n",
       "      <td>29.592281</td>\n",
       "      <td>7.2180</td>\n",
       "      <td>23.7726</td>\n",
       "      <td>35.2998</td>\n",
       "      <td>50.9724</td>\n",
       "    </tr>\n",
       "  </tbody>\n",
       "</table>\n",
       "</div>"
      ],
      "text/plain": [
       "   sport   hr_avg  hr_min  hr_q1  hr_q3  hr_max    spd_avg  spd_min   spd_q1  \\\n",
       "0  cycle  152.650   100.0  146.0  160.0   177.0  26.162158   3.8592  19.8972   \n",
       "1  cycle  147.710   100.0  140.0  156.0   174.0  27.218369   8.0820  21.8106   \n",
       "2  cycle  140.554    99.0  133.0  149.0   168.0  26.050774   0.0000  20.5992   \n",
       "3  cycle  147.020    99.0  140.0  155.0   178.0  26.877838   4.3272  21.4848   \n",
       "6  cycle  166.084   118.0  162.0  174.0   185.0  29.592281   7.2180  23.7726   \n",
       "\n",
       "    spd_q3  spd_max  \n",
       "0  31.7313  57.4596  \n",
       "1  31.9257  54.7704  \n",
       "2  31.0365  59.2092  \n",
       "3  31.2651  57.9852  \n",
       "6  35.2998  50.9724  "
      ]
     },
     "execution_count": 13,
     "metadata": {},
     "output_type": "execute_result"
    }
   ],
   "source": [
    "print(df_model.shape)\n",
    "df_model.head()"
   ]
  },
  {
   "cell_type": "code",
   "execution_count": 14,
   "metadata": {},
   "outputs": [
    {
     "data": {
      "text/plain": [
       "cycle                      19902\n",
       "run                        11532\n",
       "walk                         132\n",
       "skiing                        48\n",
       "core stability training       20\n",
       "skate                         12\n",
       "orienteering                  11\n",
       "kayaking                      10\n",
       "hiking                         4\n",
       "Name: sport, dtype: int64"
      ]
     },
     "execution_count": 14,
     "metadata": {},
     "output_type": "execute_result"
    }
   ],
   "source": [
    "df_model['sport'].value_counts()"
   ]
  },
  {
   "cell_type": "markdown",
   "metadata": {},
   "source": [
    "### Plot df_model"
   ]
  },
  {
   "cell_type": "code",
   "execution_count": 15,
   "metadata": {},
   "outputs": [
    {
     "data": {
      "image/png": "[encoded data removed]",
      "text/plain": [
       "<Figure size 1440x1080 with 1 Axes>"
      ]
     },
     "metadata": {
      "needs_background": "light"
     },
     "output_type": "display_data"
    }
   ],
   "source": [
    "order = df_model.groupby('sport')['hr_max'].median().sort_values(ascending=False).index\n",
    "\n",
    "plt.figure(figsize=(20,15))\n",
    "#plt.xlim(0,300)\n",
    "\n",
    "sns.boxplot(data=df_model,x='hr_max',y='sport',order=order);"
   ]
  },
  {
   "cell_type": "code",
   "execution_count": 16,
   "metadata": {},
   "outputs": [
    {
     "data": {
      "image/png": "[encoded data removed]",
      "text/plain": [
       "<Figure size 1440x1080 with 1 Axes>"
      ]
     },
     "metadata": {
      "needs_background": "light"
     },
     "output_type": "display_data"
    }
   ],
   "source": [
    "order = df_model.groupby('sport')['hr_avg'].median().sort_values(ascending=False).index\n",
    "\n",
    "plt.figure(figsize=(20,15))\n",
    "#plt.xlim(0,300)\n",
    "\n",
    "sns.boxplot(data=df_model,x='hr_avg',y='sport',order=order);"
   ]
  },
  {
   "cell_type": "code",
   "execution_count": 17,
   "metadata": {},
   "outputs": [
    {
     "data": {
      "image/png": "[encoded data removed]",
      "text/plain": [
       "<Figure size 1440x1080 with 1 Axes>"
      ]
     },
     "metadata": {
      "needs_background": "light"
     },
     "output_type": "display_data"
    }
   ],
   "source": [
    "order = df_model.groupby('sport')['hr_min'].median().sort_values(ascending=False).index\n",
    "\n",
    "plt.figure(figsize=(20,15))\n",
    "#plt.xlim(0,300)\n",
    "\n",
    "sns.boxplot(data=df_model,x='hr_min',y='sport',order=order);"
   ]
  },
  {
   "cell_type": "markdown",
   "metadata": {},
   "source": [
    "### Create Features and Target"
   ]
  },
  {
   "cell_type": "code",
   "execution_count": 18,
   "metadata": {},
   "outputs": [],
   "source": [
    "target = 'sport'\n",
    "features = [x for x in df_model.columns if x != target]\n",
    "\n",
    "X = df_model[features].values\n",
    "y = df_model[target].values\n",
    "\n",
    "le = LabelEncoder()\n",
    "y = le.fit_transform(y)\n",
    "\n",
    "X_train, X_test, y_train, y_test = train_test_split(X, y, train_size=0.8, test_size=0.2,stratify=y,random_state=3050)"
   ]
  },
  {
   "cell_type": "code",
   "execution_count": 19,
   "metadata": {},
   "outputs": [],
   "source": [
    "ss = StandardScaler()\n",
    "ss.fit(X_train)\n",
    "\n",
    "X_train = ss.transform(X_train)\n",
    "X_test = ss.transform(X_test)"
   ]
  },
  {
   "cell_type": "code",
   "execution_count": 20,
   "metadata": {},
   "outputs": [
    {
     "name": "stdout",
     "output_type": "stream",
     "text": [
      "(25336, 10)\n",
      "(6335, 10)\n",
      "(25336,)\n",
      "(6335,)\n"
     ]
    }
   ],
   "source": [
    "# check\n",
    "\n",
    "print(X_train.shape)\n",
    "print(X_test.shape)\n",
    "print(y_train.shape)\n",
    "print(y_test.shape)"
   ]
  },
  {
   "cell_type": "markdown",
   "metadata": {},
   "source": [
    "### Logistic Regresion Model"
   ]
  },
  {
   "cell_type": "code",
   "execution_count": 21,
   "metadata": {},
   "outputs": [],
   "source": [
    "# init model\n",
    "\n",
    "logreg = LogisticRegression()"
   ]
  },
  {
   "cell_type": "code",
   "execution_count": 22,
   "metadata": {},
   "outputs": [
    {
     "name": "stdout",
     "output_type": "stream",
     "text": [
      "score: 0.982129544225834 [0.97980435 0.97901215 0.98626243 0.98404927 0.98151951]\n"
     ]
    }
   ],
   "source": [
    "# perform cross validation\n",
    "\n",
    "score = cross_val_score(logreg,X,y,cv=5)\n",
    "print('score:',score.mean(),score)\n",
    "\n",
    "# score: 0.6545580125487176 [0.6302521  0.66461016 0.66203607 0.65096449 0.66492724]"
   ]
  },
  {
   "cell_type": "code",
   "execution_count": 23,
   "metadata": {},
   "outputs": [
    {
     "name": "stdout",
     "output_type": "stream",
     "text": [
      "train r2: 0.9835017366592991\n",
      "test r2: 0.9810576164167324\n"
     ]
    }
   ],
   "source": [
    "# fit model\n",
    "\n",
    "logreg.fit(X_train, y_train)\n",
    "\n",
    "# score model\n",
    "print(\"train r2:\",logreg.score(X_train, y_train))\n",
    "print(\"test r2:\",logreg.score(X_test, y_test))\n",
    "\n",
    "# validate model\n",
    "y_pred = logreg.predict(X_test)\n",
    "\n",
    "# train r2: 0.6561339556433755\n",
    "# test r2: 0.6566573926868045"
   ]
  },
  {
   "cell_type": "markdown",
   "metadata": {},
   "source": [
    "### KNN Model"
   ]
  },
  {
   "cell_type": "code",
   "execution_count": 24,
   "metadata": {},
   "outputs": [],
   "source": [
    "# init model\n",
    "\n",
    "knn = KNeighborsClassifier()\n",
    "\n",
    "#n_neighbors=2\n",
    "#n_neighbors=3\n",
    "#n_neighbors=4\n",
    "#n_neighbors=5"
   ]
  },
  {
   "cell_type": "code",
   "execution_count": 25,
   "metadata": {},
   "outputs": [
    {
     "name": "stdout",
     "output_type": "stream",
     "text": [
      "score: 0.9836128312977959 [0.98232881 0.98406186 0.98736776 0.98041693 0.9838888 ]\n"
     ]
    }
   ],
   "source": [
    "# perform cross validation\n",
    "\n",
    "score = cross_val_score(knn,X,y,cv=5)\n",
    "print('score:',score.mean(),score)\n",
    "\n",
    "# score: 0.6347393701719926 [0.63162286 0.63227229 0.63261291 0.63936675 0.63782204]"
   ]
  },
  {
   "cell_type": "code",
   "execution_count": 26,
   "metadata": {},
   "outputs": [
    {
     "name": "stdout",
     "output_type": "stream",
     "text": [
      "train r2: 0.9885933059677928\n",
      "test r2: 0.9875295974743489\n"
     ]
    }
   ],
   "source": [
    "# fit model\n",
    "\n",
    "knn.fit(X_train, y_train)\n",
    "\n",
    "# score model\n",
    "print(\"train r2:\",knn.score(X_train, y_train))\n",
    "print(\"test r2:\",knn.score(X_test, y_test))\n",
    "\n",
    "# validate model\n",
    "y_pred = knn.predict(X_test)\n",
    "\n",
    "# train r2: 0.7233332197731067\n",
    "# test r2: 0.6466017488076312"
   ]
  },
  {
   "cell_type": "markdown",
   "metadata": {},
   "source": [
    "### DTC Model"
   ]
  },
  {
   "cell_type": "code",
   "execution_count": 27,
   "metadata": {},
   "outputs": [],
   "source": [
    "# init model\n",
    "\n",
    "dtc = DecisionTreeClassifier(max_depth=10,random_state=3050)"
   ]
  },
  {
   "cell_type": "code",
   "execution_count": 28,
   "metadata": {},
   "outputs": [
    {
     "name": "stdout",
     "output_type": "stream",
     "text": [
      "0.985601637444341 [0.98548438 0.98721793 0.98878888 0.98089071 0.98562628]\n"
     ]
    }
   ],
   "source": [
    "# perform cross validation\n",
    "\n",
    "score = cross_val_score(dtc,X,y,cv=5)\n",
    "print(score.mean(),score)\n",
    "\n",
    "# 0.6571859387988765 [0.6583527  0.64648903 0.65991951 0.65898453 0.66218392]"
   ]
  },
  {
   "cell_type": "code",
   "execution_count": 29,
   "metadata": {},
   "outputs": [
    {
     "name": "stdout",
     "output_type": "stream",
     "text": [
      "train r2: 0.9932112409220082\n",
      "test r2: 0.9870560378847671\n"
     ]
    }
   ],
   "source": [
    "# fit model\n",
    "dtc = dtc.fit(X_train,y_train)\n",
    "\n",
    "# score model\n",
    "print(\"train r2:\",dtc.score(X_train, y_train))\n",
    "print(\"test r2:\",dtc.score(X_test, y_test))\n",
    "\n",
    "# validate model\n",
    "y_pred = dtc.predict(X_test)\n",
    "\n",
    "# train r2: 0.6839079480802643\n",
    "# test r2: 0.6640500794912559"
   ]
  },
  {
   "cell_type": "code",
   "execution_count": 30,
   "metadata": {},
   "outputs": [],
   "source": [
    "# # initialize the output file object\n",
    "# dot_data = StringIO() \n",
    "\n",
    "# # my fit DecisionTreeRegressor object here is: dtr1\n",
    "# # for feature_names i put the columns of my Xr matrix\n",
    "# export_graphviz(dtc, \n",
    "#                 out_file=dot_data,  \n",
    "#                 filled=True, \n",
    "#                 rounded=True,\n",
    "#                 special_characters=True,\n",
    "#                 feature_names=df_model[features].columns\n",
    "#                )  \n",
    "\n",
    "# graph = pydotplus.graph_from_dot_data(dot_data.getvalue())  \n",
    "# Image(graph.create_png())"
   ]
  },
  {
   "cell_type": "markdown",
   "metadata": {},
   "source": [
    "### RFC Model"
   ]
  },
  {
   "cell_type": "code",
   "execution_count": 31,
   "metadata": {},
   "outputs": [],
   "source": [
    "# init model\n",
    "\n",
    "rfc = RandomForestClassifier(n_estimators=10,max_depth=10,n_jobs=2, random_state=3050)"
   ]
  },
  {
   "cell_type": "code",
   "execution_count": 32,
   "metadata": {},
   "outputs": [
    {
     "name": "stdout",
     "output_type": "stream",
     "text": [
      "0.9882858001836624 [0.98721994 0.98895376 0.99131533 0.98610234 0.98783762]\n"
     ]
    }
   ],
   "source": [
    "# perform cross validation\n",
    "\n",
    "score = cross_val_score(rfc,X,y,cv=5)\n",
    "print(score.mean(),score)\n",
    "\n",
    "# 0.6694373441828699 [0.66922939 0.6622556  0.67476524 0.67082079 0.6701157 ]"
   ]
  },
  {
   "cell_type": "code",
   "execution_count": 33,
   "metadata": {},
   "outputs": [
    {
     "name": "stdout",
     "output_type": "stream",
     "text": [
      "train r2: 0.992974423744869\n",
      "test r2: 0.9886345698500395\n"
     ]
    }
   ],
   "source": [
    "# fit model\n",
    "rfc = rfc.fit(X_train,y_train)\n",
    "\n",
    "# score model\n",
    "print(\"train r2:\",rfc.score(X_train, y_train))\n",
    "print(\"test r2:\",rfc.score(X_test, y_test))\n",
    "\n",
    "# validate model\n",
    "y_pred = rfc.predict(X_test)\n",
    "\n",
    "# train r2: 0.6894610431642422\n",
    "# test r2: 0.6760930047694753"
   ]
  },
  {
   "cell_type": "code",
   "execution_count": null,
   "metadata": {},
   "outputs": [],
   "source": []
  }
 ],
 "metadata": {
  "kernelspec": {
   "display_name": "Python 3",
   "language": "python",
   "name": "python3"
  },
  "language_info": {
   "codemirror_mode": {
    "name": "ipython",
    "version": 3
   },
   "file_extension": ".py",
   "mimetype": "text/x-python",
   "name": "python",
   "nbconvert_exporter": "python",
   "pygments_lexer": "ipython3",
   "version": "3.7.3"
  }
 },
 "nbformat": 4,
 "nbformat_minor": 2
}
